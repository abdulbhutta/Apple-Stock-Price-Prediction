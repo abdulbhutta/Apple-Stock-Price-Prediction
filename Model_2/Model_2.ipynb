{
  "cells": [
    {
      "cell_type": "code",
      "execution_count": 1,
      "metadata": {
        "colab": {
          "base_uri": "https://localhost:8080/"
        },
        "id": "tlRkst1fTpFD",
        "outputId": "13ba7e95-71da-46d9-d4c1-71bf65c19707"
      },
      "outputs": [
        {
          "name": "stdout",
          "output_type": "stream",
          "text": [
            "Looking in indexes: https://pypi.org/simple, https://us-python.pkg.dev/colab-wheels/public/simple/\n",
            "Requirement already satisfied: yfinance in /usr/local/lib/python3.9/dist-packages (0.2.14)\n",
            "Requirement already satisfied: numpy>=1.16.5 in /usr/local/lib/python3.9/dist-packages (from yfinance) (1.22.4)\n",
            "Requirement already satisfied: appdirs>=1.4.4 in /usr/local/lib/python3.9/dist-packages (from yfinance) (1.4.4)\n",
            "Requirement already satisfied: html5lib>=1.1 in /usr/local/lib/python3.9/dist-packages (from yfinance) (1.1)\n",
            "Requirement already satisfied: cryptography>=3.3.2 in /usr/local/lib/python3.9/dist-packages (from yfinance) (40.0.1)\n",
            "Requirement already satisfied: frozendict>=2.3.4 in /usr/local/lib/python3.9/dist-packages (from yfinance) (2.3.6)\n",
            "Requirement already satisfied: pandas>=1.3.0 in /usr/local/lib/python3.9/dist-packages (from yfinance) (1.4.4)\n",
            "Requirement already satisfied: lxml>=4.9.1 in /usr/local/lib/python3.9/dist-packages (from yfinance) (4.9.2)\n",
            "Requirement already satisfied: multitasking>=0.0.7 in /usr/local/lib/python3.9/dist-packages (from yfinance) (0.0.11)\n",
            "Requirement already satisfied: beautifulsoup4>=4.11.1 in /usr/local/lib/python3.9/dist-packages (from yfinance) (4.11.2)\n",
            "Requirement already satisfied: pytz>=2022.5 in /usr/local/lib/python3.9/dist-packages (from yfinance) (2022.7.1)\n",
            "Requirement already satisfied: requests>=2.26 in /usr/local/lib/python3.9/dist-packages (from yfinance) (2.27.1)\n",
            "Requirement already satisfied: soupsieve>1.2 in /usr/local/lib/python3.9/dist-packages (from beautifulsoup4>=4.11.1->yfinance) (2.4)\n",
            "Requirement already satisfied: cffi>=1.12 in /usr/local/lib/python3.9/dist-packages (from cryptography>=3.3.2->yfinance) (1.15.1)\n",
            "Requirement already satisfied: six>=1.9 in /usr/local/lib/python3.9/dist-packages (from html5lib>=1.1->yfinance) (1.16.0)\n",
            "Requirement already satisfied: webencodings in /usr/local/lib/python3.9/dist-packages (from html5lib>=1.1->yfinance) (0.5.1)\n",
            "Requirement already satisfied: python-dateutil>=2.8.1 in /usr/local/lib/python3.9/dist-packages (from pandas>=1.3.0->yfinance) (2.8.2)\n",
            "Requirement already satisfied: charset-normalizer~=2.0.0 in /usr/local/lib/python3.9/dist-packages (from requests>=2.26->yfinance) (2.0.12)\n",
            "Requirement already satisfied: urllib3<1.27,>=1.21.1 in /usr/local/lib/python3.9/dist-packages (from requests>=2.26->yfinance) (1.26.15)\n",
            "Requirement already satisfied: idna<4,>=2.5 in /usr/local/lib/python3.9/dist-packages (from requests>=2.26->yfinance) (3.4)\n",
            "Requirement already satisfied: certifi>=2017.4.17 in /usr/local/lib/python3.9/dist-packages (from requests>=2.26->yfinance) (2022.12.7)\n",
            "Requirement already satisfied: pycparser in /usr/local/lib/python3.9/dist-packages (from cffi>=1.12->cryptography>=3.3.2->yfinance) (2.21)\n"
          ]
        }
      ],
      "source": [
        "!pip install yfinance\n",
        "import yfinance as yf\n",
        "import pandas as pd\n",
        "import numpy as np\n",
        "import math \n",
        "import matplotlib.pyplot as plt\n",
        "import tensorflow as tf\n",
        "from sklearn.preprocessing import MinMaxScaler\n",
        "from tensorflow.keras.models import Sequential\n",
        "from tensorflow.keras.layers import Dense, Dropout, LSTM\n",
        "from keras.models import Sequential\n",
        "from keras.layers import Dense, LSTM\n",
        "from sklearn.metrics import mean_squared_error"
      ]
    },
    {
      "cell_type": "code",
      "execution_count": 2,
      "metadata": {
        "colab": {
          "base_uri": "https://localhost:8080/"
        },
        "id": "aVKlxDbmTpFH",
        "outputId": "c4d1038c-e45b-41b1-ffb3-f9ad9e6ac6e5"
      },
      "outputs": [
        {
          "name": "stdout",
          "output_type": "stream",
          "text": [
            "[*********************100%***********************]  1 of 1 completed\n",
            "[*********************100%***********************]  1 of 1 completed\n"
          ]
        }
      ],
      "source": [
        "data = yf.download('AAPL','2008-01-01','2023-03-29')\n",
        "recent_data = yf.download('AAPL','2023-03-29')"
      ]
    },
    {
      "cell_type": "code",
      "execution_count": 3,
      "metadata": {
        "colab": {
          "base_uri": "https://localhost:8080/",
          "height": 170
        },
        "id": "7dWl4GN5YR4t",
        "outputId": "86a4b5f6-4199-4550-e74e-67455aaa9429"
      },
      "outputs": [
        {
          "data": {
            "text/html": [
              "\n",
              "  <div id=\"df-df0a348f-9f30-424b-a25b-b1d02c4969fe\">\n",
              "    <div class=\"colab-df-container\">\n",
              "      <div>\n",
              "<style scoped>\n",
              "    .dataframe tbody tr th:only-of-type {\n",
              "        vertical-align: middle;\n",
              "    }\n",
              "\n",
              "    .dataframe tbody tr th {\n",
              "        vertical-align: top;\n",
              "    }\n",
              "\n",
              "    .dataframe thead th {\n",
              "        text-align: right;\n",
              "    }\n",
              "</style>\n",
              "<table border=\"1\" class=\"dataframe\">\n",
              "  <thead>\n",
              "    <tr style=\"text-align: right;\">\n",
              "      <th></th>\n",
              "      <th>Open</th>\n",
              "      <th>High</th>\n",
              "      <th>Low</th>\n",
              "      <th>Close</th>\n",
              "      <th>Adj Close</th>\n",
              "      <th>Volume</th>\n",
              "    </tr>\n",
              "    <tr>\n",
              "      <th>Date</th>\n",
              "      <th></th>\n",
              "      <th></th>\n",
              "      <th></th>\n",
              "      <th></th>\n",
              "      <th></th>\n",
              "      <th></th>\n",
              "    </tr>\n",
              "  </thead>\n",
              "  <tbody>\n",
              "    <tr>\n",
              "      <th>2023-03-29</th>\n",
              "      <td>159.369995</td>\n",
              "      <td>161.050003</td>\n",
              "      <td>159.350006</td>\n",
              "      <td>160.770004</td>\n",
              "      <td>160.770004</td>\n",
              "      <td>51305700</td>\n",
              "    </tr>\n",
              "    <tr>\n",
              "      <th>2023-03-30</th>\n",
              "      <td>161.529999</td>\n",
              "      <td>162.470001</td>\n",
              "      <td>161.270004</td>\n",
              "      <td>162.360001</td>\n",
              "      <td>162.360001</td>\n",
              "      <td>49501700</td>\n",
              "    </tr>\n",
              "    <tr>\n",
              "      <th>2023-03-31</th>\n",
              "      <td>162.440002</td>\n",
              "      <td>165.000000</td>\n",
              "      <td>161.910004</td>\n",
              "      <td>164.899994</td>\n",
              "      <td>164.899994</td>\n",
              "      <td>68694700</td>\n",
              "    </tr>\n",
              "  </tbody>\n",
              "</table>\n",
              "</div>\n",
              "      <button class=\"colab-df-convert\" onclick=\"convertToInteractive('df-df0a348f-9f30-424b-a25b-b1d02c4969fe')\"\n",
              "              title=\"Convert this dataframe to an interactive table.\"\n",
              "              style=\"display:none;\">\n",
              "        \n",
              "  <svg xmlns=\"http://www.w3.org/2000/svg\" height=\"24px\"viewBox=\"0 0 24 24\"\n",
              "       width=\"24px\">\n",
              "    <path d=\"M0 0h24v24H0V0z\" fill=\"none\"/>\n",
              "    <path d=\"M18.56 5.44l.94 2.06.94-2.06 2.06-.94-2.06-.94-.94-2.06-.94 2.06-2.06.94zm-11 1L8.5 8.5l.94-2.06 2.06-.94-2.06-.94L8.5 2.5l-.94 2.06-2.06.94zm10 10l.94 2.06.94-2.06 2.06-.94-2.06-.94-.94-2.06-.94 2.06-2.06.94z\"/><path d=\"M17.41 7.96l-1.37-1.37c-.4-.4-.92-.59-1.43-.59-.52 0-1.04.2-1.43.59L10.3 9.45l-7.72 7.72c-.78.78-.78 2.05 0 2.83L4 21.41c.39.39.9.59 1.41.59.51 0 1.02-.2 1.41-.59l7.78-7.78 2.81-2.81c.8-.78.8-2.07 0-2.86zM5.41 20L4 18.59l7.72-7.72 1.47 1.35L5.41 20z\"/>\n",
              "  </svg>\n",
              "      </button>\n",
              "      \n",
              "  <style>\n",
              "    .colab-df-container {\n",
              "      display:flex;\n",
              "      flex-wrap:wrap;\n",
              "      gap: 12px;\n",
              "    }\n",
              "\n",
              "    .colab-df-convert {\n",
              "      background-color: #E8F0FE;\n",
              "      border: none;\n",
              "      border-radius: 50%;\n",
              "      cursor: pointer;\n",
              "      display: none;\n",
              "      fill: #1967D2;\n",
              "      height: 32px;\n",
              "      padding: 0 0 0 0;\n",
              "      width: 32px;\n",
              "    }\n",
              "\n",
              "    .colab-df-convert:hover {\n",
              "      background-color: #E2EBFA;\n",
              "      box-shadow: 0px 1px 2px rgba(60, 64, 67, 0.3), 0px 1px 3px 1px rgba(60, 64, 67, 0.15);\n",
              "      fill: #174EA6;\n",
              "    }\n",
              "\n",
              "    [theme=dark] .colab-df-convert {\n",
              "      background-color: #3B4455;\n",
              "      fill: #D2E3FC;\n",
              "    }\n",
              "\n",
              "    [theme=dark] .colab-df-convert:hover {\n",
              "      background-color: #434B5C;\n",
              "      box-shadow: 0px 1px 3px 1px rgba(0, 0, 0, 0.15);\n",
              "      filter: drop-shadow(0px 1px 2px rgba(0, 0, 0, 0.3));\n",
              "      fill: #FFFFFF;\n",
              "    }\n",
              "  </style>\n",
              "\n",
              "      <script>\n",
              "        const buttonEl =\n",
              "          document.querySelector('#df-df0a348f-9f30-424b-a25b-b1d02c4969fe button.colab-df-convert');\n",
              "        buttonEl.style.display =\n",
              "          google.colab.kernel.accessAllowed ? 'block' : 'none';\n",
              "\n",
              "        async function convertToInteractive(key) {\n",
              "          const element = document.querySelector('#df-df0a348f-9f30-424b-a25b-b1d02c4969fe');\n",
              "          const dataTable =\n",
              "            await google.colab.kernel.invokeFunction('convertToInteractive',\n",
              "                                                     [key], {});\n",
              "          if (!dataTable) return;\n",
              "\n",
              "          const docLinkHtml = 'Like what you see? Visit the ' +\n",
              "            '<a target=\"_blank\" href=https://colab.research.google.com/notebooks/data_table.ipynb>data table notebook</a>'\n",
              "            + ' to learn more about interactive tables.';\n",
              "          element.innerHTML = '';\n",
              "          dataTable['output_type'] = 'display_data';\n",
              "          await google.colab.output.renderOutput(dataTable, element);\n",
              "          const docLink = document.createElement('div');\n",
              "          docLink.innerHTML = docLinkHtml;\n",
              "          element.appendChild(docLink);\n",
              "        }\n",
              "      </script>\n",
              "    </div>\n",
              "  </div>\n",
              "  "
            ],
            "text/plain": [
              "                  Open        High         Low       Close   Adj Close  \\\n",
              "Date                                                                     \n",
              "2023-03-29  159.369995  161.050003  159.350006  160.770004  160.770004   \n",
              "2023-03-30  161.529999  162.470001  161.270004  162.360001  162.360001   \n",
              "2023-03-31  162.440002  165.000000  161.910004  164.899994  164.899994   \n",
              "\n",
              "              Volume  \n",
              "Date                  \n",
              "2023-03-29  51305700  \n",
              "2023-03-30  49501700  \n",
              "2023-03-31  68694700  "
            ]
          },
          "execution_count": 3,
          "metadata": {},
          "output_type": "execute_result"
        }
      ],
      "source": [
        "recent_data.head(10)"
      ]
    },
    {
      "cell_type": "code",
      "execution_count": 4,
      "metadata": {
        "colab": {
          "base_uri": "https://localhost:8080/",
          "height": 231
        },
        "id": "0r0WcjjOYY--",
        "outputId": "fc0dd8d1-1cbe-40d0-c7b2-ba92b0bdced1"
      },
      "outputs": [
        {
          "data": {
            "text/html": [
              "\n",
              "  <div id=\"df-63c453fa-d051-48ac-beca-144dfd02ff6c\">\n",
              "    <div class=\"colab-df-container\">\n",
              "      <div>\n",
              "<style scoped>\n",
              "    .dataframe tbody tr th:only-of-type {\n",
              "        vertical-align: middle;\n",
              "    }\n",
              "\n",
              "    .dataframe tbody tr th {\n",
              "        vertical-align: top;\n",
              "    }\n",
              "\n",
              "    .dataframe thead th {\n",
              "        text-align: right;\n",
              "    }\n",
              "</style>\n",
              "<table border=\"1\" class=\"dataframe\">\n",
              "  <thead>\n",
              "    <tr style=\"text-align: right;\">\n",
              "      <th></th>\n",
              "      <th>Open</th>\n",
              "      <th>High</th>\n",
              "      <th>Low</th>\n",
              "      <th>Close</th>\n",
              "      <th>Adj Close</th>\n",
              "      <th>Volume</th>\n",
              "    </tr>\n",
              "    <tr>\n",
              "      <th>Date</th>\n",
              "      <th></th>\n",
              "      <th></th>\n",
              "      <th></th>\n",
              "      <th></th>\n",
              "      <th></th>\n",
              "      <th></th>\n",
              "    </tr>\n",
              "  </thead>\n",
              "  <tbody>\n",
              "    <tr>\n",
              "      <th>2008-01-02</th>\n",
              "      <td>7.116786</td>\n",
              "      <td>7.152143</td>\n",
              "      <td>6.876786</td>\n",
              "      <td>6.958571</td>\n",
              "      <td>5.922566</td>\n",
              "      <td>1079178800</td>\n",
              "    </tr>\n",
              "    <tr>\n",
              "      <th>2008-01-03</th>\n",
              "      <td>6.978929</td>\n",
              "      <td>7.049643</td>\n",
              "      <td>6.881786</td>\n",
              "      <td>6.961786</td>\n",
              "      <td>5.925303</td>\n",
              "      <td>842066400</td>\n",
              "    </tr>\n",
              "    <tr>\n",
              "      <th>2008-01-04</th>\n",
              "      <td>6.837500</td>\n",
              "      <td>6.892857</td>\n",
              "      <td>6.388929</td>\n",
              "      <td>6.430357</td>\n",
              "      <td>5.472995</td>\n",
              "      <td>1455832000</td>\n",
              "    </tr>\n",
              "    <tr>\n",
              "      <th>2008-01-07</th>\n",
              "      <td>6.473214</td>\n",
              "      <td>6.557143</td>\n",
              "      <td>6.079643</td>\n",
              "      <td>6.344286</td>\n",
              "      <td>5.399736</td>\n",
              "      <td>2072193200</td>\n",
              "    </tr>\n",
              "    <tr>\n",
              "      <th>2008-01-08</th>\n",
              "      <td>6.433571</td>\n",
              "      <td>6.516429</td>\n",
              "      <td>6.100000</td>\n",
              "      <td>6.116071</td>\n",
              "      <td>5.205502</td>\n",
              "      <td>1523816000</td>\n",
              "    </tr>\n",
              "  </tbody>\n",
              "</table>\n",
              "</div>\n",
              "      <button class=\"colab-df-convert\" onclick=\"convertToInteractive('df-63c453fa-d051-48ac-beca-144dfd02ff6c')\"\n",
              "              title=\"Convert this dataframe to an interactive table.\"\n",
              "              style=\"display:none;\">\n",
              "        \n",
              "  <svg xmlns=\"http://www.w3.org/2000/svg\" height=\"24px\"viewBox=\"0 0 24 24\"\n",
              "       width=\"24px\">\n",
              "    <path d=\"M0 0h24v24H0V0z\" fill=\"none\"/>\n",
              "    <path d=\"M18.56 5.44l.94 2.06.94-2.06 2.06-.94-2.06-.94-.94-2.06-.94 2.06-2.06.94zm-11 1L8.5 8.5l.94-2.06 2.06-.94-2.06-.94L8.5 2.5l-.94 2.06-2.06.94zm10 10l.94 2.06.94-2.06 2.06-.94-2.06-.94-.94-2.06-.94 2.06-2.06.94z\"/><path d=\"M17.41 7.96l-1.37-1.37c-.4-.4-.92-.59-1.43-.59-.52 0-1.04.2-1.43.59L10.3 9.45l-7.72 7.72c-.78.78-.78 2.05 0 2.83L4 21.41c.39.39.9.59 1.41.59.51 0 1.02-.2 1.41-.59l7.78-7.78 2.81-2.81c.8-.78.8-2.07 0-2.86zM5.41 20L4 18.59l7.72-7.72 1.47 1.35L5.41 20z\"/>\n",
              "  </svg>\n",
              "      </button>\n",
              "      \n",
              "  <style>\n",
              "    .colab-df-container {\n",
              "      display:flex;\n",
              "      flex-wrap:wrap;\n",
              "      gap: 12px;\n",
              "    }\n",
              "\n",
              "    .colab-df-convert {\n",
              "      background-color: #E8F0FE;\n",
              "      border: none;\n",
              "      border-radius: 50%;\n",
              "      cursor: pointer;\n",
              "      display: none;\n",
              "      fill: #1967D2;\n",
              "      height: 32px;\n",
              "      padding: 0 0 0 0;\n",
              "      width: 32px;\n",
              "    }\n",
              "\n",
              "    .colab-df-convert:hover {\n",
              "      background-color: #E2EBFA;\n",
              "      box-shadow: 0px 1px 2px rgba(60, 64, 67, 0.3), 0px 1px 3px 1px rgba(60, 64, 67, 0.15);\n",
              "      fill: #174EA6;\n",
              "    }\n",
              "\n",
              "    [theme=dark] .colab-df-convert {\n",
              "      background-color: #3B4455;\n",
              "      fill: #D2E3FC;\n",
              "    }\n",
              "\n",
              "    [theme=dark] .colab-df-convert:hover {\n",
              "      background-color: #434B5C;\n",
              "      box-shadow: 0px 1px 3px 1px rgba(0, 0, 0, 0.15);\n",
              "      filter: drop-shadow(0px 1px 2px rgba(0, 0, 0, 0.3));\n",
              "      fill: #FFFFFF;\n",
              "    }\n",
              "  </style>\n",
              "\n",
              "      <script>\n",
              "        const buttonEl =\n",
              "          document.querySelector('#df-63c453fa-d051-48ac-beca-144dfd02ff6c button.colab-df-convert');\n",
              "        buttonEl.style.display =\n",
              "          google.colab.kernel.accessAllowed ? 'block' : 'none';\n",
              "\n",
              "        async function convertToInteractive(key) {\n",
              "          const element = document.querySelector('#df-63c453fa-d051-48ac-beca-144dfd02ff6c');\n",
              "          const dataTable =\n",
              "            await google.colab.kernel.invokeFunction('convertToInteractive',\n",
              "                                                     [key], {});\n",
              "          if (!dataTable) return;\n",
              "\n",
              "          const docLinkHtml = 'Like what you see? Visit the ' +\n",
              "            '<a target=\"_blank\" href=https://colab.research.google.com/notebooks/data_table.ipynb>data table notebook</a>'\n",
              "            + ' to learn more about interactive tables.';\n",
              "          element.innerHTML = '';\n",
              "          dataTable['output_type'] = 'display_data';\n",
              "          await google.colab.output.renderOutput(dataTable, element);\n",
              "          const docLink = document.createElement('div');\n",
              "          docLink.innerHTML = docLinkHtml;\n",
              "          element.appendChild(docLink);\n",
              "        }\n",
              "      </script>\n",
              "    </div>\n",
              "  </div>\n",
              "  "
            ],
            "text/plain": [
              "                Open      High       Low     Close  Adj Close      Volume\n",
              "Date                                                                     \n",
              "2008-01-02  7.116786  7.152143  6.876786  6.958571   5.922566  1079178800\n",
              "2008-01-03  6.978929  7.049643  6.881786  6.961786   5.925303   842066400\n",
              "2008-01-04  6.837500  6.892857  6.388929  6.430357   5.472995  1455832000\n",
              "2008-01-07  6.473214  6.557143  6.079643  6.344286   5.399736  2072193200\n",
              "2008-01-08  6.433571  6.516429  6.100000  6.116071   5.205502  1523816000"
            ]
          },
          "execution_count": 4,
          "metadata": {},
          "output_type": "execute_result"
        }
      ],
      "source": [
        "data.head()"
      ]
    },
    {
      "cell_type": "code",
      "execution_count": 5,
      "metadata": {
        "colab": {
          "base_uri": "https://localhost:8080/"
        },
        "id": "4-1B0YZ9TpFH",
        "outputId": "819658cb-81f0-4415-8ee2-7b5320fa736a"
      },
      "outputs": [
        {
          "data": {
            "text/plain": [
              "(3836, 6)"
            ]
          },
          "execution_count": 5,
          "metadata": {},
          "output_type": "execute_result"
        }
      ],
      "source": [
        "data.shape"
      ]
    },
    {
      "cell_type": "code",
      "execution_count": 6,
      "metadata": {
        "colab": {
          "base_uri": "https://localhost:8080/",
          "height": 383
        },
        "id": "PZVMCFWFdgZK",
        "outputId": "bdca8881-081a-4758-867d-26679c5df734"
      },
      "outputs": [
        {
          "data": {
            "text/html": [
              "\n",
              "  <div id=\"df-f82b3f34-79e2-457a-8d90-25f1071740da\">\n",
              "    <div class=\"colab-df-container\">\n",
              "      <div>\n",
              "<style scoped>\n",
              "    .dataframe tbody tr th:only-of-type {\n",
              "        vertical-align: middle;\n",
              "    }\n",
              "\n",
              "    .dataframe tbody tr th {\n",
              "        vertical-align: top;\n",
              "    }\n",
              "\n",
              "    .dataframe thead th {\n",
              "        text-align: right;\n",
              "    }\n",
              "</style>\n",
              "<table border=\"1\" class=\"dataframe\">\n",
              "  <thead>\n",
              "    <tr style=\"text-align: right;\">\n",
              "      <th></th>\n",
              "      <th>Open</th>\n",
              "      <th>High</th>\n",
              "      <th>Low</th>\n",
              "      <th>Close</th>\n",
              "      <th>Adj Close</th>\n",
              "      <th>Volume</th>\n",
              "    </tr>\n",
              "    <tr>\n",
              "      <th>Date</th>\n",
              "      <th></th>\n",
              "      <th></th>\n",
              "      <th></th>\n",
              "      <th></th>\n",
              "      <th></th>\n",
              "      <th></th>\n",
              "    </tr>\n",
              "  </thead>\n",
              "  <tbody>\n",
              "    <tr>\n",
              "      <th>2008-01-02</th>\n",
              "      <td>7.116786</td>\n",
              "      <td>7.152143</td>\n",
              "      <td>6.876786</td>\n",
              "      <td>6.958571</td>\n",
              "      <td>5.922566</td>\n",
              "      <td>1079178800</td>\n",
              "    </tr>\n",
              "    <tr>\n",
              "      <th>2008-01-03</th>\n",
              "      <td>6.978929</td>\n",
              "      <td>7.049643</td>\n",
              "      <td>6.881786</td>\n",
              "      <td>6.961786</td>\n",
              "      <td>5.925303</td>\n",
              "      <td>842066400</td>\n",
              "    </tr>\n",
              "    <tr>\n",
              "      <th>2008-01-04</th>\n",
              "      <td>6.837500</td>\n",
              "      <td>6.892857</td>\n",
              "      <td>6.388929</td>\n",
              "      <td>6.430357</td>\n",
              "      <td>5.472995</td>\n",
              "      <td>1455832000</td>\n",
              "    </tr>\n",
              "    <tr>\n",
              "      <th>2008-01-07</th>\n",
              "      <td>6.473214</td>\n",
              "      <td>6.557143</td>\n",
              "      <td>6.079643</td>\n",
              "      <td>6.344286</td>\n",
              "      <td>5.399736</td>\n",
              "      <td>2072193200</td>\n",
              "    </tr>\n",
              "    <tr>\n",
              "      <th>2008-01-08</th>\n",
              "      <td>6.433571</td>\n",
              "      <td>6.516429</td>\n",
              "      <td>6.100000</td>\n",
              "      <td>6.116071</td>\n",
              "      <td>5.205502</td>\n",
              "      <td>1523816000</td>\n",
              "    </tr>\n",
              "    <tr>\n",
              "      <th>2008-01-09</th>\n",
              "      <td>6.117857</td>\n",
              "      <td>6.410714</td>\n",
              "      <td>6.010714</td>\n",
              "      <td>6.407143</td>\n",
              "      <td>5.453238</td>\n",
              "      <td>1813882000</td>\n",
              "    </tr>\n",
              "    <tr>\n",
              "      <th>2008-01-10</th>\n",
              "      <td>6.342143</td>\n",
              "      <td>6.464286</td>\n",
              "      <td>6.264643</td>\n",
              "      <td>6.357857</td>\n",
              "      <td>5.411291</td>\n",
              "      <td>1482975200</td>\n",
              "    </tr>\n",
              "    <tr>\n",
              "      <th>2008-01-11</th>\n",
              "      <td>6.285714</td>\n",
              "      <td>6.351786</td>\n",
              "      <td>6.071429</td>\n",
              "      <td>6.167500</td>\n",
              "      <td>5.249274</td>\n",
              "      <td>1232285600</td>\n",
              "    </tr>\n",
              "    <tr>\n",
              "      <th>2008-01-14</th>\n",
              "      <td>6.340000</td>\n",
              "      <td>6.407857</td>\n",
              "      <td>6.256071</td>\n",
              "      <td>6.385000</td>\n",
              "      <td>5.434391</td>\n",
              "      <td>1100450400</td>\n",
              "    </tr>\n",
              "    <tr>\n",
              "      <th>2008-01-15</th>\n",
              "      <td>6.347143</td>\n",
              "      <td>6.400714</td>\n",
              "      <td>5.880714</td>\n",
              "      <td>6.037143</td>\n",
              "      <td>5.138323</td>\n",
              "      <td>2343278000</td>\n",
              "    </tr>\n",
              "  </tbody>\n",
              "</table>\n",
              "</div>\n",
              "      <button class=\"colab-df-convert\" onclick=\"convertToInteractive('df-f82b3f34-79e2-457a-8d90-25f1071740da')\"\n",
              "              title=\"Convert this dataframe to an interactive table.\"\n",
              "              style=\"display:none;\">\n",
              "        \n",
              "  <svg xmlns=\"http://www.w3.org/2000/svg\" height=\"24px\"viewBox=\"0 0 24 24\"\n",
              "       width=\"24px\">\n",
              "    <path d=\"M0 0h24v24H0V0z\" fill=\"none\"/>\n",
              "    <path d=\"M18.56 5.44l.94 2.06.94-2.06 2.06-.94-2.06-.94-.94-2.06-.94 2.06-2.06.94zm-11 1L8.5 8.5l.94-2.06 2.06-.94-2.06-.94L8.5 2.5l-.94 2.06-2.06.94zm10 10l.94 2.06.94-2.06 2.06-.94-2.06-.94-.94-2.06-.94 2.06-2.06.94z\"/><path d=\"M17.41 7.96l-1.37-1.37c-.4-.4-.92-.59-1.43-.59-.52 0-1.04.2-1.43.59L10.3 9.45l-7.72 7.72c-.78.78-.78 2.05 0 2.83L4 21.41c.39.39.9.59 1.41.59.51 0 1.02-.2 1.41-.59l7.78-7.78 2.81-2.81c.8-.78.8-2.07 0-2.86zM5.41 20L4 18.59l7.72-7.72 1.47 1.35L5.41 20z\"/>\n",
              "  </svg>\n",
              "      </button>\n",
              "      \n",
              "  <style>\n",
              "    .colab-df-container {\n",
              "      display:flex;\n",
              "      flex-wrap:wrap;\n",
              "      gap: 12px;\n",
              "    }\n",
              "\n",
              "    .colab-df-convert {\n",
              "      background-color: #E8F0FE;\n",
              "      border: none;\n",
              "      border-radius: 50%;\n",
              "      cursor: pointer;\n",
              "      display: none;\n",
              "      fill: #1967D2;\n",
              "      height: 32px;\n",
              "      padding: 0 0 0 0;\n",
              "      width: 32px;\n",
              "    }\n",
              "\n",
              "    .colab-df-convert:hover {\n",
              "      background-color: #E2EBFA;\n",
              "      box-shadow: 0px 1px 2px rgba(60, 64, 67, 0.3), 0px 1px 3px 1px rgba(60, 64, 67, 0.15);\n",
              "      fill: #174EA6;\n",
              "    }\n",
              "\n",
              "    [theme=dark] .colab-df-convert {\n",
              "      background-color: #3B4455;\n",
              "      fill: #D2E3FC;\n",
              "    }\n",
              "\n",
              "    [theme=dark] .colab-df-convert:hover {\n",
              "      background-color: #434B5C;\n",
              "      box-shadow: 0px 1px 3px 1px rgba(0, 0, 0, 0.15);\n",
              "      filter: drop-shadow(0px 1px 2px rgba(0, 0, 0, 0.3));\n",
              "      fill: #FFFFFF;\n",
              "    }\n",
              "  </style>\n",
              "\n",
              "      <script>\n",
              "        const buttonEl =\n",
              "          document.querySelector('#df-f82b3f34-79e2-457a-8d90-25f1071740da button.colab-df-convert');\n",
              "        buttonEl.style.display =\n",
              "          google.colab.kernel.accessAllowed ? 'block' : 'none';\n",
              "\n",
              "        async function convertToInteractive(key) {\n",
              "          const element = document.querySelector('#df-f82b3f34-79e2-457a-8d90-25f1071740da');\n",
              "          const dataTable =\n",
              "            await google.colab.kernel.invokeFunction('convertToInteractive',\n",
              "                                                     [key], {});\n",
              "          if (!dataTable) return;\n",
              "\n",
              "          const docLinkHtml = 'Like what you see? Visit the ' +\n",
              "            '<a target=\"_blank\" href=https://colab.research.google.com/notebooks/data_table.ipynb>data table notebook</a>'\n",
              "            + ' to learn more about interactive tables.';\n",
              "          element.innerHTML = '';\n",
              "          dataTable['output_type'] = 'display_data';\n",
              "          await google.colab.output.renderOutput(dataTable, element);\n",
              "          const docLink = document.createElement('div');\n",
              "          docLink.innerHTML = docLinkHtml;\n",
              "          element.appendChild(docLink);\n",
              "        }\n",
              "      </script>\n",
              "    </div>\n",
              "  </div>\n",
              "  "
            ],
            "text/plain": [
              "                Open      High       Low     Close  Adj Close      Volume\n",
              "Date                                                                     \n",
              "2008-01-02  7.116786  7.152143  6.876786  6.958571   5.922566  1079178800\n",
              "2008-01-03  6.978929  7.049643  6.881786  6.961786   5.925303   842066400\n",
              "2008-01-04  6.837500  6.892857  6.388929  6.430357   5.472995  1455832000\n",
              "2008-01-07  6.473214  6.557143  6.079643  6.344286   5.399736  2072193200\n",
              "2008-01-08  6.433571  6.516429  6.100000  6.116071   5.205502  1523816000\n",
              "2008-01-09  6.117857  6.410714  6.010714  6.407143   5.453238  1813882000\n",
              "2008-01-10  6.342143  6.464286  6.264643  6.357857   5.411291  1482975200\n",
              "2008-01-11  6.285714  6.351786  6.071429  6.167500   5.249274  1232285600\n",
              "2008-01-14  6.340000  6.407857  6.256071  6.385000   5.434391  1100450400\n",
              "2008-01-15  6.347143  6.400714  5.880714  6.037143   5.138323  2343278000"
            ]
          },
          "execution_count": 6,
          "metadata": {},
          "output_type": "execute_result"
        }
      ],
      "source": [
        "data.head(10)"
      ]
    },
    {
      "cell_type": "code",
      "execution_count": 7,
      "metadata": {
        "colab": {
          "base_uri": "https://localhost:8080/",
          "height": 383
        },
        "id": "jheH2qrtTpFI",
        "outputId": "ce1d27e6-20e3-4ab5-d25d-c02fc6145117"
      },
      "outputs": [
        {
          "data": {
            "text/html": [
              "\n",
              "  <div id=\"df-3b0f0f03-55a2-4788-bf75-056402a328a7\">\n",
              "    <div class=\"colab-df-container\">\n",
              "      <div>\n",
              "<style scoped>\n",
              "    .dataframe tbody tr th:only-of-type {\n",
              "        vertical-align: middle;\n",
              "    }\n",
              "\n",
              "    .dataframe tbody tr th {\n",
              "        vertical-align: top;\n",
              "    }\n",
              "\n",
              "    .dataframe thead th {\n",
              "        text-align: right;\n",
              "    }\n",
              "</style>\n",
              "<table border=\"1\" class=\"dataframe\">\n",
              "  <thead>\n",
              "    <tr style=\"text-align: right;\">\n",
              "      <th></th>\n",
              "      <th>Open</th>\n",
              "      <th>High</th>\n",
              "      <th>Low</th>\n",
              "      <th>Close</th>\n",
              "      <th>Adj Close</th>\n",
              "      <th>Volume</th>\n",
              "    </tr>\n",
              "    <tr>\n",
              "      <th>Date</th>\n",
              "      <th></th>\n",
              "      <th></th>\n",
              "      <th></th>\n",
              "      <th></th>\n",
              "      <th></th>\n",
              "      <th></th>\n",
              "    </tr>\n",
              "  </thead>\n",
              "  <tbody>\n",
              "    <tr>\n",
              "      <th>2023-03-15</th>\n",
              "      <td>151.190002</td>\n",
              "      <td>153.250000</td>\n",
              "      <td>149.919998</td>\n",
              "      <td>152.990005</td>\n",
              "      <td>152.990005</td>\n",
              "      <td>77167900</td>\n",
              "    </tr>\n",
              "    <tr>\n",
              "      <th>2023-03-16</th>\n",
              "      <td>152.160004</td>\n",
              "      <td>156.460007</td>\n",
              "      <td>151.639999</td>\n",
              "      <td>155.850006</td>\n",
              "      <td>155.850006</td>\n",
              "      <td>76161100</td>\n",
              "    </tr>\n",
              "    <tr>\n",
              "      <th>2023-03-17</th>\n",
              "      <td>156.080002</td>\n",
              "      <td>156.740005</td>\n",
              "      <td>154.279999</td>\n",
              "      <td>155.000000</td>\n",
              "      <td>155.000000</td>\n",
              "      <td>98862500</td>\n",
              "    </tr>\n",
              "    <tr>\n",
              "      <th>2023-03-20</th>\n",
              "      <td>155.070007</td>\n",
              "      <td>157.820007</td>\n",
              "      <td>154.149994</td>\n",
              "      <td>157.399994</td>\n",
              "      <td>157.399994</td>\n",
              "      <td>73641400</td>\n",
              "    </tr>\n",
              "    <tr>\n",
              "      <th>2023-03-21</th>\n",
              "      <td>157.320007</td>\n",
              "      <td>159.399994</td>\n",
              "      <td>156.539993</td>\n",
              "      <td>159.279999</td>\n",
              "      <td>159.279999</td>\n",
              "      <td>73938300</td>\n",
              "    </tr>\n",
              "    <tr>\n",
              "      <th>2023-03-22</th>\n",
              "      <td>159.300003</td>\n",
              "      <td>162.139999</td>\n",
              "      <td>157.809998</td>\n",
              "      <td>157.830002</td>\n",
              "      <td>157.830002</td>\n",
              "      <td>75701800</td>\n",
              "    </tr>\n",
              "    <tr>\n",
              "      <th>2023-03-23</th>\n",
              "      <td>158.830002</td>\n",
              "      <td>161.550003</td>\n",
              "      <td>157.679993</td>\n",
              "      <td>158.929993</td>\n",
              "      <td>158.929993</td>\n",
              "      <td>67622100</td>\n",
              "    </tr>\n",
              "    <tr>\n",
              "      <th>2023-03-24</th>\n",
              "      <td>158.860001</td>\n",
              "      <td>160.339996</td>\n",
              "      <td>157.850006</td>\n",
              "      <td>160.250000</td>\n",
              "      <td>160.250000</td>\n",
              "      <td>59196500</td>\n",
              "    </tr>\n",
              "    <tr>\n",
              "      <th>2023-03-27</th>\n",
              "      <td>159.940002</td>\n",
              "      <td>160.770004</td>\n",
              "      <td>157.869995</td>\n",
              "      <td>158.279999</td>\n",
              "      <td>158.279999</td>\n",
              "      <td>52390300</td>\n",
              "    </tr>\n",
              "    <tr>\n",
              "      <th>2023-03-28</th>\n",
              "      <td>157.970001</td>\n",
              "      <td>158.490005</td>\n",
              "      <td>155.979996</td>\n",
              "      <td>157.649994</td>\n",
              "      <td>157.649994</td>\n",
              "      <td>45992200</td>\n",
              "    </tr>\n",
              "  </tbody>\n",
              "</table>\n",
              "</div>\n",
              "      <button class=\"colab-df-convert\" onclick=\"convertToInteractive('df-3b0f0f03-55a2-4788-bf75-056402a328a7')\"\n",
              "              title=\"Convert this dataframe to an interactive table.\"\n",
              "              style=\"display:none;\">\n",
              "        \n",
              "  <svg xmlns=\"http://www.w3.org/2000/svg\" height=\"24px\"viewBox=\"0 0 24 24\"\n",
              "       width=\"24px\">\n",
              "    <path d=\"M0 0h24v24H0V0z\" fill=\"none\"/>\n",
              "    <path d=\"M18.56 5.44l.94 2.06.94-2.06 2.06-.94-2.06-.94-.94-2.06-.94 2.06-2.06.94zm-11 1L8.5 8.5l.94-2.06 2.06-.94-2.06-.94L8.5 2.5l-.94 2.06-2.06.94zm10 10l.94 2.06.94-2.06 2.06-.94-2.06-.94-.94-2.06-.94 2.06-2.06.94z\"/><path d=\"M17.41 7.96l-1.37-1.37c-.4-.4-.92-.59-1.43-.59-.52 0-1.04.2-1.43.59L10.3 9.45l-7.72 7.72c-.78.78-.78 2.05 0 2.83L4 21.41c.39.39.9.59 1.41.59.51 0 1.02-.2 1.41-.59l7.78-7.78 2.81-2.81c.8-.78.8-2.07 0-2.86zM5.41 20L4 18.59l7.72-7.72 1.47 1.35L5.41 20z\"/>\n",
              "  </svg>\n",
              "      </button>\n",
              "      \n",
              "  <style>\n",
              "    .colab-df-container {\n",
              "      display:flex;\n",
              "      flex-wrap:wrap;\n",
              "      gap: 12px;\n",
              "    }\n",
              "\n",
              "    .colab-df-convert {\n",
              "      background-color: #E8F0FE;\n",
              "      border: none;\n",
              "      border-radius: 50%;\n",
              "      cursor: pointer;\n",
              "      display: none;\n",
              "      fill: #1967D2;\n",
              "      height: 32px;\n",
              "      padding: 0 0 0 0;\n",
              "      width: 32px;\n",
              "    }\n",
              "\n",
              "    .colab-df-convert:hover {\n",
              "      background-color: #E2EBFA;\n",
              "      box-shadow: 0px 1px 2px rgba(60, 64, 67, 0.3), 0px 1px 3px 1px rgba(60, 64, 67, 0.15);\n",
              "      fill: #174EA6;\n",
              "    }\n",
              "\n",
              "    [theme=dark] .colab-df-convert {\n",
              "      background-color: #3B4455;\n",
              "      fill: #D2E3FC;\n",
              "    }\n",
              "\n",
              "    [theme=dark] .colab-df-convert:hover {\n",
              "      background-color: #434B5C;\n",
              "      box-shadow: 0px 1px 3px 1px rgba(0, 0, 0, 0.15);\n",
              "      filter: drop-shadow(0px 1px 2px rgba(0, 0, 0, 0.3));\n",
              "      fill: #FFFFFF;\n",
              "    }\n",
              "  </style>\n",
              "\n",
              "      <script>\n",
              "        const buttonEl =\n",
              "          document.querySelector('#df-3b0f0f03-55a2-4788-bf75-056402a328a7 button.colab-df-convert');\n",
              "        buttonEl.style.display =\n",
              "          google.colab.kernel.accessAllowed ? 'block' : 'none';\n",
              "\n",
              "        async function convertToInteractive(key) {\n",
              "          const element = document.querySelector('#df-3b0f0f03-55a2-4788-bf75-056402a328a7');\n",
              "          const dataTable =\n",
              "            await google.colab.kernel.invokeFunction('convertToInteractive',\n",
              "                                                     [key], {});\n",
              "          if (!dataTable) return;\n",
              "\n",
              "          const docLinkHtml = 'Like what you see? Visit the ' +\n",
              "            '<a target=\"_blank\" href=https://colab.research.google.com/notebooks/data_table.ipynb>data table notebook</a>'\n",
              "            + ' to learn more about interactive tables.';\n",
              "          element.innerHTML = '';\n",
              "          dataTable['output_type'] = 'display_data';\n",
              "          await google.colab.output.renderOutput(dataTable, element);\n",
              "          const docLink = document.createElement('div');\n",
              "          docLink.innerHTML = docLinkHtml;\n",
              "          element.appendChild(docLink);\n",
              "        }\n",
              "      </script>\n",
              "    </div>\n",
              "  </div>\n",
              "  "
            ],
            "text/plain": [
              "                  Open        High         Low       Close   Adj Close  \\\n",
              "Date                                                                     \n",
              "2023-03-15  151.190002  153.250000  149.919998  152.990005  152.990005   \n",
              "2023-03-16  152.160004  156.460007  151.639999  155.850006  155.850006   \n",
              "2023-03-17  156.080002  156.740005  154.279999  155.000000  155.000000   \n",
              "2023-03-20  155.070007  157.820007  154.149994  157.399994  157.399994   \n",
              "2023-03-21  157.320007  159.399994  156.539993  159.279999  159.279999   \n",
              "2023-03-22  159.300003  162.139999  157.809998  157.830002  157.830002   \n",
              "2023-03-23  158.830002  161.550003  157.679993  158.929993  158.929993   \n",
              "2023-03-24  158.860001  160.339996  157.850006  160.250000  160.250000   \n",
              "2023-03-27  159.940002  160.770004  157.869995  158.279999  158.279999   \n",
              "2023-03-28  157.970001  158.490005  155.979996  157.649994  157.649994   \n",
              "\n",
              "              Volume  \n",
              "Date                  \n",
              "2023-03-15  77167900  \n",
              "2023-03-16  76161100  \n",
              "2023-03-17  98862500  \n",
              "2023-03-20  73641400  \n",
              "2023-03-21  73938300  \n",
              "2023-03-22  75701800  \n",
              "2023-03-23  67622100  \n",
              "2023-03-24  59196500  \n",
              "2023-03-27  52390300  \n",
              "2023-03-28  45992200  "
            ]
          },
          "execution_count": 7,
          "metadata": {},
          "output_type": "execute_result"
        }
      ],
      "source": [
        "data.tail(10)"
      ]
    },
    {
      "cell_type": "code",
      "execution_count": 9,
      "metadata": {
        "colab": {
          "base_uri": "https://localhost:8080/",
          "height": 675
        },
        "id": "BnCBa0DvTpFI",
        "outputId": "6402c5dc-07ad-4ed9-f119-6944130b0053"
      },
      "outputs": [
        {
          "data": {
            "image/png": "[encoded data removed]",
            "text/plain": [
              "<Figure size 1600x800 with 1 Axes>"
            ]
          },
          "metadata": {},
          "output_type": "display_data"
        }
      ],
      "source": [
        "#Scale the data and plot the scaled data\n",
        "scaler = MinMaxScaler(feature_range=(0,1))\n",
        "scaled_data = scaler.fit_transform(data['Close'].values.reshape(-1,1))\n",
        "\n",
        "#plot the scaled data from day 0 to current day\n",
        "plt.figure(figsize=(16,8))\n",
        "plt.plot(scaled_data, label='Scaled Data')\n",
        "plt.legend(loc='upper left')\n",
        "plt.show()"
      ]
    },
    {
      "cell_type": "code",
      "execution_count": 10,
      "metadata": {
        "colab": {
          "base_uri": "https://localhost:8080/"
        },
        "id": "JqSAZVJzTpFJ",
        "outputId": "1d17fdae-5c69-4f94-f252-8ea90a6b53d7"
      },
      "outputs": [
        {
          "name": "stdout",
          "output_type": "stream",
          "text": [
            "[[0.02324395]\n",
            " [0.02326189]\n",
            " [0.02029661]\n",
            " ...\n",
            " [0.87858307]\n",
            " [0.86759081]\n",
            " [0.8640755 ]]\n"
          ]
        }
      ],
      "source": [
        "print(scaled_data)"
      ]
    },
    {
      "cell_type": "code",
      "execution_count": 11,
      "metadata": {
        "colab": {
          "base_uri": "https://localhost:8080/"
        },
        "id": "kK4MeB-BdOhT",
        "outputId": "e18f95d6-adf8-482b-d674-a34151a45801"
      },
      "outputs": [
        {
          "name": "stdout",
          "output_type": "stream",
          "text": [
            "[[  6.95857096]\n",
            " [  6.96178579]\n",
            " [  6.43035698]\n",
            " ...\n",
            " [160.25      ]\n",
            " [158.27999878]\n",
            " [157.6499939 ]]\n"
          ]
        }
      ],
      "source": [
        "close_values = scaler.inverse_transform(scaled_data)\n",
        "print(close_values)"
      ]
    },
    {
      "cell_type": "code",
      "execution_count": 12,
      "metadata": {
        "colab": {
          "base_uri": "https://localhost:8080/"
        },
        "id": "L0KZ76bgTpFJ",
        "outputId": "ff095ba9-a0b2-4d43-b120-6880c656af05"
      },
      "outputs": [
        {
          "name": "stdout",
          "output_type": "stream",
          "text": [
            "Total Rows in Training Dataset:  3069\n",
            "Total Rows in Testing Dataset:  768\n"
          ]
        }
      ],
      "source": [
        "#Create a new dataframe with only the 'Close' column\n",
        "data = data.filter(['Close'])\n",
        "\n",
        "#Convert the dataframe to a numpy array\n",
        "dataset = data.values\n",
        "\n",
        "#Get the number of rows to train the model on (80% of the data)\n",
        "training_size = int(np.ceil( len(scaled_data) * .8 ))\n",
        "test_size = int(np.ceil( len(scaled_data) * .2 ))\n",
        "\n",
        "#2860 is 80 percent of the total number of rows in the dataset\n",
        "print(\"Total Rows in Training Dataset: \", training_size)\n",
        "print(\"Total Rows in Testing Dataset: \", test_size)"
      ]
    },
    {
      "cell_type": "code",
      "execution_count": 13,
      "metadata": {
        "colab": {
          "base_uri": "https://localhost:8080/"
        },
        "id": "ZRPNxSWQTpFJ",
        "outputId": "4a61a854-1c5c-4e23-b643-32d5cb1b2f15"
      },
      "outputs": [
        {
          "name": "stdout",
          "output_type": "stream",
          "text": [
            "Training Data Shape:  (3069, 1)\n",
            "Testing Data Shape:  (767, 1)\n"
          ]
        }
      ],
      "source": [
        "#Split the data in to training and testing data, 80% training and 20% testing starting from the beginning of the dataset\n",
        "train_data = scaled_data[0:training_size , :] #From 0 to 3061\n",
        "test_data = scaled_data[training_size:len(scaled_data), :] #From 3061 to the end\n",
        "\n",
        "#remove null values\n",
        "train_data = train_data[~np.isnan(train_data).any(axis=1)]\n",
        "test_data = test_data[~np.isnan(test_data).any(axis=1)]\n",
        "\n",
        "#print the shape of the training and testing data\n",
        "print(\"Training Data Shape: \", train_data.shape)\n",
        "print(\"Testing Data Shape: \", test_data.shape)"
      ]
    },
    {
      "cell_type": "code",
      "execution_count": 14,
      "metadata": {
        "id": "KPGMDtffTpFK"
      },
      "outputs": [],
      "source": [
        "#Time step is the number of days we want to look back to predict the next closing price\n",
        "#We need use the training data to create the x_train and y_train data sets where x_train is the closing price of the previous 14 years and y_train is the closing price of the next day\n",
        "#if data is 120, 130, 125, 140, 134, and 150 then x_train would be 120, 130, 125, 140, 134 and y_train would be 150\n",
        "#We will do the same for the test data and then check the accuracy of the model\n",
        "\n",
        "#Function to create the x_train and y_train data sets\n",
        "def create_dataset (dataset, time_step=1):\n",
        "    dataX, dataY = [], []\n",
        "    #Loop through the data and create the x_train and y_train data sets\n",
        "    for i in range(len(dataset)-time_step-1):\n",
        "        a = dataset[i:(i+time_step), 0] #Start from 0 to time_step and add to a\n",
        "        dataX.append(a) #Store the values from 0 to time_step in dataX\n",
        "        dataY.append(dataset[i+time_step, 0]) #Store the value of the next day in dataY\n",
        "    return np.array(dataX), np.array(dataY) #Return the training data and the testing data as numpy arrays"
      ]
    },
    {
      "cell_type": "code",
      "execution_count": 15,
      "metadata": {
        "colab": {
          "base_uri": "https://localhost:8080/"
        },
        "id": "lBydoH_aTpFK",
        "outputId": "13ac4631-ef3c-4024-b184-9846cc52dbd4"
      },
      "outputs": [
        {
          "name": "stdout",
          "output_type": "stream",
          "text": [
            "(3038, 30)\n",
            "(3038,)\n"
          ]
        }
      ],
      "source": [
        "#time step is the number of days we want to look back to predict the next closing price and we will use 30 days for this model (Hyperparamater Tuning) \n",
        "time_step = 30\n",
        "\n",
        "#Create the training data set\n",
        "x_train, y_train = create_dataset(train_data, time_step)\n",
        "\n",
        "#180 features and 2550 rows\n",
        "print (x_train.shape) #the training data should have 30 features for 30 days\n",
        "print (y_train.shape)"
      ]
    },
    {
      "cell_type": "code",
      "execution_count": 16,
      "metadata": {
        "colab": {
          "base_uri": "https://localhost:8080/"
        },
        "id": "lqYJh49xTpFK",
        "outputId": "0ac0f2d0-6ed7-4b07-9dc8-53a88f97f747"
      },
      "outputs": [
        {
          "name": "stdout",
          "output_type": "stream",
          "text": [
            "(736, 30)\n",
            "(736,)\n"
          ]
        }
      ],
      "source": [
        "#Create the testing data set\n",
        "x_test, y_test = create_dataset(test_data, time_step)\n",
        "\n",
        "#180 features an 730 rows\n",
        "print(x_test.shape)\n",
        "print(y_test.shape)"
      ]
    },
    {
      "cell_type": "code",
      "execution_count": 17,
      "metadata": {
        "id": "lHKmx-PUTpFL"
      },
      "outputs": [],
      "source": [
        "#Reshape the data to fit the LSTM model\n",
        "#The LSTM model expects the data to be in the form of [samples, time steps, features] and right now our data is in the form [samples, features]\n",
        "#The last two parameters are fed to the LSTM model as input\n",
        "x_train = x_train.reshape(x_train.shape[0], x_train.shape[1], 1)\n",
        "x_test = x_test.reshape(x_test.shape[0], x_test.shape[1], 1)"
      ]
    },
    {
      "cell_type": "code",
      "execution_count": 18,
      "metadata": {
        "id": "0hCOigp6TpFL"
      },
      "outputs": [],
      "source": [
        "#Create a LSTM model with 1 layer of 256 neurons and 30 days look back\n",
        "model = Sequential()\n",
        "#Add the first LSTM layer\n",
        "model.add(LSTM(128, return_sequences=True, input_shape=(x_train.shape[1], 1)))\n",
        "model.add(Dropout(0.2))\n",
        "model.add(LSTM(64, return_sequences=False))\n",
        "model.add(Dropout(0.2))\n",
        "\n",
        "#One final output layer to predict the closing price\n",
        "model.add(Dense(1))\n",
        "\n",
        "#Compile the model with the adam optimizer and mean squared error loss function\n",
        "model.compile(optimizer='adam', loss='mean_squared_error')"
      ]
    },
    {
      "cell_type": "code",
      "execution_count": 19,
      "metadata": {
        "colab": {
          "base_uri": "https://localhost:8080/"
        },
        "id": "QYnLnrJrTpFL",
        "outputId": "7d9a7c87-9759-403d-81af-ba3e0d770c8a"
      },
      "outputs": [
        {
          "name": "stdout",
          "output_type": "stream",
          "text": [
            "Model: \"sequential\"\n",
            "_________________________________________________________________\n",
            " Layer (type)                Output Shape              Param #   \n",
            "=================================================================\n",
            " lstm (LSTM)                 (None, 30, 128)           66560     \n",
            "                                                                 \n",
            " dropout (Dropout)           (None, 30, 128)           0         \n",
            "                                                                 \n",
            " lstm_1 (LSTM)               (None, 64)                49408     \n",
            "                                                                 \n",
            " dropout_1 (Dropout)         (None, 64)                0         \n",
            "                                                                 \n",
            " dense (Dense)               (None, 1)                 65        \n",
            "                                                                 \n",
            "=================================================================\n",
            "Total params: 116,033\n",
            "Trainable params: 116,033\n",
            "Non-trainable params: 0\n",
            "_________________________________________________________________\n"
          ]
        }
      ],
      "source": [
        "model.summary()"
      ]
    },
    {
      "cell_type": "code",
      "execution_count": 20,
      "metadata": {
        "colab": {
          "base_uri": "https://localhost:8080/"
        },
        "id": "fWb2AenJT9vK",
        "outputId": "52917100-0687-4f84-c08c-b0733e300538"
      },
      "outputs": [
        {
          "name": "stdout",
          "output_type": "stream",
          "text": [
            "Epoch 1/50\n",
            "48/48 [==============================] - 25s 305ms/step - loss: 0.0018 - val_loss: 0.0011\n",
            "Epoch 2/50\n",
            "48/48 [==============================] - 12s 257ms/step - loss: 1.8616e-04 - val_loss: 0.0013\n",
            "Epoch 3/50\n",
            "48/48 [==============================] - 11s 223ms/step - loss: 1.9654e-04 - val_loss: 0.0015\n",
            "Epoch 4/50\n",
            "48/48 [==============================] - 7s 142ms/step - loss: 1.8375e-04 - val_loss: 9.5548e-04\n",
            "Epoch 5/50\n",
            "48/48 [==============================] - 5s 110ms/step - loss: 1.6065e-04 - val_loss: 9.0179e-04\n",
            "Epoch 6/50\n",
            "48/48 [==============================] - 7s 148ms/step - loss: 1.3991e-04 - val_loss: 0.0012\n",
            "Epoch 7/50\n",
            "48/48 [==============================] - 6s 115ms/step - loss: 1.5892e-04 - val_loss: 0.0011\n",
            "Epoch 8/50\n",
            "48/48 [==============================] - 7s 148ms/step - loss: 1.4983e-04 - val_loss: 0.0021\n",
            "Epoch 9/50\n",
            "48/48 [==============================] - 5s 109ms/step - loss: 1.4391e-04 - val_loss: 8.4371e-04\n",
            "Epoch 10/50\n",
            "48/48 [==============================] - 6s 127ms/step - loss: 1.3990e-04 - val_loss: 7.9444e-04\n",
            "Epoch 11/50\n",
            "48/48 [==============================] - 6s 129ms/step - loss: 1.2240e-04 - val_loss: 8.1569e-04\n",
            "Epoch 12/50\n",
            "48/48 [==============================] - 5s 114ms/step - loss: 1.2680e-04 - val_loss: 0.0010\n",
            "Epoch 13/50\n",
            "48/48 [==============================] - 9s 188ms/step - loss: 1.1903e-04 - val_loss: 8.8533e-04\n",
            "Epoch 14/50\n",
            "48/48 [==============================] - 5s 110ms/step - loss: 1.3360e-04 - val_loss: 0.0014\n",
            "Epoch 15/50\n",
            "48/48 [==============================] - 7s 148ms/step - loss: 1.2120e-04 - val_loss: 7.3509e-04\n",
            "Epoch 16/50\n",
            "48/48 [==============================] - 6s 119ms/step - loss: 1.1656e-04 - val_loss: 8.7622e-04\n",
            "Epoch 17/50\n",
            "48/48 [==============================] - 8s 171ms/step - loss: 1.1900e-04 - val_loss: 7.0656e-04\n",
            "Epoch 18/50\n",
            "48/48 [==============================] - 5s 110ms/step - loss: 1.1706e-04 - val_loss: 0.0015\n",
            "Epoch 19/50\n",
            "48/48 [==============================] - 7s 149ms/step - loss: 1.0472e-04 - val_loss: 6.7900e-04\n",
            "Epoch 20/50\n",
            "48/48 [==============================] - 5s 110ms/step - loss: 1.1289e-04 - val_loss: 7.0249e-04\n",
            "Epoch 21/50\n",
            "48/48 [==============================] - 6s 129ms/step - loss: 1.0182e-04 - val_loss: 0.0011\n",
            "Epoch 22/50\n",
            "48/48 [==============================] - 6s 127ms/step - loss: 9.4401e-05 - val_loss: 0.0011\n",
            "Epoch 23/50\n",
            "48/48 [==============================] - 5s 111ms/step - loss: 8.4565e-05 - val_loss: 8.4770e-04\n",
            "Epoch 24/50\n",
            "48/48 [==============================] - 8s 169ms/step - loss: 9.6971e-05 - val_loss: 7.5785e-04\n",
            "Epoch 25/50\n",
            "48/48 [==============================] - 5s 111ms/step - loss: 9.1182e-05 - val_loss: 7.1097e-04\n",
            "Epoch 26/50\n",
            "48/48 [==============================] - 7s 150ms/step - loss: 8.3007e-05 - val_loss: 8.8691e-04\n",
            "Epoch 27/50\n",
            "48/48 [==============================] - 5s 110ms/step - loss: 9.3876e-05 - val_loss: 8.0896e-04\n",
            "Epoch 28/50\n",
            "48/48 [==============================] - 7s 148ms/step - loss: 9.1154e-05 - val_loss: 6.8766e-04\n",
            "Epoch 29/50\n",
            "48/48 [==============================] - 5s 109ms/step - loss: 7.9587e-05 - val_loss: 7.9506e-04\n",
            "Epoch 30/50\n",
            "48/48 [==============================] - 6s 119ms/step - loss: 8.2879e-05 - val_loss: 5.8382e-04\n",
            "Epoch 31/50\n",
            "48/48 [==============================] - 7s 137ms/step - loss: 8.3299e-05 - val_loss: 6.0254e-04\n",
            "Epoch 32/50\n",
            "48/48 [==============================] - 6s 135ms/step - loss: 9.4411e-05 - val_loss: 0.0031\n",
            "Epoch 33/50\n",
            "48/48 [==============================] - 8s 161ms/step - loss: 8.3640e-05 - val_loss: 6.0297e-04\n",
            "Epoch 34/50\n",
            "48/48 [==============================] - 5s 110ms/step - loss: 8.3654e-05 - val_loss: 7.6030e-04\n",
            "Epoch 35/50\n",
            "48/48 [==============================] - 7s 149ms/step - loss: 7.7068e-05 - val_loss: 8.1394e-04\n",
            "Epoch 36/50\n",
            "48/48 [==============================] - 5s 109ms/step - loss: 8.0213e-05 - val_loss: 9.3176e-04\n",
            "Epoch 37/50\n",
            "48/48 [==============================] - 6s 130ms/step - loss: 8.3150e-05 - val_loss: 7.2754e-04\n",
            "Epoch 38/50\n",
            "48/48 [==============================] - 6s 125ms/step - loss: 7.2952e-05 - val_loss: 5.3610e-04\n",
            "Epoch 39/50\n",
            "48/48 [==============================] - 6s 117ms/step - loss: 6.9754e-05 - val_loss: 9.1682e-04\n",
            "Epoch 40/50\n",
            "48/48 [==============================] - 7s 149ms/step - loss: 6.5522e-05 - val_loss: 5.6969e-04\n",
            "Epoch 41/50\n",
            "48/48 [==============================] - 5s 110ms/step - loss: 7.5987e-05 - val_loss: 0.0021\n",
            "Epoch 42/50\n",
            "48/48 [==============================] - 7s 148ms/step - loss: 7.0233e-05 - val_loss: 0.0011\n",
            "Epoch 43/50\n",
            "48/48 [==============================] - 5s 110ms/step - loss: 6.8496e-05 - val_loss: 5.3730e-04\n",
            "Epoch 44/50\n",
            "48/48 [==============================] - 6s 133ms/step - loss: 7.1849e-05 - val_loss: 9.9163e-04\n",
            "Epoch 45/50\n",
            "48/48 [==============================] - 6s 125ms/step - loss: 6.0129e-05 - val_loss: 7.9432e-04\n",
            "Epoch 46/50\n",
            "48/48 [==============================] - 5s 111ms/step - loss: 7.0107e-05 - val_loss: 0.0029\n",
            "Epoch 47/50\n",
            "48/48 [==============================] - 7s 148ms/step - loss: 8.3291e-05 - val_loss: 0.0016\n",
            "Epoch 48/50\n",
            "48/48 [==============================] - 5s 109ms/step - loss: 6.6318e-05 - val_loss: 8.2039e-04\n",
            "Epoch 49/50\n",
            "48/48 [==============================] - 7s 150ms/step - loss: 6.7185e-05 - val_loss: 0.0015\n",
            "Epoch 50/50\n",
            "48/48 [==============================] - 5s 111ms/step - loss: 7.3015e-05 - val_loss: 5.4521e-04\n"
          ]
        },
        {
          "data": {
            "text/plain": [
              "<keras.callbacks.History at 0x7fdea9610b80>"
            ]
          },
          "execution_count": 20,
          "metadata": {},
          "output_type": "execute_result"
        }
      ],
      "source": [
        "#Fit the model\n",
        "model.fit(x_train, y_train, validation_data=(x_test, y_test), epochs=50, batch_size=64, verbose=1)"
      ]
    },
    {
      "cell_type": "code",
      "execution_count": 21,
      "metadata": {
        "colab": {
          "base_uri": "https://localhost:8080/"
        },
        "id": "Wt1Ug-7MT9zs",
        "outputId": "f76fa156-708b-49ee-adc5-623e8499d20d"
      },
      "outputs": [
        {
          "name": "stdout",
          "output_type": "stream",
          "text": [
            "95/95 [==============================] - 3s 23ms/step\n"
          ]
        }
      ],
      "source": [
        "#Get the training data predictions and convert to the original scale\n",
        "train_predict = model.predict(x_train)\n",
        "train_predict = scaler.inverse_transform(train_predict)"
      ]
    },
    {
      "cell_type": "code",
      "execution_count": 22,
      "metadata": {
        "colab": {
          "base_uri": "https://localhost:8080/"
        },
        "id": "aycbAmYWT92D",
        "outputId": "012f5576-fcba-4251-b550-1f15d07d8075"
      },
      "outputs": [
        {
          "name": "stdout",
          "output_type": "stream",
          "text": [
            "23/23 [==============================] - 1s 25ms/step\n"
          ]
        }
      ],
      "source": [
        "#Get the testing data predictions and convert to the original scale\n",
        "test_predict = model.predict(x_test)\n",
        "test_predict = scaler.inverse_transform(test_predict)"
      ]
    },
    {
      "cell_type": "code",
      "execution_count": 23,
      "metadata": {
        "colab": {
          "base_uri": "https://localhost:8080/"
        },
        "id": "L2MJPlUjW6tK",
        "outputId": "97e851e3-57aa-466c-df11-9f581e2ca9dd"
      },
      "outputs": [
        {
          "name": "stdout",
          "output_type": "stream",
          "text": [
            "Train Score: 30.42 RMSE\n",
            "Test Score: 137.50 RMSE\n"
          ]
        }
      ],
      "source": [
        "#Get performance metrics for the model on the training and testing data using root mean squared error (RMSE)\n",
        "trainScore = math.sqrt(mean_squared_error(y_train, train_predict))\n",
        "testScore = math.sqrt(mean_squared_error(y_test, test_predict))\n",
        "\n",
        "print('Train Score: %.2f RMSE' % (trainScore))\n",
        "print('Test Score: %.2f RMSE' % (testScore))"
      ]
    },
    {
      "cell_type": "code",
      "execution_count": 24,
      "metadata": {
        "colab": {
          "base_uri": "https://localhost:8080/",
          "height": 728
        },
        "id": "7s57rQl8bVMh",
        "outputId": "125eb63a-283d-4eb5-b5df-d8c9feeaa2c2"
      },
      "outputs": [
        {
          "data": {
            "image/png": "[encoded data removed]",
            "text/plain": [
              "<Figure size 1600x800 with 1 Axes>"
            ]
          },
          "metadata": {},
          "output_type": "display_data"
        }
      ],
      "source": [
        "plt.figure(figsize=(16,8))\n",
        "plt.title('Actual Values vs Train Prediction', fontsize=18)\n",
        "plt.xlabel('Day', fontsize=16)\n",
        "plt.ylabel('Close Price USD ($)', fontsize=16)\n",
        "plt.plot(scaler.inverse_transform(scaled_data[30:3068]))\n",
        "plt.plot(train_predict, color='red')\n",
        "plt.legend(['Actual Values', 'Predictions'], loc='upper left')\n",
        "plt.show()"
      ]
    },
    {
      "cell_type": "code",
      "execution_count": 25,
      "metadata": {
        "colab": {
          "base_uri": "https://localhost:8080/",
          "height": 728
        },
        "id": "SwMM-S0DbPvX",
        "outputId": "4915f656-52e0-417b-9937-25ca9433d14d"
      },
      "outputs": [
        {
          "data": {
            "image/png": "[encoded data removed]",
            "text/plain": [
              "<Figure size 1600x800 with 1 Axes>"
            ]
          },
          "metadata": {},
          "output_type": "display_data"
        }
      ],
      "source": [
        "#Plot the test data and prediction\n",
        "plt.figure(figsize=(16,8))\n",
        "plt.title('Actual Values vs Test Prediction', fontsize=18)\n",
        "plt.xlabel('Day', fontsize=16)\n",
        "plt.ylabel('Close Price USD ($)', fontsize=16)\n",
        "#Plot only the test data\n",
        "plt.plot(scaler.inverse_transform(scaled_data[3098:]))\n",
        "plt.plot(test_predict, color='red')\n",
        "plt.legend(['Actual Values', 'Predictions'], loc='upper left')\n",
        "plt.show()"
      ]
    },
    {
      "cell_type": "code",
      "execution_count": 50,
      "metadata": {
        "colab": {
          "base_uri": "https://localhost:8080/",
          "height": 728
        },
        "id": "MoP7TtfTT94O",
        "outputId": "f1d1c0e0-13d0-48a0-cdcc-940d1aa04e18"
      },
      "outputs": [
        {
          "data": {
            "image/png": "[encoded data removed]",
            "text/plain": [
              "<Figure size 1600x800 with 1 Axes>"
            ]
          },
          "metadata": {},
          "output_type": "display_data"
        }
      ],
      "source": [
        "#Plot the data\n",
        "look_back = 30\n",
        "trainPredictPlot = np.empty_like(scaled_data)\n",
        "\n",
        "trainPredictPlot[:, :] = np.nan\n",
        "trainPredictPlot[look_back:len(train_predict)+look_back, :] = train_predict\n",
        "\n",
        "#Plot the testing data and the model predictions\n",
        "testPredictPlot = np.empty_like(scaled_data)\n",
        "testPredictPlot[:, :] = np.nan\n",
        "testPredictPlot[len(train_predict)+(look_back*2)+1:len(scaled_data)-1, :] = test_predict\n",
        "\n",
        "#Plot the data\n",
        "plt.figure(figsize=(16,8))\n",
        "plt.title('Model 2', fontsize=18)\n",
        "plt.xlabel('Day', fontsize=16)\n",
        "plt.ylabel('Close Price USD ($)', fontsize=16)\n",
        "plt.plot(scaler.inverse_transform(scaled_data))\n",
        "plt.plot(trainPredictPlot)\n",
        "#plt.plot(y_test)\n",
        "plt.plot(testPredictPlot)\n",
        "plt.legend(['Actual Values', 'Train Data Prediction', 'Test Data Prediction'], loc='upper left')\n",
        "plt.show()"
      ]
    },
    {
      "cell_type": "code",
      "execution_count": 27,
      "metadata": {
        "colab": {
          "base_uri": "https://localhost:8080/"
        },
        "id": "XRNT9fkWXKaD",
        "outputId": "75e24d79-5c84-47e4-b402-60df16a7a236"
      },
      "outputs": [
        {
          "name": "stdout",
          "output_type": "stream",
          "text": [
            "3069\n",
            "767\n"
          ]
        }
      ],
      "source": [
        "print(len(train_data))\n",
        "print(len(test_data))"
      ]
    },
    {
      "cell_type": "code",
      "execution_count": 28,
      "metadata": {
        "colab": {
          "base_uri": "https://localhost:8080/"
        },
        "id": "n4ipa97DXKcm",
        "outputId": "ef807f6f-e4f3-4a33-ea87-f0411b75885b"
      },
      "outputs": [
        {
          "data": {
            "text/plain": [
              "(1, 30)"
            ]
          },
          "execution_count": 28,
          "metadata": {},
          "output_type": "execute_result"
        }
      ],
      "source": [
        "#Get the last 30 days of the training data and convert it to an array (765 - 30 = 685)\n",
        "x_input = test_data[737:].reshape(1,-1) #Predict the closing price for the next 30 days starting from 685\n",
        "x_input.shape"
      ]
    },
    {
      "cell_type": "code",
      "execution_count": 29,
      "metadata": {
        "colab": {
          "base_uri": "https://localhost:8080/"
        },
        "id": "CpeEA3ZFXKfF",
        "outputId": "2b63d347-d304-440c-98df-1273c9536a87"
      },
      "outputs": [
        {
          "name": "stdout",
          "output_type": "stream",
          "text": [
            "30\n"
          ]
        }
      ],
      "source": [
        "#Convert the data to a list\n",
        "temp_input = list(x_input)\n",
        "temp_input = temp_input[0].tolist() #Convert the data to a list\n",
        "\n",
        "print(len(temp_input)) #The length of the list should be 30 as we are predicting the closing price for the next 30 days"
      ]
    },
    {
      "cell_type": "code",
      "execution_count": 30,
      "metadata": {
        "colab": {
          "base_uri": "https://localhost:8080/"
        },
        "id": "CQNEtkjLW_NB",
        "outputId": "c772dc54-04ea-4d0e-e0fb-a3f99585981e"
      },
      "outputs": [
        {
          "name": "stdout",
          "output_type": "stream",
          "text": [
            "[0.8627307]\n",
            "31\n",
            "1 day input [0.85113035 0.84209106 0.83561845 0.81290852 0.81530789 0.81804195\n",
            " 0.8030323  0.80978384 0.80693816 0.79522049 0.79856842 0.82713709\n",
            " 0.84276061 0.83031763 0.83740395 0.82468196 0.81302014 0.8240124\n",
            " 0.8358416  0.83807358 0.85403188 0.849289   0.86268054 0.87317064\n",
            " 0.86507991 0.87121766 0.87858307 0.86759081 0.8640755  0.86273068]\n",
            "1 day output [[0.86058795]]\n",
            "2 day input [0.84209106 0.83561845 0.81290852 0.81530789 0.81804195 0.8030323\n",
            " 0.80978384 0.80693816 0.79522049 0.79856842 0.82713709 0.84276061\n",
            " 0.83031763 0.83740395 0.82468196 0.81302014 0.8240124  0.8358416\n",
            " 0.83807358 0.85403188 0.849289   0.86268054 0.87317064 0.86507991\n",
            " 0.87121766 0.87858307 0.86759081 0.8640755  0.86273068 0.86058795]\n",
            "2 day output [[0.85754186]]\n",
            "3 day input [0.83561845 0.81290852 0.81530789 0.81804195 0.8030323  0.80978384\n",
            " 0.80693816 0.79522049 0.79856842 0.82713709 0.84276061 0.83031763\n",
            " 0.83740395 0.82468196 0.81302014 0.8240124  0.8358416  0.83807358\n",
            " 0.85403188 0.849289   0.86268054 0.87317064 0.86507991 0.87121766\n",
            " 0.87858307 0.86759081 0.8640755  0.86273068 0.86058795 0.85754186]\n",
            "3 day output [[0.85403967]]\n",
            "4 day input [0.81290852 0.81530789 0.81804195 0.8030323  0.80978384 0.80693816\n",
            " 0.79522049 0.79856842 0.82713709 0.84276061 0.83031763 0.83740395\n",
            " 0.82468196 0.81302014 0.8240124  0.8358416  0.83807358 0.85403188\n",
            " 0.849289   0.86268054 0.87317064 0.86507991 0.87121766 0.87858307\n",
            " 0.86759081 0.8640755  0.86273068 0.86058795 0.85754186 0.85403967]\n",
            "4 day output [[0.8503562]]\n",
            "5 day input [0.81530789 0.81804195 0.8030323  0.80978384 0.80693816 0.79522049\n",
            " 0.79856842 0.82713709 0.84276061 0.83031763 0.83740395 0.82468196\n",
            " 0.81302014 0.8240124  0.8358416  0.83807358 0.85403188 0.849289\n",
            " 0.86268054 0.87317064 0.86507991 0.87121766 0.87858307 0.86759081\n",
            " 0.8640755  0.86273068 0.86058795 0.85754186 0.85403967 0.85035622]\n",
            "5 day output [[0.8466503]]\n",
            "6 day input [0.81804195 0.8030323  0.80978384 0.80693816 0.79522049 0.79856842\n",
            " 0.82713709 0.84276061 0.83031763 0.83740395 0.82468196 0.81302014\n",
            " 0.8240124  0.8358416  0.83807358 0.85403188 0.849289   0.86268054\n",
            " 0.87317064 0.86507991 0.87121766 0.87858307 0.86759081 0.8640755\n",
            " 0.86273068 0.86058795 0.85754186 0.85403967 0.85035622 0.8466503 ]\n",
            "6 day output [[0.8430038]]\n",
            "7 day input [0.8030323  0.80978384 0.80693816 0.79522049 0.79856842 0.82713709\n",
            " 0.84276061 0.83031763 0.83740395 0.82468196 0.81302014 0.8240124\n",
            " 0.8358416  0.83807358 0.85403188 0.849289   0.86268054 0.87317064\n",
            " 0.86507991 0.87121766 0.87858307 0.86759081 0.8640755  0.86273068\n",
            " 0.86058795 0.85754186 0.85403967 0.85035622 0.8466503  0.84300381]\n",
            "7 day output [[0.8394521]]\n",
            "8 day input [0.80978384 0.80693816 0.79522049 0.79856842 0.82713709 0.84276061\n",
            " 0.83031763 0.83740395 0.82468196 0.81302014 0.8240124  0.8358416\n",
            " 0.83807358 0.85403188 0.849289   0.86268054 0.87317064 0.86507991\n",
            " 0.87121766 0.87858307 0.86759081 0.8640755  0.86273068 0.86058795\n",
            " 0.85754186 0.85403967 0.85035622 0.8466503  0.84300381 0.83945209]\n",
            "8 day output [[0.8360065]]\n",
            "9 day input [0.80693816 0.79522049 0.79856842 0.82713709 0.84276061 0.83031763\n",
            " 0.83740395 0.82468196 0.81302014 0.8240124  0.8358416  0.83807358\n",
            " 0.85403188 0.849289   0.86268054 0.87317064 0.86507991 0.87121766\n",
            " 0.87858307 0.86759081 0.8640755  0.86273068 0.86058795 0.85754186\n",
            " 0.85403967 0.85035622 0.8466503  0.84300381 0.83945209 0.83600652]\n",
            "9 day output [[0.83266276]]\n",
            "10 day input [0.79522049 0.79856842 0.82713709 0.84276061 0.83031763 0.83740395\n",
            " 0.82468196 0.81302014 0.8240124  0.8358416  0.83807358 0.85403188\n",
            " 0.849289   0.86268054 0.87317064 0.86507991 0.87121766 0.87858307\n",
            " 0.86759081 0.8640755  0.86273068 0.86058795 0.85754186 0.85403967\n",
            " 0.85035622 0.8466503  0.84300381 0.83945209 0.83600652 0.83266276]\n",
            "10 day output [[0.8294116]]\n",
            "11 day input [0.79856842 0.82713709 0.84276061 0.83031763 0.83740395 0.82468196\n",
            " 0.81302014 0.8240124  0.8358416  0.83807358 0.85403188 0.849289\n",
            " 0.86268054 0.87317064 0.86507991 0.87121766 0.87858307 0.86759081\n",
            " 0.8640755  0.86273068 0.86058795 0.85754186 0.85403967 0.85035622\n",
            " 0.8466503  0.84300381 0.83945209 0.83600652 0.83266276 0.82941163]\n",
            "11 day output [[0.8262423]]\n",
            "12 day input [0.82713709 0.84276061 0.83031763 0.83740395 0.82468196 0.81302014\n",
            " 0.8240124  0.8358416  0.83807358 0.85403188 0.849289   0.86268054\n",
            " 0.87317064 0.86507991 0.87121766 0.87858307 0.86759081 0.8640755\n",
            " 0.86273068 0.86058795 0.85754186 0.85403967 0.85035622 0.8466503\n",
            " 0.84300381 0.83945209 0.83600652 0.83266276 0.82941163 0.82624233]\n",
            "12 day output [[0.8231437]]\n",
            "13 day input [0.84276061 0.83031763 0.83740395 0.82468196 0.81302014 0.8240124\n",
            " 0.8358416  0.83807358 0.85403188 0.849289   0.86268054 0.87317064\n",
            " 0.86507991 0.87121766 0.87858307 0.86759081 0.8640755  0.86273068\n",
            " 0.86058795 0.85754186 0.85403967 0.85035622 0.8466503  0.84300381\n",
            " 0.83945209 0.83600652 0.83266276 0.82941163 0.82624233 0.82314372]\n",
            "13 day output [[0.82010484]]\n",
            "14 day input [0.83031763 0.83740395 0.82468196 0.81302014 0.8240124  0.8358416\n",
            " 0.83807358 0.85403188 0.849289   0.86268054 0.87317064 0.86507991\n",
            " 0.87121766 0.87858307 0.86759081 0.8640755  0.86273068 0.86058795\n",
            " 0.85754186 0.85403967 0.85035622 0.8466503  0.84300381 0.83945209\n",
            " 0.83600652 0.83266276 0.82941163 0.82624233 0.82314372 0.82010484]\n",
            "14 day output [[0.8171178]]\n",
            "15 day input [0.83740395 0.82468196 0.81302014 0.8240124  0.8358416  0.83807358\n",
            " 0.85403188 0.849289   0.86268054 0.87317064 0.86507991 0.87121766\n",
            " 0.87858307 0.86759081 0.8640755  0.86273068 0.86058795 0.85754186\n",
            " 0.85403967 0.85035622 0.8466503  0.84300381 0.83945209 0.83600652\n",
            " 0.83266276 0.82941163 0.82624233 0.82314372 0.82010484 0.81711781]\n",
            "15 day output [[0.8141788]]\n",
            "16 day input [0.82468196 0.81302014 0.8240124  0.8358416  0.83807358 0.85403188\n",
            " 0.849289   0.86268054 0.87317064 0.86507991 0.87121766 0.87858307\n",
            " 0.86759081 0.8640755  0.86273068 0.86058795 0.85754186 0.85403967\n",
            " 0.85035622 0.8466503  0.84300381 0.83945209 0.83600652 0.83266276\n",
            " 0.82941163 0.82624233 0.82314372 0.82010484 0.81711781 0.81417882]\n",
            "16 day output [[0.81128323]]\n",
            "17 day input [0.81302014 0.8240124  0.8358416  0.83807358 0.85403188 0.849289\n",
            " 0.86268054 0.87317064 0.86507991 0.87121766 0.87858307 0.86759081\n",
            " 0.8640755  0.86273068 0.86058795 0.85754186 0.85403967 0.85035622\n",
            " 0.8466503  0.84300381 0.83945209 0.83600652 0.83266276 0.82941163\n",
            " 0.82624233 0.82314372 0.82010484 0.81711781 0.81417882 0.81128323]\n",
            "17 day output [[0.80842865]]\n",
            "18 day input [0.8240124  0.8358416  0.83807358 0.85403188 0.849289   0.86268054\n",
            " 0.87317064 0.86507991 0.87121766 0.87858307 0.86759081 0.8640755\n",
            " 0.86273068 0.86058795 0.85754186 0.85403967 0.85035622 0.8466503\n",
            " 0.84300381 0.83945209 0.83600652 0.83266276 0.82941163 0.82624233\n",
            " 0.82314372 0.82010484 0.81711781 0.81417882 0.81128323 0.80842865]\n",
            "18 day output [[0.8056131]]\n",
            "19 day input [0.8358416  0.83807358 0.85403188 0.849289   0.86268054 0.87317064\n",
            " 0.86507991 0.87121766 0.87858307 0.86759081 0.8640755  0.86273068\n",
            " 0.86058795 0.85754186 0.85403967 0.85035622 0.8466503  0.84300381\n",
            " 0.83945209 0.83600652 0.83266276 0.82941163 0.82624233 0.82314372\n",
            " 0.82010484 0.81711781 0.81417882 0.81128323 0.80842865 0.8056131 ]\n",
            "19 day output [[0.8028335]]\n",
            "20 day input [0.83807358 0.85403188 0.849289   0.86268054 0.87317064 0.86507991\n",
            " 0.87121766 0.87858307 0.86759081 0.8640755  0.86273068 0.86058795\n",
            " 0.85754186 0.85403967 0.85035622 0.8466503  0.84300381 0.83945209\n",
            " 0.83600652 0.83266276 0.82941163 0.82624233 0.82314372 0.82010484\n",
            " 0.81711781 0.81417882 0.81128323 0.80842865 0.8056131  0.8028335 ]\n",
            "20 day output [[0.8000878]]\n",
            "21 day input [0.85403188 0.849289   0.86268054 0.87317064 0.86507991 0.87121766\n",
            " 0.87858307 0.86759081 0.8640755  0.86273068 0.86058795 0.85754186\n",
            " 0.85403967 0.85035622 0.8466503  0.84300381 0.83945209 0.83600652\n",
            " 0.83266276 0.82941163 0.82624233 0.82314372 0.82010484 0.81711781\n",
            " 0.81417882 0.81128323 0.80842865 0.8056131  0.8028335  0.80008781]\n",
            "21 day output [[0.7973755]]\n",
            "22 day input [0.849289   0.86268054 0.87317064 0.86507991 0.87121766 0.87858307\n",
            " 0.86759081 0.8640755  0.86273068 0.86058795 0.85754186 0.85403967\n",
            " 0.85035622 0.8466503  0.84300381 0.83945209 0.83600652 0.83266276\n",
            " 0.82941163 0.82624233 0.82314372 0.82010484 0.81711781 0.81417882\n",
            " 0.81128323 0.80842865 0.8056131  0.8028335  0.80008781 0.7973755 ]\n",
            "22 day output [[0.79469496]]\n",
            "23 day input [0.86268054 0.87317064 0.86507991 0.87121766 0.87858307 0.86759081\n",
            " 0.8640755  0.86273068 0.86058795 0.85754186 0.85403967 0.85035622\n",
            " 0.8466503  0.84300381 0.83945209 0.83600652 0.83266276 0.82941163\n",
            " 0.82624233 0.82314372 0.82010484 0.81711781 0.81417882 0.81128323\n",
            " 0.80842865 0.8056131  0.8028335  0.80008781 0.7973755  0.79469496]\n",
            "23 day output [[0.7920467]]\n",
            "24 day input [0.87317064 0.86507991 0.87121766 0.87858307 0.86759081 0.8640755\n",
            " 0.86273068 0.86058795 0.85754186 0.85403967 0.85035622 0.8466503\n",
            " 0.84300381 0.83945209 0.83600652 0.83266276 0.82941163 0.82624233\n",
            " 0.82314372 0.82010484 0.81711781 0.81417882 0.81128323 0.80842865\n",
            " 0.8056131  0.8028335  0.80008781 0.7973755  0.79469496 0.79204673]\n",
            "24 day output [[0.78943]]\n",
            "25 day input [0.86507991 0.87121766 0.87858307 0.86759081 0.8640755  0.86273068\n",
            " 0.86058795 0.85754186 0.85403967 0.85035622 0.8466503  0.84300381\n",
            " 0.83945209 0.83600652 0.83266276 0.82941163 0.82624233 0.82314372\n",
            " 0.82010484 0.81711781 0.81417882 0.81128323 0.80842865 0.8056131\n",
            " 0.8028335  0.80008781 0.7973755  0.79469496 0.79204673 0.78943002]\n",
            "25 day output [[0.7868438]]\n",
            "26 day input [0.87121766 0.87858307 0.86759081 0.8640755  0.86273068 0.86058795\n",
            " 0.85754186 0.85403967 0.85035622 0.8466503  0.84300381 0.83945209\n",
            " 0.83600652 0.83266276 0.82941163 0.82624233 0.82314372 0.82010484\n",
            " 0.81711781 0.81417882 0.81128323 0.80842865 0.8056131  0.8028335\n",
            " 0.80008781 0.7973755  0.79469496 0.79204673 0.78943002 0.78684378]\n",
            "26 day output [[0.78428924]]\n",
            "27 day input [0.87858307 0.86759081 0.8640755  0.86273068 0.86058795 0.85754186\n",
            " 0.85403967 0.85035622 0.8466503  0.84300381 0.83945209 0.83600652\n",
            " 0.83266276 0.82941163 0.82624233 0.82314372 0.82010484 0.81711781\n",
            " 0.81417882 0.81128323 0.80842865 0.8056131  0.8028335  0.80008781\n",
            " 0.7973755  0.79469496 0.79204673 0.78943002 0.78684378 0.78428924]\n",
            "27 day output [[0.7817655]]\n",
            "28 day input [0.86759081 0.8640755  0.86273068 0.86058795 0.85754186 0.85403967\n",
            " 0.85035622 0.8466503  0.84300381 0.83945209 0.83600652 0.83266276\n",
            " 0.82941163 0.82624233 0.82314372 0.82010484 0.81711781 0.81417882\n",
            " 0.81128323 0.80842865 0.8056131  0.8028335  0.80008781 0.7973755\n",
            " 0.79469496 0.79204673 0.78943002 0.78684378 0.78428924 0.78176552]\n",
            "28 day output [[0.7792725]]\n",
            "29 day input [0.8640755  0.86273068 0.86058795 0.85754186 0.85403967 0.85035622\n",
            " 0.8466503  0.84300381 0.83945209 0.83600652 0.83266276 0.82941163\n",
            " 0.82624233 0.82314372 0.82010484 0.81711781 0.81417882 0.81128323\n",
            " 0.80842865 0.8056131  0.8028335  0.80008781 0.7973755  0.79469496\n",
            " 0.79204673 0.78943002 0.78684378 0.78428924 0.78176552 0.7792725 ]\n",
            "29 day output [[0.7768102]]\n"
          ]
        }
      ],
      "source": [
        "#Predict the closing price for the next 30 days\n",
        "#Code taken from tutorial video on how to predict the next 30 days of stock prices using LSTM\n",
        "\n",
        "lst_output = []\n",
        "n_steps = 30\n",
        "i = 0\n",
        "while(i<30):\n",
        "      #if the length of the list is greater than 30, then we will shift by 1 day and take new output as the input for the next day prediction\n",
        "      if(len(temp_input)>30): #\n",
        "          #print(temp_input)\n",
        "          x_input = np.array(temp_input[1:])\n",
        "          print(\"{} day input {}\".format(i,x_input))\n",
        "          x_input = x_input.reshape(1,-1)\n",
        "          x_input = x_input.reshape((1, n_steps, 1))\n",
        "          #print(x_input)\n",
        "          yhat = model.predict(x_input, verbose=0)\n",
        "          print(\"{} day output {}\".format(i,yhat))\n",
        "          temp_input.extend(yhat[0].tolist())\n",
        "          temp_input = temp_input[1:]\n",
        "          #print(temp_input)\n",
        "          lst_output.extend(yhat.tolist())\n",
        "          i=i+1\n",
        "      #If the length of the list is less than 30, then we will add the last 30 days to the list and predict the next 30 days\n",
        "      else:\n",
        "          x_input = x_input.reshape((1, n_steps,1)) #Reshape the data to fit the model\n",
        "          yhat = model.predict(x_input, verbose=0)  #Predict the closing price for the next 30 days\n",
        "          print(yhat[0]) #Print the predicted closing price\n",
        "          temp_input.extend(yhat[0].tolist()) #Add the predicted closing price to the list\n",
        "          print(len(temp_input)) #The length of the list should be 30\n",
        "          lst_output.extend(yhat.tolist()) #Add the predicted closing price to previous list (temp_input)\n",
        "          i=i+1 "
      ]
    },
    {
      "cell_type": "code",
      "execution_count": 31,
      "metadata": {
        "id": "SIMeSVX-W_Pc"
      },
      "outputs": [],
      "source": [
        "day_new = np.arange(1,31) #Create a new array with the previous 30 days\n",
        "day_pred = np.arange(31,61) #Create a new array with the next 30 days\n"
      ]
    },
    {
      "cell_type": "code",
      "execution_count": 32,
      "metadata": {
        "colab": {
          "base_uri": "https://localhost:8080/"
        },
        "id": "O0_9IcANXgeE",
        "outputId": "5cafaab7-4228-4f0b-ccf1-b127511cd13e"
      },
      "outputs": [
        {
          "name": "stdout",
          "output_type": "stream",
          "text": [
            "[[157.40898024]\n",
            " [157.02496677]\n",
            " [156.47905428]\n",
            " [155.85140179]\n",
            " [155.19126481]\n",
            " [154.52710066]\n",
            " [153.87358663]\n",
            " [153.23705725]\n",
            " [152.61955283]\n",
            " [152.02029356]\n",
            " [151.43763439]\n",
            " [150.86964184]\n",
            " [150.31431836]\n",
            " [149.76969841]\n",
            " [149.23437195]\n",
            " [148.70765532]\n",
            " [148.18871532]\n",
            " [147.67712465]\n",
            " [147.1725308 ]\n",
            " [146.67437831]\n",
            " [146.18230397]\n",
            " [145.69621165]\n",
            " [145.21581293]\n",
            " [144.74120395]\n",
            " [144.27224583]\n",
            " [143.80874631]\n",
            " [143.35092971]\n",
            " [142.89863578]\n",
            " [142.45184318]\n",
            " [142.01056258]]\n"
          ]
        }
      ],
      "source": [
        "#Print the predicted closing price for the next 30 days\n",
        "print(scaler.inverse_transform(lst_output))"
      ]
    },
    {
      "cell_type": "code",
      "execution_count": 34,
      "metadata": {
        "colab": {
          "base_uri": "https://localhost:8080/"
        },
        "id": "YHt1CYI0ZJhB",
        "outputId": "5f752ab9-9bc8-409f-c153-8fd85b376871"
      },
      "outputs": [
        {
          "name": "stdout",
          "output_type": "stream",
          "text": [
            "['2023-03-29T00:00:00.000000000' '2023-03-30T00:00:00.000000000'\n",
            " '2023-03-31T00:00:00.000000000' '2023-04-03T00:00:00.000000000'\n",
            " '2023-04-04T00:00:00.000000000' '2023-04-05T00:00:00.000000000'\n",
            " '2023-04-06T00:00:00.000000000' '2023-04-07T00:00:00.000000000'\n",
            " '2023-04-10T00:00:00.000000000' '2023-04-11T00:00:00.000000000'\n",
            " '2023-04-12T00:00:00.000000000' '2023-04-13T00:00:00.000000000'\n",
            " '2023-04-14T00:00:00.000000000' '2023-04-17T00:00:00.000000000'\n",
            " '2023-04-18T00:00:00.000000000' '2023-04-19T00:00:00.000000000'\n",
            " '2023-04-20T00:00:00.000000000' '2023-04-21T00:00:00.000000000'\n",
            " '2023-04-24T00:00:00.000000000' '2023-04-25T00:00:00.000000000'\n",
            " '2023-04-26T00:00:00.000000000' '2023-04-27T00:00:00.000000000'\n",
            " '2023-04-28T00:00:00.000000000' '2023-05-01T00:00:00.000000000'\n",
            " '2023-05-02T00:00:00.000000000' '2023-05-03T00:00:00.000000000'\n",
            " '2023-05-04T00:00:00.000000000' '2023-05-05T00:00:00.000000000'\n",
            " '2023-05-08T00:00:00.000000000' '2023-05-09T00:00:00.000000000']\n"
          ]
        },
        {
          "data": {
            "text/plain": [
              "(30,)"
            ]
          },
          "execution_count": 34,
          "metadata": {},
          "output_type": "execute_result"
        }
      ],
      "source": [
        "#Create an array from date 2023-03-15 to 30 days in future \n",
        "future_dates = pd.date_range(start='2023-03-29', end='2023-05-09', freq='B')\n",
        "#print(future_dates)\n",
        "\n",
        "#convert it to an array\n",
        "future_dates = future_dates.to_numpy()\n",
        "print(future_dates)\n",
        "\n",
        "future_dates.shape"
      ]
    },
    {
      "cell_type": "code",
      "execution_count": 35,
      "metadata": {
        "colab": {
          "base_uri": "https://localhost:8080/"
        },
        "id": "0rCmVA-YZJjc",
        "outputId": "1de9d693-b03f-43d7-e905-3d4a0714d11f"
      },
      "outputs": [
        {
          "name": "stdout",
          "output_type": "stream",
          "text": [
            "                 Close\n",
            "Date                  \n",
            "2023-03-29  160.770004\n",
            "2023-03-30  162.360001\n",
            "2023-03-31  164.899994\n",
            "2023-04-03         NaN\n",
            "2023-04-04         NaN\n",
            "2023-04-05         NaN\n",
            "2023-04-06         NaN\n",
            "2023-04-07         NaN\n",
            "2023-04-10         NaN\n",
            "2023-04-11         NaN\n",
            "2023-04-12         NaN\n",
            "2023-04-13         NaN\n",
            "2023-04-14         NaN\n",
            "2023-04-17         NaN\n",
            "2023-04-18         NaN\n",
            "2023-04-19         NaN\n",
            "2023-04-20         NaN\n",
            "2023-04-21         NaN\n",
            "2023-04-24         NaN\n",
            "2023-04-25         NaN\n",
            "2023-04-26         NaN\n",
            "2023-04-27         NaN\n",
            "2023-04-28         NaN\n",
            "2023-05-01         NaN\n",
            "2023-05-02         NaN\n",
            "2023-05-03         NaN\n",
            "2023-05-04         NaN\n",
            "2023-05-05         NaN\n",
            "2023-05-08         NaN\n",
            "2023-05-09         NaN\n"
          ]
        }
      ],
      "source": [
        "#Create empty array of size 30\n",
        "actual_thirtydays_values = np.empty((30,1))\n",
        "\n",
        "#Fill the empty array with NaN values\n",
        "actual_thirtydays_values[:] = np.nan\n",
        "\n",
        "for i in range(0,30):\n",
        "  try:\n",
        "    actual_thirtydays_values[i] = new_data['Close'][i]\n",
        "  except:\n",
        "    actual_thirtydays_values[i] = np.nan\n",
        "    \n",
        "\n",
        "#Add the date and the actual values to the dataframe\n",
        "actual_thirtydays_values = pd.DataFrame(actual_thirtydays_values, columns=['Close'])\n",
        "actual_thirtydays_values['Date'] = future_dates\n",
        "actual_thirtydays_values = actual_thirtydays_values.set_index('Date')\n",
        "\n",
        "print (actual_thirtydays_values)"
      ]
    },
    {
      "cell_type": "code",
      "execution_count": 36,
      "metadata": {
        "colab": {
          "base_uri": "https://localhost:8080/"
        },
        "id": "d1NimlKAZT9U",
        "outputId": "91be5f70-95af-4b85-a3c3-014e22232a72"
      },
      "outputs": [
        {
          "name": "stdout",
          "output_type": "stream",
          "text": [
            "                 Close  Predictions\n",
            "Date                               \n",
            "2023-03-29  160.770004   157.408980\n",
            "2023-03-30  162.360001   157.024967\n",
            "2023-03-31  164.899994   156.479054\n",
            "2023-04-03         NaN   155.851402\n",
            "2023-04-04         NaN   155.191265\n",
            "2023-04-05         NaN   154.527101\n",
            "2023-04-06         NaN   153.873587\n",
            "2023-04-07         NaN   153.237057\n",
            "2023-04-10         NaN   152.619553\n",
            "2023-04-11         NaN   152.020294\n",
            "2023-04-12         NaN   151.437634\n",
            "2023-04-13         NaN   150.869642\n",
            "2023-04-14         NaN   150.314318\n",
            "2023-04-17         NaN   149.769698\n",
            "2023-04-18         NaN   149.234372\n",
            "2023-04-19         NaN   148.707655\n",
            "2023-04-20         NaN   148.188715\n",
            "2023-04-21         NaN   147.677125\n",
            "2023-04-24         NaN   147.172531\n",
            "2023-04-25         NaN   146.674378\n",
            "2023-04-26         NaN   146.182304\n",
            "2023-04-27         NaN   145.696212\n",
            "2023-04-28         NaN   145.215813\n",
            "2023-05-01         NaN   144.741204\n",
            "2023-05-02         NaN   144.272246\n",
            "2023-05-03         NaN   143.808746\n",
            "2023-05-04         NaN   143.350930\n",
            "2023-05-05         NaN   142.898636\n",
            "2023-05-08         NaN   142.451843\n",
            "2023-05-09         NaN   142.010563\n"
          ]
        }
      ],
      "source": [
        "#add the predicted closing price to the actual closing price\n",
        "actual_thirtydays_values['Predictions'] = scaler.inverse_transform(lst_output)\n",
        "\n",
        "print(actual_thirtydays_values)"
      ]
    },
    {
      "cell_type": "code",
      "execution_count": 37,
      "metadata": {
        "colab": {
          "base_uri": "https://localhost:8080/"
        },
        "id": "WtYv9YxsDtwr",
        "outputId": "940c902f-58b3-48bf-983d-9f6dfa3aa731"
      },
      "outputs": [
        {
          "name": "stdout",
          "output_type": "stream",
          "text": [
            "162.36000061035156\n"
          ]
        }
      ],
      "source": [
        "#new column for difference between the prediction prices \n",
        "closingPrice = actual_thirtydays_values['Close']\n",
        "lastDayClosingPrice = closingPrice.iloc[1]\n",
        "print(lastDayClosingPrice)"
      ]
    },
    {
      "cell_type": "code",
      "execution_count": 38,
      "metadata": {
        "colab": {
          "base_uri": "https://localhost:8080/"
        },
        "id": "LWm2LhECD-7m",
        "outputId": "1f9225f5-be30-4d13-bfd8-e293f1d445fa"
      },
      "outputs": [
        {
          "data": {
            "text/plain": [
              "Date\n",
              "2023-03-29    157.408980\n",
              "2023-03-30    157.024967\n",
              "2023-03-31    156.479054\n",
              "2023-04-03    155.851402\n",
              "2023-04-04    155.191265\n",
              "2023-04-05    154.527101\n",
              "2023-04-06    153.873587\n",
              "2023-04-07    153.237057\n",
              "2023-04-10    152.619553\n",
              "2023-04-11    152.020294\n",
              "2023-04-12    151.437634\n",
              "2023-04-13    150.869642\n",
              "2023-04-14    150.314318\n",
              "2023-04-17    149.769698\n",
              "2023-04-18    149.234372\n",
              "2023-04-19    148.707655\n",
              "2023-04-20    148.188715\n",
              "2023-04-21    147.677125\n",
              "2023-04-24    147.172531\n",
              "2023-04-25    146.674378\n",
              "2023-04-26    146.182304\n",
              "2023-04-27    145.696212\n",
              "2023-04-28    145.215813\n",
              "2023-05-01    144.741204\n",
              "2023-05-02    144.272246\n",
              "2023-05-03    143.808746\n",
              "2023-05-04    143.350930\n",
              "2023-05-05    142.898636\n",
              "2023-05-08    142.451843\n",
              "2023-05-09    142.010563\n",
              "Name: Predictions, dtype: float64"
            ]
          },
          "execution_count": 38,
          "metadata": {},
          "output_type": "execute_result"
        }
      ],
      "source": [
        "actual_thirtydays_values['Predictions']"
      ]
    },
    {
      "cell_type": "code",
      "execution_count": 39,
      "metadata": {
        "colab": {
          "base_uri": "https://localhost:8080/"
        },
        "id": "0xw1YnJ7Ekw_",
        "outputId": "2a6865cc-c02b-40dc-8411-f4247d83faaa"
      },
      "outputs": [
        {
          "name": "stdout",
          "output_type": "stream",
          "text": [
            "                 Close  Predictions  Accuracy\n",
            "Date                                         \n",
            "2023-03-29  160.770004   157.408980  2.090579\n",
            "2023-03-30  162.360001   157.024967  3.285929\n",
            "2023-03-31  164.899994   156.479054  5.106695\n",
            "2023-04-03         NaN   155.851402       NaN\n",
            "2023-04-04         NaN   155.191265       NaN\n",
            "2023-04-05         NaN   154.527101       NaN\n",
            "2023-04-06         NaN   153.873587       NaN\n",
            "2023-04-07         NaN   153.237057       NaN\n",
            "2023-04-10         NaN   152.619553       NaN\n",
            "2023-04-11         NaN   152.020294       NaN\n",
            "2023-04-12         NaN   151.437634       NaN\n",
            "2023-04-13         NaN   150.869642       NaN\n",
            "2023-04-14         NaN   150.314318       NaN\n",
            "2023-04-17         NaN   149.769698       NaN\n",
            "2023-04-18         NaN   149.234372       NaN\n",
            "2023-04-19         NaN   148.707655       NaN\n",
            "2023-04-20         NaN   148.188715       NaN\n",
            "2023-04-21         NaN   147.677125       NaN\n",
            "2023-04-24         NaN   147.172531       NaN\n",
            "2023-04-25         NaN   146.674378       NaN\n",
            "2023-04-26         NaN   146.182304       NaN\n",
            "2023-04-27         NaN   145.696212       NaN\n",
            "2023-04-28         NaN   145.215813       NaN\n",
            "2023-05-01         NaN   144.741204       NaN\n",
            "2023-05-02         NaN   144.272246       NaN\n",
            "2023-05-03         NaN   143.808746       NaN\n",
            "2023-05-04         NaN   143.350930       NaN\n",
            "2023-05-05         NaN   142.898636       NaN\n",
            "2023-05-08         NaN   142.451843       NaN\n",
            "2023-05-09         NaN   142.010563       NaN\n"
          ]
        }
      ],
      "source": [
        "#Calculate the accuracy from the actual closing price and the predicted closing price for the next 30 days\n",
        "\n",
        "#calculate accuracy by subtracting the actual closing price and the predicted closing price and divide by the actual closing price and multiply by 100 to get the percentage\n",
        "accuracy = (actual_thirtydays_values['Close'] - actual_thirtydays_values['Predictions']) / actual_thirtydays_values['Close'] * 100\n",
        "\n",
        "#add the accuracy to the actual closing price and the predicted closing price\n",
        "actual_thirtydays_values['Accuracy'] = (accuracy)\n",
        "\n",
        "print (actual_thirtydays_values)"
      ]
    },
    {
      "cell_type": "code",
      "execution_count": 40,
      "metadata": {
        "colab": {
          "base_uri": "https://localhost:8080/"
        },
        "id": "aHxD7TK8DaL-",
        "outputId": "aa4836b4-4b8a-4dd1-f2e1-79d542f40aae"
      },
      "outputs": [
        {
          "name": "stdout",
          "output_type": "stream",
          "text": [
            "Date\n",
            "2023-03-29    160.770004\n",
            "2023-03-30    162.360001\n",
            "2023-03-31    164.899994\n",
            "2023-04-03           NaN\n",
            "2023-04-04           NaN\n",
            "2023-04-05           NaN\n",
            "2023-04-06           NaN\n",
            "2023-04-07           NaN\n",
            "2023-04-10           NaN\n",
            "2023-04-11           NaN\n",
            "2023-04-12           NaN\n",
            "2023-04-13           NaN\n",
            "2023-04-14           NaN\n",
            "2023-04-17           NaN\n",
            "2023-04-18           NaN\n",
            "2023-04-19           NaN\n",
            "2023-04-20           NaN\n",
            "2023-04-21           NaN\n",
            "2023-04-24           NaN\n",
            "2023-04-25           NaN\n",
            "2023-04-26           NaN\n",
            "2023-04-27           NaN\n",
            "2023-04-28           NaN\n",
            "2023-05-01           NaN\n",
            "2023-05-02           NaN\n",
            "2023-05-03           NaN\n",
            "2023-05-04           NaN\n",
            "2023-05-05           NaN\n",
            "2023-05-08           NaN\n",
            "2023-05-09           NaN\n",
            "Name: Close, dtype: float64\n"
          ]
        }
      ],
      "source": [
        "closingPrice = actual_thirtydays_values['Close']\n",
        "print(closingPrice)"
      ]
    },
    {
      "cell_type": "code",
      "execution_count": 41,
      "metadata": {
        "colab": {
          "base_uri": "https://localhost:8080/"
        },
        "id": "c31a-AYS6qmE",
        "outputId": "78863ad2-6c0c-45b4-f164-9052475885d9"
      },
      "outputs": [
        {
          "name": "stdout",
          "output_type": "stream",
          "text": [
            "160.77000427246094\n",
            "157.40898023938198\n",
            "2.090579053156552\n"
          ]
        }
      ],
      "source": [
        "lastDayClosingPrice = closingPrice.iloc[0]\n",
        "print(lastDayClosingPrice)\n",
        "firstPredicted = actual_thirtydays_values['Predictions'].iloc[0]\n",
        "print(firstPredicted)\n",
        "loss_percentage = (lastDayClosingPrice - firstPredicted) / lastDayClosingPrice * 100\n",
        "print(loss_percentage)\n"
      ]
    },
    {
      "cell_type": "code",
      "execution_count": 42,
      "metadata": {
        "colab": {
          "base_uri": "https://localhost:8080/"
        },
        "id": "qXAlqTdxCVPo",
        "outputId": "4531ac71-a8ed-419d-a394-abd452e0ad3f"
      },
      "outputs": [
        {
          "name": "stdout",
          "output_type": "stream",
          "text": [
            "                 Close  Predictions  Accuracy Buy/Sell/Hold  Profit/Loss\n",
            "Date                                                                    \n",
            "2023-03-29  160.770004   157.408980  2.090579           NIL          0.0\n",
            "2023-03-30  162.360001   157.024967  3.285929           NIL          0.0\n",
            "2023-03-31  164.899994   156.479054  5.106695           NIL          0.0\n",
            "2023-04-03         NaN   155.851402       NaN           NIL          0.0\n",
            "2023-04-04         NaN   155.191265       NaN           NIL          0.0\n",
            "2023-04-05         NaN   154.527101       NaN           NIL          0.0\n",
            "2023-04-06         NaN   153.873587       NaN           NIL          0.0\n",
            "2023-04-07         NaN   153.237057       NaN           NIL          0.0\n",
            "2023-04-10         NaN   152.619553       NaN           NIL          0.0\n",
            "2023-04-11         NaN   152.020294       NaN           NIL          0.0\n",
            "2023-04-12         NaN   151.437634       NaN           NIL          0.0\n",
            "2023-04-13         NaN   150.869642       NaN           NIL          0.0\n",
            "2023-04-14         NaN   150.314318       NaN           NIL          0.0\n",
            "2023-04-17         NaN   149.769698       NaN           NIL          0.0\n",
            "2023-04-18         NaN   149.234372       NaN           NIL          0.0\n",
            "2023-04-19         NaN   148.707655       NaN           NIL          0.0\n",
            "2023-04-20         NaN   148.188715       NaN           NIL          0.0\n",
            "2023-04-21         NaN   147.677125       NaN           NIL          0.0\n",
            "2023-04-24         NaN   147.172531       NaN           NIL          0.0\n",
            "2023-04-25         NaN   146.674378       NaN           NIL          0.0\n",
            "2023-04-26         NaN   146.182304       NaN           NIL          0.0\n",
            "2023-04-27         NaN   145.696212       NaN           NIL          0.0\n",
            "2023-04-28         NaN   145.215813       NaN           NIL          0.0\n",
            "2023-05-01         NaN   144.741204       NaN           NIL          0.0\n",
            "2023-05-02         NaN   144.272246       NaN           NIL          0.0\n",
            "2023-05-03         NaN   143.808746       NaN           NIL          0.0\n",
            "2023-05-04         NaN   143.350930       NaN           NIL          0.0\n",
            "2023-05-05         NaN   142.898636       NaN           NIL          0.0\n",
            "2023-05-08         NaN   142.451843       NaN           NIL          0.0\n",
            "2023-05-09         NaN   142.010563       NaN           NIL          0.0\n"
          ]
        }
      ],
      "source": [
        "#Add new column Buy/Sell/Hold to the dataframe with nil values\n",
        "actual_thirtydays_values['Buy/Sell/Hold'] = 'NIL'\n",
        "actual_thirtydays_values['Profit/Loss'] = 0.0\n",
        "print(actual_thirtydays_values)"
      ]
    },
    {
      "cell_type": "code",
      "execution_count": 43,
      "metadata": {
        "colab": {
          "base_uri": "https://localhost:8080/"
        },
        "id": "I164r-5WDwc1",
        "outputId": "f311bb38-a606-43bd-ba0b-5fc959305a2d"
      },
      "outputs": [
        {
          "name": "stdout",
          "output_type": "stream",
          "text": [
            "157.64999389648438\n",
            "157.40898023938198\n",
            "-0.24101365710239975\n"
          ]
        }
      ],
      "source": [
        "lastDay = data['Close'].iloc[-1]\n",
        "print(lastDay)\n",
        "firstPredicted = actual_thirtydays_values['Predictions'].iloc[0]\n",
        "print(firstPredicted)\n",
        "difference = firstPredicted - lastDay\n",
        "print(difference)"
      ]
    },
    {
      "cell_type": "code",
      "execution_count": 44,
      "metadata": {
        "colab": {
          "base_uri": "https://localhost:8080/"
        },
        "id": "echrgWyChye5",
        "outputId": "8703e8a1-05f2-4c01-8c64-6fa6ca68063f"
      },
      "outputs": [
        {
          "name": "stdout",
          "output_type": "stream",
          "text": [
            "                 Close  Predictions  Accuracy Buy/Sell/Hold  Profit/Loss\n",
            "Date                                                                    \n",
            "2023-03-29  160.770004   157.408980  2.090579           NIL          0.0\n",
            "2023-03-30  162.360001   157.024967  3.285929           NIL          0.0\n",
            "2023-03-31  164.899994   156.479054  5.106695           NIL          0.0\n",
            "2023-04-03         NaN   155.851402       NaN           NIL          0.0\n",
            "2023-04-04         NaN   155.191265       NaN           NIL          0.0\n",
            "2023-04-05         NaN   154.527101       NaN           NIL          0.0\n",
            "2023-04-06         NaN   153.873587       NaN           NIL          0.0\n",
            "2023-04-07         NaN   153.237057       NaN           NIL          0.0\n",
            "2023-04-10         NaN   152.619553       NaN           NIL          0.0\n",
            "2023-04-11         NaN   152.020294       NaN           NIL          0.0\n"
          ]
        }
      ],
      "source": [
        "print(actual_thirtydays_values.head(10))"
      ]
    },
    {
      "cell_type": "code",
      "execution_count": 45,
      "metadata": {
        "colab": {
          "base_uri": "https://localhost:8080/"
        },
        "id": "x3q2tvFlhyiP",
        "outputId": "850418cd-9e64-4da0-fd9b-4c829fb82620"
      },
      "outputs": [
        {
          "name": "stdout",
          "output_type": "stream",
          "text": [
            "                 Close  Predictions  Accuracy Buy/Sell/Hold  Profit/Loss\n",
            "Date                                                                    \n",
            "2023-03-29  160.770004   157.408980  2.090579           NIL          NaN\n",
            "2023-03-30  162.360001   157.024967  3.285929           NIL          NaN\n",
            "2023-03-31  164.899994   156.479054  5.106695           NIL          NaN\n",
            "2023-04-03         NaN   155.851402       NaN           NIL          NaN\n",
            "2023-04-04         NaN   155.191265       NaN           NIL          NaN\n",
            "2023-04-05         NaN   154.527101       NaN           NIL          NaN\n",
            "2023-04-06         NaN   153.873587       NaN           NIL          NaN\n",
            "2023-04-07         NaN   153.237057       NaN           NIL          NaN\n",
            "2023-04-10         NaN   152.619553       NaN           NIL          NaN\n",
            "2023-04-11         NaN   152.020294       NaN           NIL          NaN\n"
          ]
        }
      ],
      "source": [
        "#ADD PROFIT COLUMN TO THE DATAFRAME\n",
        "actual_thirtydays_values['Profit/Loss'] = np.nan\n",
        "print(actual_thirtydays_values.head(10))"
      ]
    },
    {
      "cell_type": "code",
      "execution_count": 46,
      "metadata": {
        "colab": {
          "base_uri": "https://localhost:8080/"
        },
        "id": "Db7g6a3UhylX",
        "outputId": "e2dc9e63-0dfa-4d26-8cf5-3940b7a27ea2"
      },
      "outputs": [
        {
          "name": "stdout",
          "output_type": "stream",
          "text": [
            "-0.24101365710239975\n",
            "-0.1528789511153761\n"
          ]
        }
      ],
      "source": [
        "total_difference  = difference\n",
        "total_percentage = difference / lastDay * 100\n",
        "print(total_difference)\n",
        "print(total_percentage)"
      ]
    },
    {
      "cell_type": "code",
      "execution_count": 47,
      "metadata": {
        "colab": {
          "base_uri": "https://localhost:8080/"
        },
        "id": "5fRie58AhypR",
        "outputId": "893e4c87-e3ea-4e8b-a676-ea0869b2caed"
      },
      "outputs": [
        {
          "name": "stdout",
          "output_type": "stream",
          "text": [
            "                 Close  Predictions  Accuracy Buy/Sell/Hold  Profit/Loss\n",
            "Date                                                                    \n",
            "2023-03-29  160.770004   157.408980  2.090579           NIL    -0.241014\n",
            "2023-03-30  162.360001   157.024967  3.285929           NIL    -0.625027\n",
            "2023-03-31  164.899994   156.479054  5.106695           NIL    -1.170940\n",
            "2023-04-03         NaN   155.851402       NaN           NIL    -1.798592\n",
            "2023-04-04         NaN   155.191265       NaN           NIL    -2.458729\n",
            "2023-04-05         NaN   154.527101       NaN           NIL    -3.122893\n",
            "2023-04-06         NaN   153.873587       NaN           NIL    -3.776407\n",
            "2023-04-07         NaN   153.237057       NaN           NIL    -4.412937\n",
            "2023-04-10         NaN   152.619553       NaN           NIL    -5.030441\n",
            "2023-04-11         NaN   152.020294       NaN           NIL    -5.629700\n"
          ]
        },
        {
          "name": "stderr",
          "output_type": "stream",
          "text": [
            "<ipython-input-47-ec24cba3352e>:3: SettingWithCopyWarning: \n",
            "A value is trying to be set on a copy of a slice from a DataFrame\n",
            "\n",
            "See the caveats in the documentation: https://pandas.pydata.org/pandas-docs/stable/user_guide/indexing.html#returning-a-view-versus-a-copy\n",
            "  actual_thirtydays_values['Profit/Loss'][i] = total_difference\n",
            "<ipython-input-47-ec24cba3352e>:7: SettingWithCopyWarning: \n",
            "A value is trying to be set on a copy of a slice from a DataFrame\n",
            "\n",
            "See the caveats in the documentation: https://pandas.pydata.org/pandas-docs/stable/user_guide/indexing.html#returning-a-view-versus-a-copy\n",
            "  actual_thirtydays_values['Profit/Loss'][i] = total_difference\n"
          ]
        }
      ],
      "source": [
        "for i in range(0,29):\n",
        "  if (i == 0):\n",
        "    actual_thirtydays_values['Profit/Loss'][i] = total_difference\n",
        "  else :\n",
        "    total_difference  = total_difference + (actual_thirtydays_values['Predictions'][i] - actual_thirtydays_values['Predictions'][i-1])\n",
        "    #print(total_difference)\n",
        "    actual_thirtydays_values['Profit/Loss'][i] = total_difference\n",
        "\n",
        "print(actual_thirtydays_values.head(10))"
      ]
    },
    {
      "cell_type": "code",
      "execution_count": 48,
      "metadata": {
        "colab": {
          "base_uri": "https://localhost:8080/"
        },
        "id": "hcVZtkOLDwfU",
        "outputId": "6da59d54-7552-4a55-f8e0-9d6e3ffa8c53"
      },
      "outputs": [
        {
          "name": "stdout",
          "output_type": "stream",
          "text": [
            "                 Close  Predictions  Accuracy Buy/Sell/Hold  Profit/Loss  \\\n",
            "Date                                                                       \n",
            "2023-03-29  160.770004   157.408980  2.090579           NIL    -0.241014   \n",
            "2023-03-30  162.360001   157.024967  3.285929           NIL    -0.625027   \n",
            "2023-03-31  164.899994   156.479054  5.106695           NIL    -1.170940   \n",
            "2023-04-03         NaN   155.851402       NaN           NIL    -1.798592   \n",
            "2023-04-04         NaN   155.191265       NaN           NIL    -2.458729   \n",
            "2023-04-05         NaN   154.527101       NaN           NIL    -3.122893   \n",
            "2023-04-06         NaN   153.873587       NaN           NIL    -3.776407   \n",
            "2023-04-07         NaN   153.237057       NaN           NIL    -4.412937   \n",
            "2023-04-10         NaN   152.619553       NaN           NIL    -5.030441   \n",
            "2023-04-11         NaN   152.020294       NaN           NIL    -5.629700   \n",
            "\n",
            "            Profit %  \n",
            "Date                  \n",
            "2023-03-29       0.0  \n",
            "2023-03-30       0.0  \n",
            "2023-03-31       0.0  \n",
            "2023-04-03       0.0  \n",
            "2023-04-04       0.0  \n",
            "2023-04-05       0.0  \n",
            "2023-04-06       0.0  \n",
            "2023-04-07       0.0  \n",
            "2023-04-10       0.0  \n",
            "2023-04-11       0.0  \n"
          ]
        }
      ],
      "source": [
        "#ADD PROFIT COLUMN TO THE DATAFRAME\n",
        "actual_thirtydays_values['Profit %'] = 0.0\n",
        "print(actual_thirtydays_values.head(10))"
      ]
    },
    {
      "cell_type": "code",
      "execution_count": 49,
      "metadata": {
        "colab": {
          "base_uri": "https://localhost:8080/"
        },
        "id": "Ng3Oa3XYiMny",
        "outputId": "c9ab466e-deee-40ca-cf32-f1f376a394ed"
      },
      "outputs": [
        {
          "name": "stdout",
          "output_type": "stream",
          "text": [
            "                 Close  Predictions  Accuracy Buy/Sell/Hold  Profit/Loss  \\\n",
            "Date                                                                       \n",
            "2023-03-29  160.770004   157.408980  2.090579          Hold    -0.241014   \n",
            "2023-03-30  162.360001   157.024967  3.285929          Hold    -0.625027   \n",
            "2023-03-31  164.899994   156.479054  5.106695          Hold    -1.170940   \n",
            "2023-04-03         NaN   155.851402       NaN          Hold    -1.798592   \n",
            "2023-04-04         NaN   155.191265       NaN          Hold    -2.458729   \n",
            "2023-04-05         NaN   154.527101       NaN          Hold    -3.122893   \n",
            "2023-04-06         NaN   153.873587       NaN          Sell    -3.776407   \n",
            "2023-04-07         NaN   153.237057       NaN          Sell    -4.412937   \n",
            "2023-04-10         NaN   152.619553       NaN          Sell    -5.030441   \n",
            "2023-04-11         NaN   152.020294       NaN          Sell    -5.629700   \n",
            "\n",
            "            Profit %  \n",
            "Date                  \n",
            "2023-03-29 -0.152879  \n",
            "2023-03-30 -0.396838  \n",
            "2023-03-31 -0.744498  \n",
            "2023-04-03 -1.145607  \n",
            "2023-04-04 -1.569175  \n",
            "2023-04-05 -1.997140  \n",
            "2023-04-06 -2.420053  \n",
            "2023-04-07 -2.833723  \n",
            "2023-04-10 -3.236696  \n",
            "2023-04-11 -3.629345  \n"
          ]
        },
        {
          "name": "stderr",
          "output_type": "stream",
          "text": [
            "<ipython-input-49-53b8ba31e85b>:6: SettingWithCopyWarning: \n",
            "A value is trying to be set on a copy of a slice from a DataFrame\n",
            "\n",
            "See the caveats in the documentation: https://pandas.pydata.org/pandas-docs/stable/user_guide/indexing.html#returning-a-view-versus-a-copy\n",
            "  actual_thirtydays_values['Profit %'][i] = total_percentage\n",
            "<ipython-input-49-53b8ba31e85b>:20: SettingWithCopyWarning: \n",
            "A value is trying to be set on a copy of a slice from a DataFrame\n",
            "\n",
            "See the caveats in the documentation: https://pandas.pydata.org/pandas-docs/stable/user_guide/indexing.html#returning-a-view-versus-a-copy\n",
            "  actual_thirtydays_values['Buy/Sell/Hold'][i] = 'Hold'\n",
            "<ipython-input-49-53b8ba31e85b>:12: SettingWithCopyWarning: \n",
            "A value is trying to be set on a copy of a slice from a DataFrame\n",
            "\n",
            "See the caveats in the documentation: https://pandas.pydata.org/pandas-docs/stable/user_guide/indexing.html#returning-a-view-versus-a-copy\n",
            "  actual_thirtydays_values['Profit %'][i] = total_percentage\n",
            "<ipython-input-49-53b8ba31e85b>:17: SettingWithCopyWarning: \n",
            "A value is trying to be set on a copy of a slice from a DataFrame\n",
            "\n",
            "See the caveats in the documentation: https://pandas.pydata.org/pandas-docs/stable/user_guide/indexing.html#returning-a-view-versus-a-copy\n",
            "  actual_thirtydays_values['Buy/Sell/Hold'][i] = \"Sell\"\n"
          ]
        }
      ],
      "source": [
        "#print(total_difference)\n",
        "#print(total_percentage)\n",
        "i=0\n",
        "for i in range(0,29):\n",
        "  if (i == 0):\n",
        "    actual_thirtydays_values['Profit %'][i] = total_percentage\n",
        "  else : \n",
        "    prediction_loss = (actual_thirtydays_values['Predictions'][i] - actual_thirtydays_values['Predictions'][i-1]) / (actual_thirtydays_values['Predictions'][i-1]) * 100\n",
        "    #print(prediction_loss)\n",
        "    total_percentage  = (total_percentage + prediction_loss ) \n",
        "    #print(total_percentage)\n",
        "    actual_thirtydays_values['Profit %'][i] = total_percentage\n",
        "\n",
        "  #Sell if the profit is less than 4% or the loss is greater than 2%\n",
        "  if total_percentage > 4 or total_percentage < -2:\n",
        "      #Calculate loss percentage \n",
        "      actual_thirtydays_values['Buy/Sell/Hold'][i] = \"Sell\"\n",
        "  #hold if the profit is between -4% and 4%\n",
        "  elif total_percentage >= -2 or total_percentage <= 4:\n",
        "      actual_thirtydays_values['Buy/Sell/Hold'][i] = 'Hold'\n",
        "  #Buy if the profit is greater than -4%\n",
        "  elif total_percentage < -5:\n",
        "      actual_thirtydays_values['Buy/Sell/Hold'][i] = 'Buy'\n",
        "\n",
        "print(actual_thirtydays_values.head(10))"
      ]
    }
  ],
  "metadata": {
    "colab": {
      "provenance": []
    },
    "kernelspec": {
      "display_name": "tensorflow",
      "language": "python",
      "name": "python3"
    },
    "language_info": {
      "codemirror_mode": {
        "name": "ipython",
        "version": 3
      },
      "file_extension": ".py",
      "mimetype": "text/x-python",
      "name": "python",
      "nbconvert_exporter": "python",
      "pygments_lexer": "ipython3",
      "version": "3.10.9"
    },
    "orig_nbformat": 4
  },
  "nbformat": 4,
  "nbformat_minor": 0
}
