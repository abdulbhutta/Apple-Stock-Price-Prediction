{
  "cells": [
    {
      "cell_type": "code",
      "execution_count": 1,
      "metadata": {
        "colab": {
          "base_uri": "https://localhost:8080/"
        },
        "id": "tlRkst1fTpFD",
        "outputId": "5ac5e0cb-16eb-4f42-ce6f-588b3cd1977c"
      },
      "outputs": [
        {
          "name": "stdout",
          "output_type": "stream",
          "text": [
            "Looking in indexes: https://pypi.org/simple, https://us-python.pkg.dev/colab-wheels/public/simple/\n",
            "Requirement already satisfied: yfinance in /usr/local/lib/python3.9/dist-packages (0.2.12)\n",
            "Requirement already satisfied: frozendict>=2.3.4 in /usr/local/lib/python3.9/dist-packages (from yfinance) (2.3.5)\n",
            "Requirement already satisfied: pandas>=1.3.0 in /usr/local/lib/python3.9/dist-packages (from yfinance) (1.4.4)\n",
            "Requirement already satisfied: html5lib>=1.1 in /usr/local/lib/python3.9/dist-packages (from yfinance) (1.1)\n",
            "Requirement already satisfied: pytz>=2022.5 in /usr/local/lib/python3.9/dist-packages (from yfinance) (2022.7.1)\n",
            "Requirement already satisfied: cryptography>=3.3.2 in /usr/local/lib/python3.9/dist-packages (from yfinance) (39.0.2)\n",
            "Requirement already satisfied: requests>=2.26 in /usr/local/lib/python3.9/dist-packages (from yfinance) (2.27.1)\n",
            "Requirement already satisfied: numpy>=1.16.5 in /usr/local/lib/python3.9/dist-packages (from yfinance) (1.22.4)\n",
            "Requirement already satisfied: beautifulsoup4>=4.11.1 in /usr/local/lib/python3.9/dist-packages (from yfinance) (4.11.2)\n",
            "Requirement already satisfied: appdirs>=1.4.4 in /usr/local/lib/python3.9/dist-packages (from yfinance) (1.4.4)\n",
            "Requirement already satisfied: multitasking>=0.0.7 in /usr/local/lib/python3.9/dist-packages (from yfinance) (0.0.11)\n",
            "Requirement already satisfied: lxml>=4.9.1 in /usr/local/lib/python3.9/dist-packages (from yfinance) (4.9.2)\n",
            "Requirement already satisfied: soupsieve>1.2 in /usr/local/lib/python3.9/dist-packages (from beautifulsoup4>=4.11.1->yfinance) (2.4)\n",
            "Requirement already satisfied: cffi>=1.12 in /usr/local/lib/python3.9/dist-packages (from cryptography>=3.3.2->yfinance) (1.15.1)\n",
            "Requirement already satisfied: six>=1.9 in /usr/local/lib/python3.9/dist-packages (from html5lib>=1.1->yfinance) (1.15.0)\n",
            "Requirement already satisfied: webencodings in /usr/local/lib/python3.9/dist-packages (from html5lib>=1.1->yfinance) (0.5.1)\n",
            "Requirement already satisfied: python-dateutil>=2.8.1 in /usr/local/lib/python3.9/dist-packages (from pandas>=1.3.0->yfinance) (2.8.2)\n",
            "Requirement already satisfied: certifi>=2017.4.17 in /usr/local/lib/python3.9/dist-packages (from requests>=2.26->yfinance) (2022.12.7)\n",
            "Requirement already satisfied: charset-normalizer~=2.0.0 in /usr/local/lib/python3.9/dist-packages (from requests>=2.26->yfinance) (2.0.12)\n",
            "Requirement already satisfied: idna<4,>=2.5 in /usr/local/lib/python3.9/dist-packages (from requests>=2.26->yfinance) (3.4)\n",
            "Requirement already satisfied: urllib3<1.27,>=1.21.1 in /usr/local/lib/python3.9/dist-packages (from requests>=2.26->yfinance) (1.26.15)\n",
            "Requirement already satisfied: pycparser in /usr/local/lib/python3.9/dist-packages (from cffi>=1.12->cryptography>=3.3.2->yfinance) (2.21)\n"
          ]
        }
      ],
      "source": [
        "!pip install yfinance\n",
        "import yfinance as yf\n",
        "import pandas as pd\n",
        "import numpy as np\n",
        "import math \n",
        "import matplotlib.pyplot as plt\n",
        "import tensorflow as tf\n",
        "from sklearn.preprocessing import MinMaxScaler\n",
        "from tensorflow.keras.models import Sequential\n",
        "from tensorflow.keras.layers import Dense, Dropout, LSTM\n",
        "from keras.models import Sequential\n",
        "from keras.layers import Dense, LSTM\n",
        "from sklearn.metrics import mean_squared_error"
      ]
    },
    {
      "cell_type": "code",
      "execution_count": 2,
      "metadata": {
        "colab": {
          "base_uri": "https://localhost:8080/"
        },
        "id": "aVKlxDbmTpFH",
        "outputId": "f3c2ca2f-00fa-4848-ebb0-bcae4af6ebee"
      },
      "outputs": [
        {
          "name": "stdout",
          "output_type": "stream",
          "text": [
            "\r[*********************100%***********************]  1 of 1 completed\n"
          ]
        }
      ],
      "source": [
        "data = yf.download('AAPL','2008-01-01','2023-03-15')"
      ]
    },
    {
      "cell_type": "code",
      "execution_count": 32,
      "metadata": {
        "colab": {
          "base_uri": "https://localhost:8080/"
        },
        "id": "ivyPHlXCYLS9",
        "outputId": "b64d3751-bf0a-46c3-8b9e-ff624c319fc2"
      },
      "outputs": [
        {
          "name": "stdout",
          "output_type": "stream",
          "text": [
            "\r[*********************100%***********************]  1 of 1 completed\n"
          ]
        }
      ],
      "source": [
        "recent_data = yf.download('AAPL', '2023-03-15')"
      ]
    },
    {
      "cell_type": "code",
      "execution_count": 33,
      "metadata": {
        "colab": {
          "base_uri": "https://localhost:8080/",
          "height": 201
        },
        "id": "7dWl4GN5YR4t",
        "outputId": "a287cee2-5fbb-4c72-c7b5-666d5325e86f"
      },
      "outputs": [
        {
          "data": {
            "text/html": [
              "\n",
              "  <div id=\"df-7e138b49-468e-465e-9ed7-9d419afb6249\">\n",
              "    <div class=\"colab-df-container\">\n",
              "      <div>\n",
              "<style scoped>\n",
              "    .dataframe tbody tr th:only-of-type {\n",
              "        vertical-align: middle;\n",
              "    }\n",
              "\n",
              "    .dataframe tbody tr th {\n",
              "        vertical-align: top;\n",
              "    }\n",
              "\n",
              "    .dataframe thead th {\n",
              "        text-align: right;\n",
              "    }\n",
              "</style>\n",
              "<table border=\"1\" class=\"dataframe\">\n",
              "  <thead>\n",
              "    <tr style=\"text-align: right;\">\n",
              "      <th></th>\n",
              "      <th>Open</th>\n",
              "      <th>High</th>\n",
              "      <th>Low</th>\n",
              "      <th>Close</th>\n",
              "      <th>Adj Close</th>\n",
              "      <th>Volume</th>\n",
              "    </tr>\n",
              "    <tr>\n",
              "      <th>Date</th>\n",
              "      <th></th>\n",
              "      <th></th>\n",
              "      <th></th>\n",
              "      <th></th>\n",
              "      <th></th>\n",
              "      <th></th>\n",
              "    </tr>\n",
              "  </thead>\n",
              "  <tbody>\n",
              "    <tr>\n",
              "      <th>2023-03-15</th>\n",
              "      <td>151.190002</td>\n",
              "      <td>153.250000</td>\n",
              "      <td>149.919998</td>\n",
              "      <td>152.990005</td>\n",
              "      <td>152.990005</td>\n",
              "      <td>77167900</td>\n",
              "    </tr>\n",
              "    <tr>\n",
              "      <th>2023-03-16</th>\n",
              "      <td>152.160004</td>\n",
              "      <td>156.460007</td>\n",
              "      <td>151.639999</td>\n",
              "      <td>155.850006</td>\n",
              "      <td>155.850006</td>\n",
              "      <td>76161100</td>\n",
              "    </tr>\n",
              "    <tr>\n",
              "      <th>2023-03-17</th>\n",
              "      <td>156.080002</td>\n",
              "      <td>156.740005</td>\n",
              "      <td>154.279999</td>\n",
              "      <td>155.000000</td>\n",
              "      <td>155.000000</td>\n",
              "      <td>98862500</td>\n",
              "    </tr>\n",
              "    <tr>\n",
              "      <th>2023-03-20</th>\n",
              "      <td>155.070007</td>\n",
              "      <td>157.809998</td>\n",
              "      <td>154.149994</td>\n",
              "      <td>157.399994</td>\n",
              "      <td>157.399994</td>\n",
              "      <td>71953858</td>\n",
              "    </tr>\n",
              "  </tbody>\n",
              "</table>\n",
              "</div>\n",
              "      <button class=\"colab-df-convert\" onclick=\"convertToInteractive('df-7e138b49-468e-465e-9ed7-9d419afb6249')\"\n",
              "              title=\"Convert this dataframe to an interactive table.\"\n",
              "              style=\"display:none;\">\n",
              "        \n",
              "  <svg xmlns=\"http://www.w3.org/2000/svg\" height=\"24px\"viewBox=\"0 0 24 24\"\n",
              "       width=\"24px\">\n",
              "    <path d=\"M0 0h24v24H0V0z\" fill=\"none\"/>\n",
              "    <path d=\"M18.56 5.44l.94 2.06.94-2.06 2.06-.94-2.06-.94-.94-2.06-.94 2.06-2.06.94zm-11 1L8.5 8.5l.94-2.06 2.06-.94-2.06-.94L8.5 2.5l-.94 2.06-2.06.94zm10 10l.94 2.06.94-2.06 2.06-.94-2.06-.94-.94-2.06-.94 2.06-2.06.94z\"/><path d=\"M17.41 7.96l-1.37-1.37c-.4-.4-.92-.59-1.43-.59-.52 0-1.04.2-1.43.59L10.3 9.45l-7.72 7.72c-.78.78-.78 2.05 0 2.83L4 21.41c.39.39.9.59 1.41.59.51 0 1.02-.2 1.41-.59l7.78-7.78 2.81-2.81c.8-.78.8-2.07 0-2.86zM5.41 20L4 18.59l7.72-7.72 1.47 1.35L5.41 20z\"/>\n",
              "  </svg>\n",
              "      </button>\n",
              "      \n",
              "  <style>\n",
              "    .colab-df-container {\n",
              "      display:flex;\n",
              "      flex-wrap:wrap;\n",
              "      gap: 12px;\n",
              "    }\n",
              "\n",
              "    .colab-df-convert {\n",
              "      background-color: #E8F0FE;\n",
              "      border: none;\n",
              "      border-radius: 50%;\n",
              "      cursor: pointer;\n",
              "      display: none;\n",
              "      fill: #1967D2;\n",
              "      height: 32px;\n",
              "      padding: 0 0 0 0;\n",
              "      width: 32px;\n",
              "    }\n",
              "\n",
              "    .colab-df-convert:hover {\n",
              "      background-color: #E2EBFA;\n",
              "      box-shadow: 0px 1px 2px rgba(60, 64, 67, 0.3), 0px 1px 3px 1px rgba(60, 64, 67, 0.15);\n",
              "      fill: #174EA6;\n",
              "    }\n",
              "\n",
              "    [theme=dark] .colab-df-convert {\n",
              "      background-color: #3B4455;\n",
              "      fill: #D2E3FC;\n",
              "    }\n",
              "\n",
              "    [theme=dark] .colab-df-convert:hover {\n",
              "      background-color: #434B5C;\n",
              "      box-shadow: 0px 1px 3px 1px rgba(0, 0, 0, 0.15);\n",
              "      filter: drop-shadow(0px 1px 2px rgba(0, 0, 0, 0.3));\n",
              "      fill: #FFFFFF;\n",
              "    }\n",
              "  </style>\n",
              "\n",
              "      <script>\n",
              "        const buttonEl =\n",
              "          document.querySelector('#df-7e138b49-468e-465e-9ed7-9d419afb6249 button.colab-df-convert');\n",
              "        buttonEl.style.display =\n",
              "          google.colab.kernel.accessAllowed ? 'block' : 'none';\n",
              "\n",
              "        async function convertToInteractive(key) {\n",
              "          const element = document.querySelector('#df-7e138b49-468e-465e-9ed7-9d419afb6249');\n",
              "          const dataTable =\n",
              "            await google.colab.kernel.invokeFunction('convertToInteractive',\n",
              "                                                     [key], {});\n",
              "          if (!dataTable) return;\n",
              "\n",
              "          const docLinkHtml = 'Like what you see? Visit the ' +\n",
              "            '<a target=\"_blank\" href=https://colab.research.google.com/notebooks/data_table.ipynb>data table notebook</a>'\n",
              "            + ' to learn more about interactive tables.';\n",
              "          element.innerHTML = '';\n",
              "          dataTable['output_type'] = 'display_data';\n",
              "          await google.colab.output.renderOutput(dataTable, element);\n",
              "          const docLink = document.createElement('div');\n",
              "          docLink.innerHTML = docLinkHtml;\n",
              "          element.appendChild(docLink);\n",
              "        }\n",
              "      </script>\n",
              "    </div>\n",
              "  </div>\n",
              "  "
            ],
            "text/plain": [
              "                  Open        High         Low       Close   Adj Close  \\\n",
              "Date                                                                     \n",
              "2023-03-15  151.190002  153.250000  149.919998  152.990005  152.990005   \n",
              "2023-03-16  152.160004  156.460007  151.639999  155.850006  155.850006   \n",
              "2023-03-17  156.080002  156.740005  154.279999  155.000000  155.000000   \n",
              "2023-03-20  155.070007  157.809998  154.149994  157.399994  157.399994   \n",
              "\n",
              "              Volume  \n",
              "Date                  \n",
              "2023-03-15  77167900  \n",
              "2023-03-16  76161100  \n",
              "2023-03-17  98862500  \n",
              "2023-03-20  71953858  "
            ]
          },
          "execution_count": 33,
          "metadata": {},
          "output_type": "execute_result"
        }
      ],
      "source": [
        "recent_data.head(10)"
      ]
    },
    {
      "cell_type": "code",
      "execution_count": null,
      "metadata": {
        "id": "0r0WcjjOYY--"
      },
      "outputs": [],
      "source": []
    },
    {
      "cell_type": "code",
      "execution_count": 3,
      "metadata": {
        "colab": {
          "base_uri": "https://localhost:8080/"
        },
        "id": "4-1B0YZ9TpFH",
        "outputId": "7d89a828-66b1-464b-e39f-db7fb3ea382e"
      },
      "outputs": [
        {
          "data": {
            "text/plain": [
              "(3826, 6)"
            ]
          },
          "execution_count": 3,
          "metadata": {},
          "output_type": "execute_result"
        }
      ],
      "source": [
        "data.shape"
      ]
    },
    {
      "cell_type": "code",
      "execution_count": 4,
      "metadata": {
        "colab": {
          "base_uri": "https://localhost:8080/",
          "height": 991
        },
        "id": "jheH2qrtTpFI",
        "outputId": "00c990d1-6a6b-43b6-e7d6-1287f835bcf0"
      },
      "outputs": [
        {
          "data": {
            "text/html": [
              "\n",
              "  <div id=\"df-2f059480-4929-46a6-8890-13d8b33e62b3\">\n",
              "    <div class=\"colab-df-container\">\n",
              "      <div>\n",
              "<style scoped>\n",
              "    .dataframe tbody tr th:only-of-type {\n",
              "        vertical-align: middle;\n",
              "    }\n",
              "\n",
              "    .dataframe tbody tr th {\n",
              "        vertical-align: top;\n",
              "    }\n",
              "\n",
              "    .dataframe thead th {\n",
              "        text-align: right;\n",
              "    }\n",
              "</style>\n",
              "<table border=\"1\" class=\"dataframe\">\n",
              "  <thead>\n",
              "    <tr style=\"text-align: right;\">\n",
              "      <th></th>\n",
              "      <th>Open</th>\n",
              "      <th>High</th>\n",
              "      <th>Low</th>\n",
              "      <th>Close</th>\n",
              "      <th>Adj Close</th>\n",
              "      <th>Volume</th>\n",
              "    </tr>\n",
              "    <tr>\n",
              "      <th>Date</th>\n",
              "      <th></th>\n",
              "      <th></th>\n",
              "      <th></th>\n",
              "      <th></th>\n",
              "      <th></th>\n",
              "      <th></th>\n",
              "    </tr>\n",
              "  </thead>\n",
              "  <tbody>\n",
              "    <tr>\n",
              "      <th>2023-01-31</th>\n",
              "      <td>142.699997</td>\n",
              "      <td>144.339996</td>\n",
              "      <td>142.279999</td>\n",
              "      <td>144.289993</td>\n",
              "      <td>144.070023</td>\n",
              "      <td>65874500</td>\n",
              "    </tr>\n",
              "    <tr>\n",
              "      <th>2023-02-01</th>\n",
              "      <td>143.970001</td>\n",
              "      <td>146.610001</td>\n",
              "      <td>141.320007</td>\n",
              "      <td>145.429993</td>\n",
              "      <td>145.208282</td>\n",
              "      <td>77663600</td>\n",
              "    </tr>\n",
              "    <tr>\n",
              "      <th>2023-02-02</th>\n",
              "      <td>148.899994</td>\n",
              "      <td>151.179993</td>\n",
              "      <td>148.169998</td>\n",
              "      <td>150.820007</td>\n",
              "      <td>150.590088</td>\n",
              "      <td>118339000</td>\n",
              "    </tr>\n",
              "    <tr>\n",
              "      <th>2023-02-03</th>\n",
              "      <td>148.029999</td>\n",
              "      <td>157.380005</td>\n",
              "      <td>147.830002</td>\n",
              "      <td>154.500000</td>\n",
              "      <td>154.264465</td>\n",
              "      <td>154357300</td>\n",
              "    </tr>\n",
              "    <tr>\n",
              "      <th>2023-02-06</th>\n",
              "      <td>152.570007</td>\n",
              "      <td>153.100006</td>\n",
              "      <td>150.779999</td>\n",
              "      <td>151.729996</td>\n",
              "      <td>151.498688</td>\n",
              "      <td>69858300</td>\n",
              "    </tr>\n",
              "    <tr>\n",
              "      <th>2023-02-07</th>\n",
              "      <td>150.639999</td>\n",
              "      <td>155.229996</td>\n",
              "      <td>150.639999</td>\n",
              "      <td>154.649994</td>\n",
              "      <td>154.414230</td>\n",
              "      <td>83322600</td>\n",
              "    </tr>\n",
              "    <tr>\n",
              "      <th>2023-02-08</th>\n",
              "      <td>153.880005</td>\n",
              "      <td>154.580002</td>\n",
              "      <td>151.169998</td>\n",
              "      <td>151.919998</td>\n",
              "      <td>151.688400</td>\n",
              "      <td>64120100</td>\n",
              "    </tr>\n",
              "    <tr>\n",
              "      <th>2023-02-09</th>\n",
              "      <td>153.779999</td>\n",
              "      <td>154.330002</td>\n",
              "      <td>150.419998</td>\n",
              "      <td>150.869995</td>\n",
              "      <td>150.639999</td>\n",
              "      <td>56007100</td>\n",
              "    </tr>\n",
              "    <tr>\n",
              "      <th>2023-02-10</th>\n",
              "      <td>149.460007</td>\n",
              "      <td>151.339996</td>\n",
              "      <td>149.220001</td>\n",
              "      <td>151.009995</td>\n",
              "      <td>151.009995</td>\n",
              "      <td>57450700</td>\n",
              "    </tr>\n",
              "    <tr>\n",
              "      <th>2023-02-13</th>\n",
              "      <td>150.949997</td>\n",
              "      <td>154.259995</td>\n",
              "      <td>150.919998</td>\n",
              "      <td>153.850006</td>\n",
              "      <td>153.850006</td>\n",
              "      <td>62199000</td>\n",
              "    </tr>\n",
              "    <tr>\n",
              "      <th>2023-02-14</th>\n",
              "      <td>152.119995</td>\n",
              "      <td>153.770004</td>\n",
              "      <td>150.860001</td>\n",
              "      <td>153.199997</td>\n",
              "      <td>153.199997</td>\n",
              "      <td>61707600</td>\n",
              "    </tr>\n",
              "    <tr>\n",
              "      <th>2023-02-15</th>\n",
              "      <td>153.110001</td>\n",
              "      <td>155.500000</td>\n",
              "      <td>152.880005</td>\n",
              "      <td>155.330002</td>\n",
              "      <td>155.330002</td>\n",
              "      <td>65573800</td>\n",
              "    </tr>\n",
              "    <tr>\n",
              "      <th>2023-02-16</th>\n",
              "      <td>153.509995</td>\n",
              "      <td>156.330002</td>\n",
              "      <td>153.350006</td>\n",
              "      <td>153.710007</td>\n",
              "      <td>153.710007</td>\n",
              "      <td>68167900</td>\n",
              "    </tr>\n",
              "    <tr>\n",
              "      <th>2023-02-17</th>\n",
              "      <td>152.350006</td>\n",
              "      <td>153.000000</td>\n",
              "      <td>150.850006</td>\n",
              "      <td>152.550003</td>\n",
              "      <td>152.550003</td>\n",
              "      <td>59144100</td>\n",
              "    </tr>\n",
              "    <tr>\n",
              "      <th>2023-02-21</th>\n",
              "      <td>150.199997</td>\n",
              "      <td>151.300003</td>\n",
              "      <td>148.410004</td>\n",
              "      <td>148.479996</td>\n",
              "      <td>148.479996</td>\n",
              "      <td>58867200</td>\n",
              "    </tr>\n",
              "    <tr>\n",
              "      <th>2023-02-22</th>\n",
              "      <td>148.869995</td>\n",
              "      <td>149.949997</td>\n",
              "      <td>147.160004</td>\n",
              "      <td>148.910004</td>\n",
              "      <td>148.910004</td>\n",
              "      <td>51011300</td>\n",
              "    </tr>\n",
              "    <tr>\n",
              "      <th>2023-02-23</th>\n",
              "      <td>150.089996</td>\n",
              "      <td>150.339996</td>\n",
              "      <td>147.240005</td>\n",
              "      <td>149.399994</td>\n",
              "      <td>149.399994</td>\n",
              "      <td>48394200</td>\n",
              "    </tr>\n",
              "    <tr>\n",
              "      <th>2023-02-24</th>\n",
              "      <td>147.110001</td>\n",
              "      <td>147.190002</td>\n",
              "      <td>145.720001</td>\n",
              "      <td>146.710007</td>\n",
              "      <td>146.710007</td>\n",
              "      <td>55469600</td>\n",
              "    </tr>\n",
              "    <tr>\n",
              "      <th>2023-02-27</th>\n",
              "      <td>147.710007</td>\n",
              "      <td>149.169998</td>\n",
              "      <td>147.449997</td>\n",
              "      <td>147.919998</td>\n",
              "      <td>147.919998</td>\n",
              "      <td>44998500</td>\n",
              "    </tr>\n",
              "    <tr>\n",
              "      <th>2023-02-28</th>\n",
              "      <td>147.050003</td>\n",
              "      <td>149.080002</td>\n",
              "      <td>146.830002</td>\n",
              "      <td>147.410004</td>\n",
              "      <td>147.410004</td>\n",
              "      <td>50547000</td>\n",
              "    </tr>\n",
              "    <tr>\n",
              "      <th>2023-03-01</th>\n",
              "      <td>146.830002</td>\n",
              "      <td>147.229996</td>\n",
              "      <td>145.009995</td>\n",
              "      <td>145.309998</td>\n",
              "      <td>145.309998</td>\n",
              "      <td>55479000</td>\n",
              "    </tr>\n",
              "    <tr>\n",
              "      <th>2023-03-02</th>\n",
              "      <td>144.380005</td>\n",
              "      <td>146.710007</td>\n",
              "      <td>143.899994</td>\n",
              "      <td>145.910004</td>\n",
              "      <td>145.910004</td>\n",
              "      <td>52238100</td>\n",
              "    </tr>\n",
              "    <tr>\n",
              "      <th>2023-03-03</th>\n",
              "      <td>148.039993</td>\n",
              "      <td>151.110001</td>\n",
              "      <td>147.330002</td>\n",
              "      <td>151.029999</td>\n",
              "      <td>151.029999</td>\n",
              "      <td>70668500</td>\n",
              "    </tr>\n",
              "    <tr>\n",
              "      <th>2023-03-06</th>\n",
              "      <td>153.789993</td>\n",
              "      <td>156.300003</td>\n",
              "      <td>153.460007</td>\n",
              "      <td>153.830002</td>\n",
              "      <td>153.830002</td>\n",
              "      <td>87558000</td>\n",
              "    </tr>\n",
              "    <tr>\n",
              "      <th>2023-03-07</th>\n",
              "      <td>153.699997</td>\n",
              "      <td>154.029999</td>\n",
              "      <td>151.130005</td>\n",
              "      <td>151.600006</td>\n",
              "      <td>151.600006</td>\n",
              "      <td>56182000</td>\n",
              "    </tr>\n",
              "    <tr>\n",
              "      <th>2023-03-08</th>\n",
              "      <td>152.809998</td>\n",
              "      <td>153.470001</td>\n",
              "      <td>151.830002</td>\n",
              "      <td>152.869995</td>\n",
              "      <td>152.869995</td>\n",
              "      <td>47204800</td>\n",
              "    </tr>\n",
              "    <tr>\n",
              "      <th>2023-03-09</th>\n",
              "      <td>153.559998</td>\n",
              "      <td>154.539993</td>\n",
              "      <td>150.229996</td>\n",
              "      <td>150.589996</td>\n",
              "      <td>150.589996</td>\n",
              "      <td>53833600</td>\n",
              "    </tr>\n",
              "    <tr>\n",
              "      <th>2023-03-10</th>\n",
              "      <td>150.210007</td>\n",
              "      <td>150.940002</td>\n",
              "      <td>147.610001</td>\n",
              "      <td>148.500000</td>\n",
              "      <td>148.500000</td>\n",
              "      <td>68524400</td>\n",
              "    </tr>\n",
              "    <tr>\n",
              "      <th>2023-03-13</th>\n",
              "      <td>147.809998</td>\n",
              "      <td>153.139999</td>\n",
              "      <td>147.699997</td>\n",
              "      <td>150.470001</td>\n",
              "      <td>150.470001</td>\n",
              "      <td>84457100</td>\n",
              "    </tr>\n",
              "    <tr>\n",
              "      <th>2023-03-14</th>\n",
              "      <td>151.279999</td>\n",
              "      <td>153.399994</td>\n",
              "      <td>150.100006</td>\n",
              "      <td>152.589996</td>\n",
              "      <td>152.589996</td>\n",
              "      <td>73695900</td>\n",
              "    </tr>\n",
              "  </tbody>\n",
              "</table>\n",
              "</div>\n",
              "      <button class=\"colab-df-convert\" onclick=\"convertToInteractive('df-2f059480-4929-46a6-8890-13d8b33e62b3')\"\n",
              "              title=\"Convert this dataframe to an interactive table.\"\n",
              "              style=\"display:none;\">\n",
              "        \n",
              "  <svg xmlns=\"http://www.w3.org/2000/svg\" height=\"24px\"viewBox=\"0 0 24 24\"\n",
              "       width=\"24px\">\n",
              "    <path d=\"M0 0h24v24H0V0z\" fill=\"none\"/>\n",
              "    <path d=\"M18.56 5.44l.94 2.06.94-2.06 2.06-.94-2.06-.94-.94-2.06-.94 2.06-2.06.94zm-11 1L8.5 8.5l.94-2.06 2.06-.94-2.06-.94L8.5 2.5l-.94 2.06-2.06.94zm10 10l.94 2.06.94-2.06 2.06-.94-2.06-.94-.94-2.06-.94 2.06-2.06.94z\"/><path d=\"M17.41 7.96l-1.37-1.37c-.4-.4-.92-.59-1.43-.59-.52 0-1.04.2-1.43.59L10.3 9.45l-7.72 7.72c-.78.78-.78 2.05 0 2.83L4 21.41c.39.39.9.59 1.41.59.51 0 1.02-.2 1.41-.59l7.78-7.78 2.81-2.81c.8-.78.8-2.07 0-2.86zM5.41 20L4 18.59l7.72-7.72 1.47 1.35L5.41 20z\"/>\n",
              "  </svg>\n",
              "      </button>\n",
              "      \n",
              "  <style>\n",
              "    .colab-df-container {\n",
              "      display:flex;\n",
              "      flex-wrap:wrap;\n",
              "      gap: 12px;\n",
              "    }\n",
              "\n",
              "    .colab-df-convert {\n",
              "      background-color: #E8F0FE;\n",
              "      border: none;\n",
              "      border-radius: 50%;\n",
              "      cursor: pointer;\n",
              "      display: none;\n",
              "      fill: #1967D2;\n",
              "      height: 32px;\n",
              "      padding: 0 0 0 0;\n",
              "      width: 32px;\n",
              "    }\n",
              "\n",
              "    .colab-df-convert:hover {\n",
              "      background-color: #E2EBFA;\n",
              "      box-shadow: 0px 1px 2px rgba(60, 64, 67, 0.3), 0px 1px 3px 1px rgba(60, 64, 67, 0.15);\n",
              "      fill: #174EA6;\n",
              "    }\n",
              "\n",
              "    [theme=dark] .colab-df-convert {\n",
              "      background-color: #3B4455;\n",
              "      fill: #D2E3FC;\n",
              "    }\n",
              "\n",
              "    [theme=dark] .colab-df-convert:hover {\n",
              "      background-color: #434B5C;\n",
              "      box-shadow: 0px 1px 3px 1px rgba(0, 0, 0, 0.15);\n",
              "      filter: drop-shadow(0px 1px 2px rgba(0, 0, 0, 0.3));\n",
              "      fill: #FFFFFF;\n",
              "    }\n",
              "  </style>\n",
              "\n",
              "      <script>\n",
              "        const buttonEl =\n",
              "          document.querySelector('#df-2f059480-4929-46a6-8890-13d8b33e62b3 button.colab-df-convert');\n",
              "        buttonEl.style.display =\n",
              "          google.colab.kernel.accessAllowed ? 'block' : 'none';\n",
              "\n",
              "        async function convertToInteractive(key) {\n",
              "          const element = document.querySelector('#df-2f059480-4929-46a6-8890-13d8b33e62b3');\n",
              "          const dataTable =\n",
              "            await google.colab.kernel.invokeFunction('convertToInteractive',\n",
              "                                                     [key], {});\n",
              "          if (!dataTable) return;\n",
              "\n",
              "          const docLinkHtml = 'Like what you see? Visit the ' +\n",
              "            '<a target=\"_blank\" href=https://colab.research.google.com/notebooks/data_table.ipynb>data table notebook</a>'\n",
              "            + ' to learn more about interactive tables.';\n",
              "          element.innerHTML = '';\n",
              "          dataTable['output_type'] = 'display_data';\n",
              "          await google.colab.output.renderOutput(dataTable, element);\n",
              "          const docLink = document.createElement('div');\n",
              "          docLink.innerHTML = docLinkHtml;\n",
              "          element.appendChild(docLink);\n",
              "        }\n",
              "      </script>\n",
              "    </div>\n",
              "  </div>\n",
              "  "
            ],
            "text/plain": [
              "                  Open        High         Low       Close   Adj Close  \\\n",
              "Date                                                                     \n",
              "2023-01-31  142.699997  144.339996  142.279999  144.289993  144.070023   \n",
              "2023-02-01  143.970001  146.610001  141.320007  145.429993  145.208282   \n",
              "2023-02-02  148.899994  151.179993  148.169998  150.820007  150.590088   \n",
              "2023-02-03  148.029999  157.380005  147.830002  154.500000  154.264465   \n",
              "2023-02-06  152.570007  153.100006  150.779999  151.729996  151.498688   \n",
              "2023-02-07  150.639999  155.229996  150.639999  154.649994  154.414230   \n",
              "2023-02-08  153.880005  154.580002  151.169998  151.919998  151.688400   \n",
              "2023-02-09  153.779999  154.330002  150.419998  150.869995  150.639999   \n",
              "2023-02-10  149.460007  151.339996  149.220001  151.009995  151.009995   \n",
              "2023-02-13  150.949997  154.259995  150.919998  153.850006  153.850006   \n",
              "2023-02-14  152.119995  153.770004  150.860001  153.199997  153.199997   \n",
              "2023-02-15  153.110001  155.500000  152.880005  155.330002  155.330002   \n",
              "2023-02-16  153.509995  156.330002  153.350006  153.710007  153.710007   \n",
              "2023-02-17  152.350006  153.000000  150.850006  152.550003  152.550003   \n",
              "2023-02-21  150.199997  151.300003  148.410004  148.479996  148.479996   \n",
              "2023-02-22  148.869995  149.949997  147.160004  148.910004  148.910004   \n",
              "2023-02-23  150.089996  150.339996  147.240005  149.399994  149.399994   \n",
              "2023-02-24  147.110001  147.190002  145.720001  146.710007  146.710007   \n",
              "2023-02-27  147.710007  149.169998  147.449997  147.919998  147.919998   \n",
              "2023-02-28  147.050003  149.080002  146.830002  147.410004  147.410004   \n",
              "2023-03-01  146.830002  147.229996  145.009995  145.309998  145.309998   \n",
              "2023-03-02  144.380005  146.710007  143.899994  145.910004  145.910004   \n",
              "2023-03-03  148.039993  151.110001  147.330002  151.029999  151.029999   \n",
              "2023-03-06  153.789993  156.300003  153.460007  153.830002  153.830002   \n",
              "2023-03-07  153.699997  154.029999  151.130005  151.600006  151.600006   \n",
              "2023-03-08  152.809998  153.470001  151.830002  152.869995  152.869995   \n",
              "2023-03-09  153.559998  154.539993  150.229996  150.589996  150.589996   \n",
              "2023-03-10  150.210007  150.940002  147.610001  148.500000  148.500000   \n",
              "2023-03-13  147.809998  153.139999  147.699997  150.470001  150.470001   \n",
              "2023-03-14  151.279999  153.399994  150.100006  152.589996  152.589996   \n",
              "\n",
              "               Volume  \n",
              "Date                   \n",
              "2023-01-31   65874500  \n",
              "2023-02-01   77663600  \n",
              "2023-02-02  118339000  \n",
              "2023-02-03  154357300  \n",
              "2023-02-06   69858300  \n",
              "2023-02-07   83322600  \n",
              "2023-02-08   64120100  \n",
              "2023-02-09   56007100  \n",
              "2023-02-10   57450700  \n",
              "2023-02-13   62199000  \n",
              "2023-02-14   61707600  \n",
              "2023-02-15   65573800  \n",
              "2023-02-16   68167900  \n",
              "2023-02-17   59144100  \n",
              "2023-02-21   58867200  \n",
              "2023-02-22   51011300  \n",
              "2023-02-23   48394200  \n",
              "2023-02-24   55469600  \n",
              "2023-02-27   44998500  \n",
              "2023-02-28   50547000  \n",
              "2023-03-01   55479000  \n",
              "2023-03-02   52238100  \n",
              "2023-03-03   70668500  \n",
              "2023-03-06   87558000  \n",
              "2023-03-07   56182000  \n",
              "2023-03-08   47204800  \n",
              "2023-03-09   53833600  \n",
              "2023-03-10   68524400  \n",
              "2023-03-13   84457100  \n",
              "2023-03-14   73695900  "
            ]
          },
          "execution_count": 4,
          "metadata": {},
          "output_type": "execute_result"
        }
      ],
      "source": [
        "data.tail(30)"
      ]
    },
    {
      "cell_type": "code",
      "execution_count": 5,
      "metadata": {
        "colab": {
          "base_uri": "https://localhost:8080/",
          "height": 520
        },
        "id": "edF4AWj-TpFI",
        "outputId": "6a7ef3aa-dd93-4cb1-8875-7c4ed3e54b22"
      },
      "outputs": [
        {
          "data": {
            "image/png": "[encoded data removed]",
            "text/plain": [
              "<Figure size 1152x576 with 1 Axes>"
            ]
          },
          "metadata": {
            "needs_background": "light"
          },
          "output_type": "display_data"
        }
      ],
      "source": [
        "#Plotting the closing price history\n",
        "plt.figure(figsize=(16,8))\n",
        "plt.title('Close Price History')\n",
        "plt.plot(data['Close'])\n",
        "plt.xlabel('Date', fontsize=18)\n",
        "plt.ylabel('Close Price USD ($)', fontsize=18)\n",
        "plt.show()"
      ]
    },
    {
      "cell_type": "code",
      "execution_count": 6,
      "metadata": {
        "colab": {
          "base_uri": "https://localhost:8080/",
          "height": 482
        },
        "id": "BnCBa0DvTpFI",
        "outputId": "9c92309b-bf62-4a68-9e7d-9e4fcb78dd4d"
      },
      "outputs": [
        {
          "data": {
            "image/png": "[encoded data removed]",
            "text/plain": [
              "<Figure size 1152x576 with 1 Axes>"
            ]
          },
          "metadata": {
            "needs_background": "light"
          },
          "output_type": "display_data"
        }
      ],
      "source": [
        "#Scale the data and plot the scaled data\n",
        "scaler = MinMaxScaler(feature_range=(0,1))\n",
        "scaled_data = scaler.fit_transform(data['Close'].values.reshape(-1,1))\n",
        "\n",
        "#plot the scaled data from day 0 to current day\n",
        "plt.figure(figsize=(16,8))\n",
        "plt.plot(scaled_data, label='Scaled Data')\n",
        "plt.legend(loc='upper left')\n",
        "plt.show()"
      ]
    },
    {
      "cell_type": "code",
      "execution_count": 7,
      "metadata": {
        "colab": {
          "base_uri": "https://localhost:8080/"
        },
        "id": "JqSAZVJzTpFJ",
        "outputId": "bcdc7520-1022-4e1a-806d-917c5f09c13a"
      },
      "outputs": [
        {
          "name": "stdout",
          "output_type": "stream",
          "text": [
            "[[0.02324395]\n",
            " [0.02326189]\n",
            " [0.02029661]\n",
            " ...\n",
            " [0.81302014]\n",
            " [0.8240124 ]\n",
            " [0.8358416 ]]\n"
          ]
        }
      ],
      "source": [
        "print(scaled_data)"
      ]
    },
    {
      "cell_type": "code",
      "execution_count": 8,
      "metadata": {
        "colab": {
          "base_uri": "https://localhost:8080/"
        },
        "id": "L0KZ76bgTpFJ",
        "outputId": "68d586cc-336a-4d4e-e808-69d065dbebb8"
      },
      "outputs": [
        {
          "name": "stdout",
          "output_type": "stream",
          "text": [
            "Total Rows in Training Dataset:  3061\n",
            "Total Rows in Testing Dataset:  766\n"
          ]
        }
      ],
      "source": [
        "#Create a new dataframe with only the 'Close' column\n",
        "data = data.filter(['Close'])\n",
        "\n",
        "#Convert the dataframe to a numpy array\n",
        "dataset = data.values\n",
        "\n",
        "#Get the number of rows to train the model on (80% of the data)\n",
        "training_size = int(np.ceil( len(scaled_data) * .8 ))\n",
        "test_size = int(np.ceil( len(scaled_data) * .2 ))\n",
        "\n",
        "#2860 is 80 percent of the total number of rows in the dataset\n",
        "print(\"Total Rows in Training Dataset: \", training_size)\n",
        "print(\"Total Rows in Testing Dataset: \", test_size)"
      ]
    },
    {
      "cell_type": "code",
      "execution_count": 9,
      "metadata": {
        "colab": {
          "base_uri": "https://localhost:8080/"
        },
        "id": "ZRPNxSWQTpFJ",
        "outputId": "5b8435a7-bd1c-46f1-a2a6-6f341a7783d7"
      },
      "outputs": [
        {
          "name": "stdout",
          "output_type": "stream",
          "text": [
            "Training Data Shape:  (3061, 1)\n",
            "Testing Data Shape:  (765, 1)\n"
          ]
        }
      ],
      "source": [
        "#Split the data in to training and testing data, 80% training and 20% testing starting from the beginning of the dataset\n",
        "train_data = scaled_data[0:training_size , :] #From 0 to 3061\n",
        "test_data = scaled_data[training_size:len(scaled_data), :] #From 3061 to the end\n",
        "\n",
        "#remove null values\n",
        "train_data = train_data[~np.isnan(train_data).any(axis=1)]\n",
        "test_data = test_data[~np.isnan(test_data).any(axis=1)]\n",
        "\n",
        "#print the shape of the training and testing data\n",
        "print(\"Training Data Shape: \", train_data.shape)\n",
        "print(\"Testing Data Shape: \", test_data.shape)"
      ]
    },
    {
      "cell_type": "code",
      "execution_count": 10,
      "metadata": {
        "id": "KPGMDtffTpFK"
      },
      "outputs": [],
      "source": [
        "#Time step is the number of days we want to look back to predict the next closing price\n",
        "#We need use the training data to create the x_train and y_train data sets where x_train is the closing price of the previous 14 years and y_train is the closing price of the next day\n",
        "#if data is 120, 130, 125, 140, 134, and 150 then x_train would be 120, 130, 125, 140, 134 and y_train would be 150\n",
        "#We will do the same for the test data and then check the accuracy of the model\n",
        "\n",
        "#Function to create the x_train and y_train data sets\n",
        "def create_dataset (dataset, time_step=1):\n",
        "    dataX, dataY = [], []\n",
        "    #Loop through the data and create the x_train and y_train data sets\n",
        "    for i in range(len(dataset)-time_step-1):\n",
        "        a = dataset[i:(i+time_step), 0] #Start from 0 to time_step and add to a\n",
        "        dataX.append(a) #Store the values from 0 to time_step in dataX\n",
        "        dataY.append(dataset[i+time_step, 0]) #Store the value of the next day in dataY\n",
        "    return np.array(dataX), np.array(dataY) #Return the training data and the testing data as numpy arrays"
      ]
    },
    {
      "cell_type": "code",
      "execution_count": 11,
      "metadata": {
        "colab": {
          "base_uri": "https://localhost:8080/"
        },
        "id": "lBydoH_aTpFK",
        "outputId": "69f9986c-a9aa-410d-ca4a-44ba4c315f63"
      },
      "outputs": [
        {
          "name": "stdout",
          "output_type": "stream",
          "text": [
            "(3030, 30)\n",
            "(3030,)\n"
          ]
        }
      ],
      "source": [
        "#time step is the number of days we want to look back to predict the next closing price and we will use 30 days for this model (Hyperparamater Tuning) \n",
        "time_step = 30\n",
        "\n",
        "#Create the training data set\n",
        "x_train, y_train = create_dataset(train_data, time_step)\n",
        "\n",
        "#180 features and 2550 rows\n",
        "print (x_train.shape) #the training data should have 30 features for 30 days\n",
        "print (y_train.shape)"
      ]
    },
    {
      "cell_type": "code",
      "execution_count": 12,
      "metadata": {
        "colab": {
          "base_uri": "https://localhost:8080/"
        },
        "id": "lqYJh49xTpFK",
        "outputId": "b586909e-7168-4f38-c2b3-911c658882ac"
      },
      "outputs": [
        {
          "name": "stdout",
          "output_type": "stream",
          "text": [
            "(734, 30)\n",
            "(734,)\n"
          ]
        }
      ],
      "source": [
        "#Create the testing data set\n",
        "x_test, y_test = create_dataset(test_data, time_step)\n",
        "\n",
        "#180 features an 730 rows\n",
        "print(x_test.shape)\n",
        "print(y_test.shape)"
      ]
    },
    {
      "cell_type": "code",
      "execution_count": 13,
      "metadata": {
        "id": "lHKmx-PUTpFL"
      },
      "outputs": [],
      "source": [
        "#Reshape the data to fit the LSTM model\n",
        "#The LSTM model expects the data to be in the form of [samples, time steps, features] and right now our data is in the form [samples, features]\n",
        "#The last two parameters are fed to the LSTM model as input\n",
        "x_train = x_train.reshape(x_train.shape[0], x_train.shape[1], 1)\n",
        "x_test = x_test.reshape(x_test.shape[0], x_test.shape[1], 1)"
      ]
    },
    {
      "cell_type": "code",
      "execution_count": 14,
      "metadata": {
        "id": "0hCOigp6TpFL"
      },
      "outputs": [],
      "source": [
        "#Create the LSTM model and drop 20% of the neurons to prevent overfitting\n",
        "model = Sequential()\n",
        "model.add(LSTM(256, return_sequences=True, input_shape=(time_step,1)))\n",
        "model.add(Dropout(0.2))\n",
        "model.add(LSTM(128, return_sequences=True))\n",
        "model.add(Dropout(0.2))\n",
        "model.add(LSTM(64, return_sequences=True))\n",
        "model.add(Dropout(0.2))\n",
        "\n",
        "#One final output layer to predict the closing price\n",
        "model.add(Dense(1))\n",
        "\n",
        "#Compile the model with the adam optimizer and mean squared error loss function\n",
        "model.compile(optimizer='adam', loss='mean_squared_error')\n"
      ]
    },
    {
      "cell_type": "code",
      "execution_count": 15,
      "metadata": {
        "colab": {
          "base_uri": "https://localhost:8080/"
        },
        "id": "QYnLnrJrTpFL",
        "outputId": "e4d895af-c479-4a48-ddaa-86a2c5e11bce"
      },
      "outputs": [
        {
          "name": "stdout",
          "output_type": "stream",
          "text": [
            "Model: \"sequential\"\n",
            "_________________________________________________________________\n",
            " Layer (type)                Output Shape              Param #   \n",
            "=================================================================\n",
            " lstm (LSTM)                 (None, 30, 256)           264192    \n",
            "                                                                 \n",
            " lstm_1 (LSTM)               (None, 30, 128)           197120    \n",
            "                                                                 \n",
            " lstm_2 (LSTM)               (None, 64)                49408     \n",
            "                                                                 \n",
            " dense (Dense)               (None, 1)                 65        \n",
            "                                                                 \n",
            "=================================================================\n",
            "Total params: 510,785\n",
            "Trainable params: 510,785\n",
            "Non-trainable params: 0\n",
            "_________________________________________________________________\n"
          ]
        }
      ],
      "source": [
        "model.summary()"
      ]
    },
    {
      "cell_type": "code",
      "execution_count": 16,
      "metadata": {
        "colab": {
          "base_uri": "https://localhost:8080/"
        },
        "id": "fWb2AenJT9vK",
        "outputId": "619c8a2a-31a7-498f-c340-b6e1e6df878e"
      },
      "outputs": [
        {
          "name": "stdout",
          "output_type": "stream",
          "text": [
            "Epoch 1/5\n",
            "48/48 [==============================] - 37s 545ms/step - loss: 0.0011 - val_loss: 0.0041\n",
            "Epoch 2/5\n",
            "48/48 [==============================] - 15s 319ms/step - loss: 6.3413e-05 - val_loss: 0.0013\n",
            "Epoch 3/5\n",
            "48/48 [==============================] - 17s 350ms/step - loss: 5.2594e-05 - val_loss: 0.0013\n",
            "Epoch 4/5\n",
            "48/48 [==============================] - 15s 320ms/step - loss: 5.8575e-05 - val_loss: 0.0012\n",
            "Epoch 5/5\n",
            "48/48 [==============================] - 15s 317ms/step - loss: 5.4524e-05 - val_loss: 0.0013\n"
          ]
        },
        {
          "data": {
            "text/plain": [
              "<keras.callbacks.History at 0x7f6e38460430>"
            ]
          },
          "execution_count": 16,
          "metadata": {},
          "output_type": "execute_result"
        }
      ],
      "source": [
        "#Fit the model\n",
        "model.fit(x_train, y_train, validation_data=(x_test, y_test), epochs=5, batch_size=64, verbose=1)"
      ]
    },
    {
      "cell_type": "code",
      "execution_count": 17,
      "metadata": {
        "colab": {
          "base_uri": "https://localhost:8080/"
        },
        "id": "Wt1Ug-7MT9zs",
        "outputId": "ebdcde62-410c-413e-af05-cb2885d2d0dd"
      },
      "outputs": [
        {
          "name": "stdout",
          "output_type": "stream",
          "text": [
            "95/95 [==============================] - 8s 76ms/step\n"
          ]
        }
      ],
      "source": [
        "#Get the training data predictions and convert to the original scale\n",
        "train_predict = model.predict(x_train)\n",
        "train_predict = scaler.inverse_transform(train_predict)"
      ]
    },
    {
      "cell_type": "code",
      "execution_count": 18,
      "metadata": {
        "colab": {
          "base_uri": "https://localhost:8080/"
        },
        "id": "aycbAmYWT92D",
        "outputId": "510ef6c6-be27-47a2-e90e-656d15a40084"
      },
      "outputs": [
        {
          "name": "stdout",
          "output_type": "stream",
          "text": [
            "23/23 [==============================] - 1s 61ms/step\n"
          ]
        }
      ],
      "source": [
        "#Get the testing data predictions and convert to the original scale\n",
        "test_predict = model.predict(x_test)\n",
        "test_predict = scaler.inverse_transform(test_predict)"
      ]
    },
    {
      "cell_type": "code",
      "execution_count": 28,
      "metadata": {
        "colab": {
          "base_uri": "https://localhost:8080/"
        },
        "id": "L2MJPlUjW6tK",
        "outputId": "db572b28-5e0a-4cd2-e362-e1b9fb2e6e93"
      },
      "outputs": [
        {
          "name": "stdout",
          "output_type": "stream",
          "text": [
            "Train Score: 29.10 RMSE\n",
            "Test Score: 139.92 RMSE\n"
          ]
        }
      ],
      "source": [
        "#Get performance metrics for the model on the training and testing data using root mean squared error (RMSE)\n",
        "trainScore = math.sqrt(mean_squared_error(y_train, train_predict))\n",
        "testScore = math.sqrt(mean_squared_error(y_test, test_predict))\n",
        "\n",
        "print('Train Score: %.2f RMSE' % (trainScore))\n",
        "print('Test Score: %.2f RMSE' % (testScore))"
      ]
    },
    {
      "cell_type": "code",
      "execution_count": 19,
      "metadata": {
        "colab": {
          "base_uri": "https://localhost:8080/",
          "height": 520
        },
        "id": "MoP7TtfTT94O",
        "outputId": "8bd82bcc-c914-4020-c6a2-2439b9c03b5e"
      },
      "outputs": [
        {
          "data": {
            "image/png": "[encoded data removed]",
            "text/plain": [
              "<Figure size 1152x576 with 1 Axes>"
            ]
          },
          "metadata": {
            "needs_background": "light"
          },
          "output_type": "display_data"
        }
      ],
      "source": [
        "#Plot the data\n",
        "look_back = 30\n",
        "trainPredictPlot = np.empty_like(scaled_data) #Create an empty array the same size as the scaled data\n",
        "\n",
        "trainPredictPlot[:, :] = np.nan #Fill the empty array with NaN values\n",
        "trainPredictPlot[look_back:len(train_predict)+look_back, :] = train_predict #Fill the array with the training data predictions\n",
        "\n",
        "#Plot the testing data and the model predictions\n",
        "testPredictPlot = np.empty_like(scaled_data) #Create an empty array the same size as the scaled data\n",
        "testPredictPlot[:, :] = np.nan  #Fill the empty array with NaN values\n",
        "testPredictPlot[len(train_predict)+(look_back*2)+1:len(scaled_data)-1, :] = test_predict #Fill the array with the testing data predictions\n",
        "\n",
        "#Plot the data\n",
        "plt.figure(figsize=(16,8))\n",
        "plt.title('Model')\n",
        "plt.xlabel('Date', fontsize=18)\n",
        "plt.ylabel('Close Price USD ($)', fontsize=18)\n",
        "plt.plot(scaler.inverse_transform(scaled_data))\n",
        "plt.plot(trainPredictPlot)\n",
        "#plt.plot(y_test)\n",
        "plt.plot(testPredictPlot)\n",
        "plt.legend(['Actual Values', 'Train Data Prediction', 'Test Data Prediction'], loc='upper left')\n",
        "plt.show()"
      ]
    },
    {
      "cell_type": "code",
      "execution_count": 22,
      "metadata": {
        "colab": {
          "base_uri": "https://localhost:8080/"
        },
        "id": "XRNT9fkWXKaD",
        "outputId": "14af568e-640d-49c6-a915-9a0ab3011bed"
      },
      "outputs": [
        {
          "data": {
            "text/plain": [
              "765"
            ]
          },
          "execution_count": 22,
          "metadata": {},
          "output_type": "execute_result"
        }
      ],
      "source": [
        "len(test_data) "
      ]
    },
    {
      "cell_type": "code",
      "execution_count": 23,
      "metadata": {
        "colab": {
          "base_uri": "https://localhost:8080/"
        },
        "id": "n4ipa97DXKcm",
        "outputId": "7cda14a7-edad-42a0-f07b-5c9f4d980e93"
      },
      "outputs": [
        {
          "data": {
            "text/plain": [
              "(1, 30)"
            ]
          },
          "execution_count": 23,
          "metadata": {},
          "output_type": "execute_result"
        }
      ],
      "source": [
        "#Get the last 30 days of the training data and convert it to an array (765 - 30 = 685)\n",
        "x_input = test_data[735:].reshape(1,-1) #Predict the closing price for the next 30 days starting from 685\n",
        "x_input.shape"
      ]
    },
    {
      "cell_type": "code",
      "execution_count": 24,
      "metadata": {
        "colab": {
          "base_uri": "https://localhost:8080/"
        },
        "id": "CpeEA3ZFXKfF",
        "outputId": "b9d2584f-e3c6-47d3-95d7-255c0eb3b815"
      },
      "outputs": [
        {
          "name": "stdout",
          "output_type": "stream",
          "text": [
            "30\n"
          ]
        }
      ],
      "source": [
        "#Convert the data to a list\n",
        "temp_input = list(x_input)\n",
        "temp_input = temp_input[0].tolist() #Convert the data to a list\n",
        "\n",
        "print(len(temp_input)) #The length of the list should be 30 as we are predicting the closing price for the next 30 days"
      ]
    },
    {
      "cell_type": "code",
      "execution_count": 25,
      "metadata": {
        "colab": {
          "base_uri": "https://localhost:8080/"
        },
        "id": "CQNEtkjLW_NB",
        "outputId": "b27ec86a-2e1a-41b7-8e5a-e825518cb72d"
      },
      "outputs": [
        {
          "name": "stdout",
          "output_type": "stream",
          "text": [
            "[0.8349498]\n",
            "31\n",
            "1 day input [0.79589005 0.82596538 0.84649909 0.83104295 0.84733602 0.83210313\n",
            " 0.8262443  0.82702547 0.84287223 0.8392453  0.85113035 0.84209106\n",
            " 0.83561845 0.81290852 0.81530789 0.81804195 0.8030323  0.80978384\n",
            " 0.80693816 0.79522049 0.79856842 0.82713709 0.84276061 0.83031763\n",
            " 0.83740395 0.82468196 0.81302014 0.8240124  0.8358416  0.83494979]\n",
            "1 day output [[0.83623207]]\n",
            "2 day input [0.82596538 0.84649909 0.83104295 0.84733602 0.83210313 0.8262443\n",
            " 0.82702547 0.84287223 0.8392453  0.85113035 0.84209106 0.83561845\n",
            " 0.81290852 0.81530789 0.81804195 0.8030323  0.80978384 0.80693816\n",
            " 0.79522049 0.79856842 0.82713709 0.84276061 0.83031763 0.83740395\n",
            " 0.82468196 0.81302014 0.8240124  0.8358416  0.83494979 0.83623207]\n",
            "2 day output [[0.837702]]\n",
            "3 day input [0.84649909 0.83104295 0.84733602 0.83210313 0.8262443  0.82702547\n",
            " 0.84287223 0.8392453  0.85113035 0.84209106 0.83561845 0.81290852\n",
            " 0.81530789 0.81804195 0.8030323  0.80978384 0.80693816 0.79522049\n",
            " 0.79856842 0.82713709 0.84276061 0.83031763 0.83740395 0.82468196\n",
            " 0.81302014 0.8240124  0.8358416  0.83494979 0.83623207 0.83770198]\n",
            "3 day output [[0.8393425]]\n",
            "4 day input [0.83104295 0.84733602 0.83210313 0.8262443  0.82702547 0.84287223\n",
            " 0.8392453  0.85113035 0.84209106 0.83561845 0.81290852 0.81530789\n",
            " 0.81804195 0.8030323  0.80978384 0.80693816 0.79522049 0.79856842\n",
            " 0.82713709 0.84276061 0.83031763 0.83740395 0.82468196 0.81302014\n",
            " 0.8240124  0.8358416  0.83494979 0.83623207 0.83770198 0.83934247]\n",
            "4 day output [[0.84110093]]\n",
            "5 day input [0.84733602 0.83210313 0.8262443  0.82702547 0.84287223 0.8392453\n",
            " 0.85113035 0.84209106 0.83561845 0.81290852 0.81530789 0.81804195\n",
            " 0.8030323  0.80978384 0.80693816 0.79522049 0.79856842 0.82713709\n",
            " 0.84276061 0.83031763 0.83740395 0.82468196 0.81302014 0.8240124\n",
            " 0.8358416  0.83494979 0.83623207 0.83770198 0.83934247 0.84110093]\n",
            "5 day output [[0.84291023]]\n",
            "6 day input [0.83210313 0.8262443  0.82702547 0.84287223 0.8392453  0.85113035\n",
            " 0.84209106 0.83561845 0.81290852 0.81530789 0.81804195 0.8030323\n",
            " 0.80978384 0.80693816 0.79522049 0.79856842 0.82713709 0.84276061\n",
            " 0.83031763 0.83740395 0.82468196 0.81302014 0.8240124  0.8358416\n",
            " 0.83494979 0.83623207 0.83770198 0.83934247 0.84110093 0.84291023]\n",
            "6 day output [[0.84477645]]\n",
            "7 day input [0.8262443  0.82702547 0.84287223 0.8392453  0.85113035 0.84209106\n",
            " 0.83561845 0.81290852 0.81530789 0.81804195 0.8030323  0.80978384\n",
            " 0.80693816 0.79522049 0.79856842 0.82713709 0.84276061 0.83031763\n",
            " 0.83740395 0.82468196 0.81302014 0.8240124  0.8358416  0.83494979\n",
            " 0.83623207 0.83770198 0.83934247 0.84110093 0.84291023 0.84477645]\n",
            "7 day output [[0.8466494]]\n",
            "8 day input [0.82702547 0.84287223 0.8392453  0.85113035 0.84209106 0.83561845\n",
            " 0.81290852 0.81530789 0.81804195 0.8030323  0.80978384 0.80693816\n",
            " 0.79522049 0.79856842 0.82713709 0.84276061 0.83031763 0.83740395\n",
            " 0.82468196 0.81302014 0.8240124  0.8358416  0.83494979 0.83623207\n",
            " 0.83770198 0.83934247 0.84110093 0.84291023 0.84477645 0.84664941]\n",
            "8 day output [[0.84852767]]\n",
            "9 day input [0.84287223 0.8392453  0.85113035 0.84209106 0.83561845 0.81290852\n",
            " 0.81530789 0.81804195 0.8030323  0.80978384 0.80693816 0.79522049\n",
            " 0.79856842 0.82713709 0.84276061 0.83031763 0.83740395 0.82468196\n",
            " 0.81302014 0.8240124  0.8358416  0.83494979 0.83623207 0.83770198\n",
            " 0.83934247 0.84110093 0.84291023 0.84477645 0.84664941 0.84852767]\n",
            "9 day output [[0.8504094]]\n",
            "10 day input [0.8392453  0.85113035 0.84209106 0.83561845 0.81290852 0.81530789\n",
            " 0.81804195 0.8030323  0.80978384 0.80693816 0.79522049 0.79856842\n",
            " 0.82713709 0.84276061 0.83031763 0.83740395 0.82468196 0.81302014\n",
            " 0.8240124  0.8358416  0.83494979 0.83623207 0.83770198 0.83934247\n",
            " 0.84110093 0.84291023 0.84477645 0.84664941 0.84852767 0.85040939]\n",
            "10 day output [[0.852302]]\n",
            "11 day input [0.85113035 0.84209106 0.83561845 0.81290852 0.81530789 0.81804195\n",
            " 0.8030323  0.80978384 0.80693816 0.79522049 0.79856842 0.82713709\n",
            " 0.84276061 0.83031763 0.83740395 0.82468196 0.81302014 0.8240124\n",
            " 0.8358416  0.83494979 0.83623207 0.83770198 0.83934247 0.84110093\n",
            " 0.84291023 0.84477645 0.84664941 0.84852767 0.85040939 0.85230201]\n",
            "11 day output [[0.8541817]]\n",
            "12 day input [0.84209106 0.83561845 0.81290852 0.81530789 0.81804195 0.8030323\n",
            " 0.80978384 0.80693816 0.79522049 0.79856842 0.82713709 0.84276061\n",
            " 0.83031763 0.83740395 0.82468196 0.81302014 0.8240124  0.8358416\n",
            " 0.83494979 0.83623207 0.83770198 0.83934247 0.84110093 0.84291023\n",
            " 0.84477645 0.84664941 0.84852767 0.85040939 0.85230201 0.85418171]\n",
            "12 day output [[0.8560624]]\n",
            "13 day input [0.83561845 0.81290852 0.81530789 0.81804195 0.8030323  0.80978384\n",
            " 0.80693816 0.79522049 0.79856842 0.82713709 0.84276061 0.83031763\n",
            " 0.83740395 0.82468196 0.81302014 0.8240124  0.8358416  0.83494979\n",
            " 0.83623207 0.83770198 0.83934247 0.84110093 0.84291023 0.84477645\n",
            " 0.84664941 0.84852767 0.85040939 0.85230201 0.85418171 0.85606241]\n",
            "13 day output [[0.8579234]]\n",
            "14 day input [0.81290852 0.81530789 0.81804195 0.8030323  0.80978384 0.80693816\n",
            " 0.79522049 0.79856842 0.82713709 0.84276061 0.83031763 0.83740395\n",
            " 0.82468196 0.81302014 0.8240124  0.8358416  0.83494979 0.83623207\n",
            " 0.83770198 0.83934247 0.84110093 0.84291023 0.84477645 0.84664941\n",
            " 0.84852767 0.85040939 0.85230201 0.85418171 0.85606241 0.85792339]\n",
            "14 day output [[0.8597697]]\n",
            "15 day input [0.81530789 0.81804195 0.8030323  0.80978384 0.80693816 0.79522049\n",
            " 0.79856842 0.82713709 0.84276061 0.83031763 0.83740395 0.82468196\n",
            " 0.81302014 0.8240124  0.8358416  0.83494979 0.83623207 0.83770198\n",
            " 0.83934247 0.84110093 0.84291023 0.84477645 0.84664941 0.84852767\n",
            " 0.85040939 0.85230201 0.85418171 0.85606241 0.85792339 0.8597697 ]\n",
            "15 day output [[0.8615897]]\n",
            "16 day input [0.81804195 0.8030323  0.80978384 0.80693816 0.79522049 0.79856842\n",
            " 0.82713709 0.84276061 0.83031763 0.83740395 0.82468196 0.81302014\n",
            " 0.8240124  0.8358416  0.83494979 0.83623207 0.83770198 0.83934247\n",
            " 0.84110093 0.84291023 0.84477645 0.84664941 0.84852767 0.85040939\n",
            " 0.85230201 0.85418171 0.85606241 0.85792339 0.8597697  0.86158973]\n",
            "16 day output [[0.8634097]]\n",
            "17 day input [0.8030323  0.80978384 0.80693816 0.79522049 0.79856842 0.82713709\n",
            " 0.84276061 0.83031763 0.83740395 0.82468196 0.81302014 0.8240124\n",
            " 0.8358416  0.83494979 0.83623207 0.83770198 0.83934247 0.84110093\n",
            " 0.84291023 0.84477645 0.84664941 0.84852767 0.85040939 0.85230201\n",
            " 0.85418171 0.85606241 0.85792339 0.8597697  0.86158973 0.8634097 ]\n",
            "17 day output [[0.86522806]]\n",
            "18 day input [0.80978384 0.80693816 0.79522049 0.79856842 0.82713709 0.84276061\n",
            " 0.83031763 0.83740395 0.82468196 0.81302014 0.8240124  0.8358416\n",
            " 0.83494979 0.83623207 0.83770198 0.83934247 0.84110093 0.84291023\n",
            " 0.84477645 0.84664941 0.84852767 0.85040939 0.85230201 0.85418171\n",
            " 0.85606241 0.85792339 0.8597697  0.86158973 0.8634097  0.86522806]\n",
            "18 day output [[0.86702806]]\n",
            "19 day input [0.80693816 0.79522049 0.79856842 0.82713709 0.84276061 0.83031763\n",
            " 0.83740395 0.82468196 0.81302014 0.8240124  0.8358416  0.83494979\n",
            " 0.83623207 0.83770198 0.83934247 0.84110093 0.84291023 0.84477645\n",
            " 0.84664941 0.84852767 0.85040939 0.85230201 0.85418171 0.85606241\n",
            " 0.85792339 0.8597697  0.86158973 0.8634097  0.86522806 0.86702806]\n",
            "19 day output [[0.86883104]]\n",
            "20 day input [0.79522049 0.79856842 0.82713709 0.84276061 0.83031763 0.83740395\n",
            " 0.82468196 0.81302014 0.8240124  0.8358416  0.83494979 0.83623207\n",
            " 0.83770198 0.83934247 0.84110093 0.84291023 0.84477645 0.84664941\n",
            " 0.84852767 0.85040939 0.85230201 0.85418171 0.85606241 0.85792339\n",
            " 0.8597697  0.86158973 0.8634097  0.86522806 0.86702806 0.86883104]\n",
            "20 day output [[0.8706254]]\n",
            "21 day input [0.79856842 0.82713709 0.84276061 0.83031763 0.83740395 0.82468196\n",
            " 0.81302014 0.8240124  0.8358416  0.83494979 0.83623207 0.83770198\n",
            " 0.83934247 0.84110093 0.84291023 0.84477645 0.84664941 0.84852767\n",
            " 0.85040939 0.85230201 0.85418171 0.85606241 0.85792339 0.8597697\n",
            " 0.86158973 0.8634097  0.86522806 0.86702806 0.86883104 0.87062538]\n",
            "21 day output [[0.87240356]]\n",
            "22 day input [0.82713709 0.84276061 0.83031763 0.83740395 0.82468196 0.81302014\n",
            " 0.8240124  0.8358416  0.83494979 0.83623207 0.83770198 0.83934247\n",
            " 0.84110093 0.84291023 0.84477645 0.84664941 0.84852767 0.85040939\n",
            " 0.85230201 0.85418171 0.85606241 0.85792339 0.8597697  0.86158973\n",
            " 0.8634097  0.86522806 0.86702806 0.86883104 0.87062538 0.87240356]\n",
            "22 day output [[0.8741799]]\n",
            "23 day input [0.84276061 0.83031763 0.83740395 0.82468196 0.81302014 0.8240124\n",
            " 0.8358416  0.83494979 0.83623207 0.83770198 0.83934247 0.84110093\n",
            " 0.84291023 0.84477645 0.84664941 0.84852767 0.85040939 0.85230201\n",
            " 0.85418171 0.85606241 0.85792339 0.8597697  0.86158973 0.8634097\n",
            " 0.86522806 0.86702806 0.86883104 0.87062538 0.87240356 0.8741799 ]\n",
            "23 day output [[0.8759745]]\n",
            "24 day input [0.83031763 0.83740395 0.82468196 0.81302014 0.8240124  0.8358416\n",
            " 0.83494979 0.83623207 0.83770198 0.83934247 0.84110093 0.84291023\n",
            " 0.84477645 0.84664941 0.84852767 0.85040939 0.85230201 0.85418171\n",
            " 0.85606241 0.85792339 0.8597697  0.86158973 0.8634097  0.86522806\n",
            " 0.86702806 0.86883104 0.87062538 0.87240356 0.8741799  0.87597448]\n",
            "24 day output [[0.87776923]]\n",
            "25 day input [0.83740395 0.82468196 0.81302014 0.8240124  0.8358416  0.83494979\n",
            " 0.83623207 0.83770198 0.83934247 0.84110093 0.84291023 0.84477645\n",
            " 0.84664941 0.84852767 0.85040939 0.85230201 0.85418171 0.85606241\n",
            " 0.85792339 0.8597697  0.86158973 0.8634097  0.86522806 0.86702806\n",
            " 0.86883104 0.87062538 0.87240356 0.8741799  0.87597448 0.87776923]\n",
            "25 day output [[0.87953794]]\n",
            "26 day input [0.82468196 0.81302014 0.8240124  0.8358416  0.83494979 0.83623207\n",
            " 0.83770198 0.83934247 0.84110093 0.84291023 0.84477645 0.84664941\n",
            " 0.84852767 0.85040939 0.85230201 0.85418171 0.85606241 0.85792339\n",
            " 0.8597697  0.86158973 0.8634097  0.86522806 0.86702806 0.86883104\n",
            " 0.87062538 0.87240356 0.8741799  0.87597448 0.87776923 0.87953794]\n",
            "26 day output [[0.88130206]]\n",
            "27 day input [0.81302014 0.8240124  0.8358416  0.83494979 0.83623207 0.83770198\n",
            " 0.83934247 0.84110093 0.84291023 0.84477645 0.84664941 0.84852767\n",
            " 0.85040939 0.85230201 0.85418171 0.85606241 0.85792339 0.8597697\n",
            " 0.86158973 0.8634097  0.86522806 0.86702806 0.86883104 0.87062538\n",
            " 0.87240356 0.8741799  0.87597448 0.87776923 0.87953794 0.88130206]\n",
            "27 day output [[0.8830441]]\n",
            "28 day input [0.8240124  0.8358416  0.83494979 0.83623207 0.83770198 0.83934247\n",
            " 0.84110093 0.84291023 0.84477645 0.84664941 0.84852767 0.85040939\n",
            " 0.85230201 0.85418171 0.85606241 0.85792339 0.8597697  0.86158973\n",
            " 0.8634097  0.86522806 0.86702806 0.86883104 0.87062538 0.87240356\n",
            " 0.8741799  0.87597448 0.87776923 0.87953794 0.88130206 0.88304412]\n",
            "28 day output [[0.88476866]]\n",
            "29 day input [0.8358416  0.83494979 0.83623207 0.83770198 0.83934247 0.84110093\n",
            " 0.84291023 0.84477645 0.84664941 0.84852767 0.85040939 0.85230201\n",
            " 0.85418171 0.85606241 0.85792339 0.8597697  0.86158973 0.8634097\n",
            " 0.86522806 0.86702806 0.86883104 0.87062538 0.87240356 0.8741799\n",
            " 0.87597448 0.87776923 0.87953794 0.88130206 0.88304412 0.88476866]\n",
            "29 day output [[0.8864975]]\n"
          ]
        }
      ],
      "source": [
        "#Predict the closing price for the next 30 days\n",
        "from numpy import array\n",
        "\n",
        "lst_output = []\n",
        "n_steps = 30\n",
        "i = 0\n",
        "while(i<30):\n",
        "      #if the length of the list is greater than 30, then we will shift by 1 day and take new output as the input for the next day prediction\n",
        "      if(len(temp_input)>30): #\n",
        "          #print(temp_input)\n",
        "          x_input = np.array(temp_input[1:])\n",
        "          print(\"{} day input {}\".format(i,x_input))\n",
        "          x_input = x_input.reshape(1,-1)\n",
        "          x_input = x_input.reshape((1, n_steps, 1))\n",
        "          #print(x_input)\n",
        "          yhat = model.predict(x_input, verbose=0)\n",
        "          print(\"{} day output {}\".format(i,yhat))\n",
        "          temp_input.extend(yhat[0].tolist())\n",
        "          temp_input = temp_input[1:]\n",
        "          #print(temp_input)\n",
        "          lst_output.extend(yhat.tolist())\n",
        "          i=i+1\n",
        "      #If the length of the list is less than 30, then we will add the last 30 days to the list and predict the next 30 days\n",
        "      else:\n",
        "          x_input = x_input.reshape((1, n_steps,1)) #Reshape the data to fit the model\n",
        "          yhat = model.predict(x_input, verbose=0)  #Predict the closing price for the next 30 days\n",
        "          print(yhat[0]) #Print the predicted closing price\n",
        "          temp_input.extend(yhat[0].tolist()) #Add the predicted closing price to the list\n",
        "          print(len(temp_input)) #The length of the list should be 30\n",
        "          lst_output.extend(yhat.tolist()) #Add the predicted closing price to previous list (temp_input)\n",
        "          i=i+1 "
      ]
    },
    {
      "cell_type": "code",
      "execution_count": 26,
      "metadata": {
        "id": "SIMeSVX-W_Pc"
      },
      "outputs": [],
      "source": [
        "day_new = np.arange(1,31) #Create a new array with the previous 30 days\n",
        "day_pred = np.arange(31,61) #Create a new array with the next 30 days\n"
      ]
    },
    {
      "cell_type": "code",
      "execution_count": 31,
      "metadata": {
        "colab": {
          "base_uri": "https://localhost:8080/"
        },
        "id": "O0_9IcANXgeE",
        "outputId": "f2550c4f-1600-4010-c6f2-324e7538ab1f"
      },
      "outputs": [
        {
          "name": "stdout",
          "output_type": "stream",
          "text": [
            "[[152.43016857]\n",
            " [152.65997418]\n",
            " [152.92340727]\n",
            " [153.21741274]\n",
            " [153.53255823]\n",
            " [153.85681561]\n",
            " [154.19127448]\n",
            " [154.52694042]\n",
            " [154.86355709]\n",
            " [155.20079331]\n",
            " [155.53998438]\n",
            " [155.87685741]\n",
            " [156.21391204]\n",
            " [156.54743087]\n",
            " [156.87832189]\n",
            " [157.20450207]\n",
            " [157.53067156]\n",
            " [157.85655264]\n",
            " [158.17914361]\n",
            " [158.50226868]\n",
            " [158.82384484]\n",
            " [159.14252614]\n",
            " [159.46087628]\n",
            " [159.78249517]\n",
            " [160.10414611]\n",
            " [160.42112893]\n",
            " [160.73728923]\n",
            " [161.04949712]\n",
            " [161.35856446]\n",
            " [161.66840091]]\n"
          ]
        }
      ],
      "source": [
        "#Print the predicted closing price for the next 30 days\n",
        "print(scaler.inverse_transform(lst_output))"
      ]
    },
    {
      "cell_type": "code",
      "execution_count": 34,
      "metadata": {
        "colab": {
          "base_uri": "https://localhost:8080/"
        },
        "id": "7k5HXq0dYJfv",
        "outputId": "28dd7442-e7b8-43e7-b50b-1d56fbd9dd35"
      },
      "outputs": [
        {
          "data": {
            "text/plain": [
              "Date\n",
              "2023-03-15    152.990005\n",
              "2023-03-16    155.850006\n",
              "2023-03-17    155.000000\n",
              "2023-03-20    157.399994\n",
              "Name: Close, dtype: float64"
            ]
          },
          "execution_count": 34,
          "metadata": {},
          "output_type": "execute_result"
        }
      ],
      "source": [
        "recent_data['Close']"
      ]
    },
    {
      "cell_type": "code",
      "execution_count": 27,
      "metadata": {
        "colab": {
          "base_uri": "https://localhost:8080/",
          "height": 485
        },
        "id": "bYLdymR4W_SE",
        "outputId": "379a1091-6a8a-466f-e6db-ac34f484dd2c"
      },
      "outputs": [
        {
          "data": {
            "image/png": "[encoded data removed]",
            "text/plain": [
              "<Figure size 1152x576 with 1 Axes>"
            ]
          },
          "metadata": {
            "needs_background": "light"
          },
          "output_type": "display_data"
        }
      ],
      "source": [
        "plt.figure(figsize=(16,8))\n",
        "plt.plot(day_new, scaler.inverse_transform(scaled_data[3796:])) #Plot the previous 30 days\n",
        "plt.plot(day_pred, scaler.inverse_transform(lst_output)) #Plot the next 30 days\n",
        "plt.show()\n"
      ]
    },
    {
      "cell_type": "code",
      "execution_count": 29,
      "metadata": {
        "colab": {
          "base_uri": "https://localhost:8080/",
          "height": 482
        },
        "id": "vRA-PKcTW_UW",
        "outputId": "a9861dcd-5edb-49b9-e8c7-8014b4c5f8d8"
      },
      "outputs": [
        {
          "data": {
            "image/png": "[encoded data removed]",
            "text/plain": [
              "<Figure size 1152x576 with 1 Axes>"
            ]
          },
          "metadata": {
            "needs_background": "light"
          },
          "output_type": "display_data"
        }
      ],
      "source": [
        "len(data)\n",
        "df3 = data.values.tolist()\n",
        "df3 = df3[:]\n",
        "df3.extend(scaler.inverse_transform(lst_output))\n",
        "plt.figure(figsize=(16,8))\n",
        "plt.plot(df3[30:])\n",
        "plt.show()"
      ]
    }
  ],
  "metadata": {
    "colab": {
      "provenance": []
    },
    "kernelspec": {
      "display_name": "tensorflow",
      "language": "python",
      "name": "python3"
    },
    "language_info": {
      "codemirror_mode": {
        "name": "ipython",
        "version": 3
      },
      "file_extension": ".py",
      "mimetype": "text/x-python",
      "name": "python",
      "nbconvert_exporter": "python",
      "pygments_lexer": "ipython3",
      "version": "3.10.9"
    },
    "orig_nbformat": 4
  },
  "nbformat": 4,
  "nbformat_minor": 0
}
