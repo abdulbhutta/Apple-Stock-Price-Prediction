{
  "cells": [
    {
      "cell_type": "code",
      "execution_count": 74,
      "metadata": {
        "colab": {
          "base_uri": "https://localhost:8080/"
        },
        "id": "SiQOC6tBxK-s",
        "outputId": "b2eb9753-0c47-4e1d-acc7-2b2ddb44fe6f"
      },
      "outputs": [
        {
          "name": "stdout",
          "output_type": "stream",
          "text": [
            "Looking in indexes: https://pypi.org/simple, https://us-python.pkg.dev/colab-wheels/public/simple/\n",
            "Requirement already satisfied: yfinance in /usr/local/lib/python3.9/dist-packages (0.2.12)\n",
            "Requirement already satisfied: numpy>=1.16.5 in /usr/local/lib/python3.9/dist-packages (from yfinance) (1.22.4)\n",
            "Requirement already satisfied: appdirs>=1.4.4 in /usr/local/lib/python3.9/dist-packages (from yfinance) (1.4.4)\n",
            "Requirement already satisfied: requests>=2.26 in /usr/local/lib/python3.9/dist-packages (from yfinance) (2.27.1)\n",
            "Requirement already satisfied: multitasking>=0.0.7 in /usr/local/lib/python3.9/dist-packages (from yfinance) (0.0.11)\n",
            "Requirement already satisfied: lxml>=4.9.1 in /usr/local/lib/python3.9/dist-packages (from yfinance) (4.9.2)\n",
            "Requirement already satisfied: pandas>=1.3.0 in /usr/local/lib/python3.9/dist-packages (from yfinance) (1.4.4)\n",
            "Requirement already satisfied: html5lib>=1.1 in /usr/local/lib/python3.9/dist-packages (from yfinance) (1.1)\n",
            "Requirement already satisfied: beautifulsoup4>=4.11.1 in /usr/local/lib/python3.9/dist-packages (from yfinance) (4.11.2)\n",
            "Requirement already satisfied: frozendict>=2.3.4 in /usr/local/lib/python3.9/dist-packages (from yfinance) (2.3.5)\n",
            "Requirement already satisfied: cryptography>=3.3.2 in /usr/local/lib/python3.9/dist-packages (from yfinance) (39.0.2)\n",
            "Requirement already satisfied: pytz>=2022.5 in /usr/local/lib/python3.9/dist-packages (from yfinance) (2022.7.1)\n",
            "Requirement already satisfied: soupsieve>1.2 in /usr/local/lib/python3.9/dist-packages (from beautifulsoup4>=4.11.1->yfinance) (2.4)\n",
            "Requirement already satisfied: cffi>=1.12 in /usr/local/lib/python3.9/dist-packages (from cryptography>=3.3.2->yfinance) (1.15.1)\n",
            "Requirement already satisfied: six>=1.9 in /usr/local/lib/python3.9/dist-packages (from html5lib>=1.1->yfinance) (1.15.0)\n",
            "Requirement already satisfied: webencodings in /usr/local/lib/python3.9/dist-packages (from html5lib>=1.1->yfinance) (0.5.1)\n",
            "Requirement already satisfied: python-dateutil>=2.8.1 in /usr/local/lib/python3.9/dist-packages (from pandas>=1.3.0->yfinance) (2.8.2)\n",
            "Requirement already satisfied: charset-normalizer~=2.0.0 in /usr/local/lib/python3.9/dist-packages (from requests>=2.26->yfinance) (2.0.12)\n",
            "Requirement already satisfied: urllib3<1.27,>=1.21.1 in /usr/local/lib/python3.9/dist-packages (from requests>=2.26->yfinance) (1.26.15)\n",
            "Requirement already satisfied: certifi>=2017.4.17 in /usr/local/lib/python3.9/dist-packages (from requests>=2.26->yfinance) (2022.12.7)\n",
            "Requirement already satisfied: idna<4,>=2.5 in /usr/local/lib/python3.9/dist-packages (from requests>=2.26->yfinance) (3.4)\n",
            "Requirement already satisfied: pycparser in /usr/local/lib/python3.9/dist-packages (from cffi>=1.12->cryptography>=3.3.2->yfinance) (2.21)\n"
          ]
        }
      ],
      "source": [
        "!pip install yfinance\n",
        "import yfinance as yf\n",
        "import pandas as pd\n",
        "import numpy as np\n",
        "import math \n",
        "import matplotlib.pyplot as plt\n",
        "import tensorflow as tf\n",
        "from sklearn.preprocessing import MinMaxScaler\n",
        "from tensorflow.keras.models import Sequential\n",
        "from tensorflow.keras.layers import Dense, Dropout, LSTM\n",
        "from keras.models import Sequential\n",
        "from keras.layers import Dense, LSTM\n",
        "from sklearn.metrics import mean_squared_error"
      ]
    },
    {
      "cell_type": "code",
      "execution_count": 75,
      "metadata": {
        "colab": {
          "base_uri": "https://localhost:8080/"
        },
        "id": "z-3y88U1xO6P",
        "outputId": "6b96bf3f-ba48-4714-b4b1-8011cac6657d"
      },
      "outputs": [
        {
          "name": "stdout",
          "output_type": "stream",
          "text": [
            "\r[*********************100%***********************]  1 of 1 completed\n"
          ]
        }
      ],
      "source": [
        "data = yf.download('AAPL','2008-01-01','2023-03-15')"
      ]
    },
    {
      "cell_type": "code",
      "execution_count": 102,
      "metadata": {
        "colab": {
          "base_uri": "https://localhost:8080/"
        },
        "id": "zdSHBsSWL6kb",
        "outputId": "80fae5f7-f72e-4834-d3d0-98be40b6efe4"
      },
      "outputs": [
        {
          "data": {
            "text/plain": [
              "(3826, 1)"
            ]
          },
          "execution_count": 102,
          "metadata": {},
          "output_type": "execute_result"
        }
      ],
      "source": [
        "data.shape"
      ]
    },
    {
      "cell_type": "code",
      "execution_count": 76,
      "metadata": {
        "colab": {
          "base_uri": "https://localhost:8080/",
          "height": 991
        },
        "id": "kwKFIWlLKe7o",
        "outputId": "ad09fd2f-2f0a-49c9-9f0b-7a59bd6067de"
      },
      "outputs": [
        {
          "data": {
            "text/html": [
              "\n",
              "  <div id=\"df-fb1c21bf-e9bd-465e-b264-de30115b8bfa\">\n",
              "    <div class=\"colab-df-container\">\n",
              "      <div>\n",
              "<style scoped>\n",
              "    .dataframe tbody tr th:only-of-type {\n",
              "        vertical-align: middle;\n",
              "    }\n",
              "\n",
              "    .dataframe tbody tr th {\n",
              "        vertical-align: top;\n",
              "    }\n",
              "\n",
              "    .dataframe thead th {\n",
              "        text-align: right;\n",
              "    }\n",
              "</style>\n",
              "<table border=\"1\" class=\"dataframe\">\n",
              "  <thead>\n",
              "    <tr style=\"text-align: right;\">\n",
              "      <th></th>\n",
              "      <th>Open</th>\n",
              "      <th>High</th>\n",
              "      <th>Low</th>\n",
              "      <th>Close</th>\n",
              "      <th>Adj Close</th>\n",
              "      <th>Volume</th>\n",
              "    </tr>\n",
              "    <tr>\n",
              "      <th>Date</th>\n",
              "      <th></th>\n",
              "      <th></th>\n",
              "      <th></th>\n",
              "      <th></th>\n",
              "      <th></th>\n",
              "      <th></th>\n",
              "    </tr>\n",
              "  </thead>\n",
              "  <tbody>\n",
              "    <tr>\n",
              "      <th>2023-01-31</th>\n",
              "      <td>142.699997</td>\n",
              "      <td>144.339996</td>\n",
              "      <td>142.279999</td>\n",
              "      <td>144.289993</td>\n",
              "      <td>144.070023</td>\n",
              "      <td>65874500</td>\n",
              "    </tr>\n",
              "    <tr>\n",
              "      <th>2023-02-01</th>\n",
              "      <td>143.970001</td>\n",
              "      <td>146.610001</td>\n",
              "      <td>141.320007</td>\n",
              "      <td>145.429993</td>\n",
              "      <td>145.208282</td>\n",
              "      <td>77663600</td>\n",
              "    </tr>\n",
              "    <tr>\n",
              "      <th>2023-02-02</th>\n",
              "      <td>148.899994</td>\n",
              "      <td>151.179993</td>\n",
              "      <td>148.169998</td>\n",
              "      <td>150.820007</td>\n",
              "      <td>150.590088</td>\n",
              "      <td>118339000</td>\n",
              "    </tr>\n",
              "    <tr>\n",
              "      <th>2023-02-03</th>\n",
              "      <td>148.029999</td>\n",
              "      <td>157.380005</td>\n",
              "      <td>147.830002</td>\n",
              "      <td>154.500000</td>\n",
              "      <td>154.264465</td>\n",
              "      <td>154357300</td>\n",
              "    </tr>\n",
              "    <tr>\n",
              "      <th>2023-02-06</th>\n",
              "      <td>152.570007</td>\n",
              "      <td>153.100006</td>\n",
              "      <td>150.779999</td>\n",
              "      <td>151.729996</td>\n",
              "      <td>151.498688</td>\n",
              "      <td>69858300</td>\n",
              "    </tr>\n",
              "    <tr>\n",
              "      <th>2023-02-07</th>\n",
              "      <td>150.639999</td>\n",
              "      <td>155.229996</td>\n",
              "      <td>150.639999</td>\n",
              "      <td>154.649994</td>\n",
              "      <td>154.414230</td>\n",
              "      <td>83322600</td>\n",
              "    </tr>\n",
              "    <tr>\n",
              "      <th>2023-02-08</th>\n",
              "      <td>153.880005</td>\n",
              "      <td>154.580002</td>\n",
              "      <td>151.169998</td>\n",
              "      <td>151.919998</td>\n",
              "      <td>151.688400</td>\n",
              "      <td>64120100</td>\n",
              "    </tr>\n",
              "    <tr>\n",
              "      <th>2023-02-09</th>\n",
              "      <td>153.779999</td>\n",
              "      <td>154.330002</td>\n",
              "      <td>150.419998</td>\n",
              "      <td>150.869995</td>\n",
              "      <td>150.639999</td>\n",
              "      <td>56007100</td>\n",
              "    </tr>\n",
              "    <tr>\n",
              "      <th>2023-02-10</th>\n",
              "      <td>149.460007</td>\n",
              "      <td>151.339996</td>\n",
              "      <td>149.220001</td>\n",
              "      <td>151.009995</td>\n",
              "      <td>151.009995</td>\n",
              "      <td>57450700</td>\n",
              "    </tr>\n",
              "    <tr>\n",
              "      <th>2023-02-13</th>\n",
              "      <td>150.949997</td>\n",
              "      <td>154.259995</td>\n",
              "      <td>150.919998</td>\n",
              "      <td>153.850006</td>\n",
              "      <td>153.850006</td>\n",
              "      <td>62199000</td>\n",
              "    </tr>\n",
              "    <tr>\n",
              "      <th>2023-02-14</th>\n",
              "      <td>152.119995</td>\n",
              "      <td>153.770004</td>\n",
              "      <td>150.860001</td>\n",
              "      <td>153.199997</td>\n",
              "      <td>153.199997</td>\n",
              "      <td>61707600</td>\n",
              "    </tr>\n",
              "    <tr>\n",
              "      <th>2023-02-15</th>\n",
              "      <td>153.110001</td>\n",
              "      <td>155.500000</td>\n",
              "      <td>152.880005</td>\n",
              "      <td>155.330002</td>\n",
              "      <td>155.330002</td>\n",
              "      <td>65573800</td>\n",
              "    </tr>\n",
              "    <tr>\n",
              "      <th>2023-02-16</th>\n",
              "      <td>153.509995</td>\n",
              "      <td>156.330002</td>\n",
              "      <td>153.350006</td>\n",
              "      <td>153.710007</td>\n",
              "      <td>153.710007</td>\n",
              "      <td>68167900</td>\n",
              "    </tr>\n",
              "    <tr>\n",
              "      <th>2023-02-17</th>\n",
              "      <td>152.350006</td>\n",
              "      <td>153.000000</td>\n",
              "      <td>150.850006</td>\n",
              "      <td>152.550003</td>\n",
              "      <td>152.550003</td>\n",
              "      <td>59144100</td>\n",
              "    </tr>\n",
              "    <tr>\n",
              "      <th>2023-02-21</th>\n",
              "      <td>150.199997</td>\n",
              "      <td>151.300003</td>\n",
              "      <td>148.410004</td>\n",
              "      <td>148.479996</td>\n",
              "      <td>148.479996</td>\n",
              "      <td>58867200</td>\n",
              "    </tr>\n",
              "    <tr>\n",
              "      <th>2023-02-22</th>\n",
              "      <td>148.869995</td>\n",
              "      <td>149.949997</td>\n",
              "      <td>147.160004</td>\n",
              "      <td>148.910004</td>\n",
              "      <td>148.910004</td>\n",
              "      <td>51011300</td>\n",
              "    </tr>\n",
              "    <tr>\n",
              "      <th>2023-02-23</th>\n",
              "      <td>150.089996</td>\n",
              "      <td>150.339996</td>\n",
              "      <td>147.240005</td>\n",
              "      <td>149.399994</td>\n",
              "      <td>149.399994</td>\n",
              "      <td>48394200</td>\n",
              "    </tr>\n",
              "    <tr>\n",
              "      <th>2023-02-24</th>\n",
              "      <td>147.110001</td>\n",
              "      <td>147.190002</td>\n",
              "      <td>145.720001</td>\n",
              "      <td>146.710007</td>\n",
              "      <td>146.710007</td>\n",
              "      <td>55469600</td>\n",
              "    </tr>\n",
              "    <tr>\n",
              "      <th>2023-02-27</th>\n",
              "      <td>147.710007</td>\n",
              "      <td>149.169998</td>\n",
              "      <td>147.449997</td>\n",
              "      <td>147.919998</td>\n",
              "      <td>147.919998</td>\n",
              "      <td>44998500</td>\n",
              "    </tr>\n",
              "    <tr>\n",
              "      <th>2023-02-28</th>\n",
              "      <td>147.050003</td>\n",
              "      <td>149.080002</td>\n",
              "      <td>146.830002</td>\n",
              "      <td>147.410004</td>\n",
              "      <td>147.410004</td>\n",
              "      <td>50547000</td>\n",
              "    </tr>\n",
              "    <tr>\n",
              "      <th>2023-03-01</th>\n",
              "      <td>146.830002</td>\n",
              "      <td>147.229996</td>\n",
              "      <td>145.009995</td>\n",
              "      <td>145.309998</td>\n",
              "      <td>145.309998</td>\n",
              "      <td>55479000</td>\n",
              "    </tr>\n",
              "    <tr>\n",
              "      <th>2023-03-02</th>\n",
              "      <td>144.380005</td>\n",
              "      <td>146.710007</td>\n",
              "      <td>143.899994</td>\n",
              "      <td>145.910004</td>\n",
              "      <td>145.910004</td>\n",
              "      <td>52238100</td>\n",
              "    </tr>\n",
              "    <tr>\n",
              "      <th>2023-03-03</th>\n",
              "      <td>148.039993</td>\n",
              "      <td>151.110001</td>\n",
              "      <td>147.330002</td>\n",
              "      <td>151.029999</td>\n",
              "      <td>151.029999</td>\n",
              "      <td>70668500</td>\n",
              "    </tr>\n",
              "    <tr>\n",
              "      <th>2023-03-06</th>\n",
              "      <td>153.789993</td>\n",
              "      <td>156.300003</td>\n",
              "      <td>153.460007</td>\n",
              "      <td>153.830002</td>\n",
              "      <td>153.830002</td>\n",
              "      <td>87558000</td>\n",
              "    </tr>\n",
              "    <tr>\n",
              "      <th>2023-03-07</th>\n",
              "      <td>153.699997</td>\n",
              "      <td>154.029999</td>\n",
              "      <td>151.130005</td>\n",
              "      <td>151.600006</td>\n",
              "      <td>151.600006</td>\n",
              "      <td>56182000</td>\n",
              "    </tr>\n",
              "    <tr>\n",
              "      <th>2023-03-08</th>\n",
              "      <td>152.809998</td>\n",
              "      <td>153.470001</td>\n",
              "      <td>151.830002</td>\n",
              "      <td>152.869995</td>\n",
              "      <td>152.869995</td>\n",
              "      <td>47204800</td>\n",
              "    </tr>\n",
              "    <tr>\n",
              "      <th>2023-03-09</th>\n",
              "      <td>153.559998</td>\n",
              "      <td>154.539993</td>\n",
              "      <td>150.229996</td>\n",
              "      <td>150.589996</td>\n",
              "      <td>150.589996</td>\n",
              "      <td>53833600</td>\n",
              "    </tr>\n",
              "    <tr>\n",
              "      <th>2023-03-10</th>\n",
              "      <td>150.210007</td>\n",
              "      <td>150.940002</td>\n",
              "      <td>147.610001</td>\n",
              "      <td>148.500000</td>\n",
              "      <td>148.500000</td>\n",
              "      <td>68524400</td>\n",
              "    </tr>\n",
              "    <tr>\n",
              "      <th>2023-03-13</th>\n",
              "      <td>147.809998</td>\n",
              "      <td>153.139999</td>\n",
              "      <td>147.699997</td>\n",
              "      <td>150.470001</td>\n",
              "      <td>150.470001</td>\n",
              "      <td>84457100</td>\n",
              "    </tr>\n",
              "    <tr>\n",
              "      <th>2023-03-14</th>\n",
              "      <td>151.279999</td>\n",
              "      <td>153.399994</td>\n",
              "      <td>150.100006</td>\n",
              "      <td>152.589996</td>\n",
              "      <td>152.589996</td>\n",
              "      <td>73695900</td>\n",
              "    </tr>\n",
              "  </tbody>\n",
              "</table>\n",
              "</div>\n",
              "      <button class=\"colab-df-convert\" onclick=\"convertToInteractive('df-fb1c21bf-e9bd-465e-b264-de30115b8bfa')\"\n",
              "              title=\"Convert this dataframe to an interactive table.\"\n",
              "              style=\"display:none;\">\n",
              "        \n",
              "  <svg xmlns=\"http://www.w3.org/2000/svg\" height=\"24px\"viewBox=\"0 0 24 24\"\n",
              "       width=\"24px\">\n",
              "    <path d=\"M0 0h24v24H0V0z\" fill=\"none\"/>\n",
              "    <path d=\"M18.56 5.44l.94 2.06.94-2.06 2.06-.94-2.06-.94-.94-2.06-.94 2.06-2.06.94zm-11 1L8.5 8.5l.94-2.06 2.06-.94-2.06-.94L8.5 2.5l-.94 2.06-2.06.94zm10 10l.94 2.06.94-2.06 2.06-.94-2.06-.94-.94-2.06-.94 2.06-2.06.94z\"/><path d=\"M17.41 7.96l-1.37-1.37c-.4-.4-.92-.59-1.43-.59-.52 0-1.04.2-1.43.59L10.3 9.45l-7.72 7.72c-.78.78-.78 2.05 0 2.83L4 21.41c.39.39.9.59 1.41.59.51 0 1.02-.2 1.41-.59l7.78-7.78 2.81-2.81c.8-.78.8-2.07 0-2.86zM5.41 20L4 18.59l7.72-7.72 1.47 1.35L5.41 20z\"/>\n",
              "  </svg>\n",
              "      </button>\n",
              "      \n",
              "  <style>\n",
              "    .colab-df-container {\n",
              "      display:flex;\n",
              "      flex-wrap:wrap;\n",
              "      gap: 12px;\n",
              "    }\n",
              "\n",
              "    .colab-df-convert {\n",
              "      background-color: #E8F0FE;\n",
              "      border: none;\n",
              "      border-radius: 50%;\n",
              "      cursor: pointer;\n",
              "      display: none;\n",
              "      fill: #1967D2;\n",
              "      height: 32px;\n",
              "      padding: 0 0 0 0;\n",
              "      width: 32px;\n",
              "    }\n",
              "\n",
              "    .colab-df-convert:hover {\n",
              "      background-color: #E2EBFA;\n",
              "      box-shadow: 0px 1px 2px rgba(60, 64, 67, 0.3), 0px 1px 3px 1px rgba(60, 64, 67, 0.15);\n",
              "      fill: #174EA6;\n",
              "    }\n",
              "\n",
              "    [theme=dark] .colab-df-convert {\n",
              "      background-color: #3B4455;\n",
              "      fill: #D2E3FC;\n",
              "    }\n",
              "\n",
              "    [theme=dark] .colab-df-convert:hover {\n",
              "      background-color: #434B5C;\n",
              "      box-shadow: 0px 1px 3px 1px rgba(0, 0, 0, 0.15);\n",
              "      filter: drop-shadow(0px 1px 2px rgba(0, 0, 0, 0.3));\n",
              "      fill: #FFFFFF;\n",
              "    }\n",
              "  </style>\n",
              "\n",
              "      <script>\n",
              "        const buttonEl =\n",
              "          document.querySelector('#df-fb1c21bf-e9bd-465e-b264-de30115b8bfa button.colab-df-convert');\n",
              "        buttonEl.style.display =\n",
              "          google.colab.kernel.accessAllowed ? 'block' : 'none';\n",
              "\n",
              "        async function convertToInteractive(key) {\n",
              "          const element = document.querySelector('#df-fb1c21bf-e9bd-465e-b264-de30115b8bfa');\n",
              "          const dataTable =\n",
              "            await google.colab.kernel.invokeFunction('convertToInteractive',\n",
              "                                                     [key], {});\n",
              "          if (!dataTable) return;\n",
              "\n",
              "          const docLinkHtml = 'Like what you see? Visit the ' +\n",
              "            '<a target=\"_blank\" href=https://colab.research.google.com/notebooks/data_table.ipynb>data table notebook</a>'\n",
              "            + ' to learn more about interactive tables.';\n",
              "          element.innerHTML = '';\n",
              "          dataTable['output_type'] = 'display_data';\n",
              "          await google.colab.output.renderOutput(dataTable, element);\n",
              "          const docLink = document.createElement('div');\n",
              "          docLink.innerHTML = docLinkHtml;\n",
              "          element.appendChild(docLink);\n",
              "        }\n",
              "      </script>\n",
              "    </div>\n",
              "  </div>\n",
              "  "
            ],
            "text/plain": [
              "                  Open        High         Low       Close   Adj Close  \\\n",
              "Date                                                                     \n",
              "2023-01-31  142.699997  144.339996  142.279999  144.289993  144.070023   \n",
              "2023-02-01  143.970001  146.610001  141.320007  145.429993  145.208282   \n",
              "2023-02-02  148.899994  151.179993  148.169998  150.820007  150.590088   \n",
              "2023-02-03  148.029999  157.380005  147.830002  154.500000  154.264465   \n",
              "2023-02-06  152.570007  153.100006  150.779999  151.729996  151.498688   \n",
              "2023-02-07  150.639999  155.229996  150.639999  154.649994  154.414230   \n",
              "2023-02-08  153.880005  154.580002  151.169998  151.919998  151.688400   \n",
              "2023-02-09  153.779999  154.330002  150.419998  150.869995  150.639999   \n",
              "2023-02-10  149.460007  151.339996  149.220001  151.009995  151.009995   \n",
              "2023-02-13  150.949997  154.259995  150.919998  153.850006  153.850006   \n",
              "2023-02-14  152.119995  153.770004  150.860001  153.199997  153.199997   \n",
              "2023-02-15  153.110001  155.500000  152.880005  155.330002  155.330002   \n",
              "2023-02-16  153.509995  156.330002  153.350006  153.710007  153.710007   \n",
              "2023-02-17  152.350006  153.000000  150.850006  152.550003  152.550003   \n",
              "2023-02-21  150.199997  151.300003  148.410004  148.479996  148.479996   \n",
              "2023-02-22  148.869995  149.949997  147.160004  148.910004  148.910004   \n",
              "2023-02-23  150.089996  150.339996  147.240005  149.399994  149.399994   \n",
              "2023-02-24  147.110001  147.190002  145.720001  146.710007  146.710007   \n",
              "2023-02-27  147.710007  149.169998  147.449997  147.919998  147.919998   \n",
              "2023-02-28  147.050003  149.080002  146.830002  147.410004  147.410004   \n",
              "2023-03-01  146.830002  147.229996  145.009995  145.309998  145.309998   \n",
              "2023-03-02  144.380005  146.710007  143.899994  145.910004  145.910004   \n",
              "2023-03-03  148.039993  151.110001  147.330002  151.029999  151.029999   \n",
              "2023-03-06  153.789993  156.300003  153.460007  153.830002  153.830002   \n",
              "2023-03-07  153.699997  154.029999  151.130005  151.600006  151.600006   \n",
              "2023-03-08  152.809998  153.470001  151.830002  152.869995  152.869995   \n",
              "2023-03-09  153.559998  154.539993  150.229996  150.589996  150.589996   \n",
              "2023-03-10  150.210007  150.940002  147.610001  148.500000  148.500000   \n",
              "2023-03-13  147.809998  153.139999  147.699997  150.470001  150.470001   \n",
              "2023-03-14  151.279999  153.399994  150.100006  152.589996  152.589996   \n",
              "\n",
              "               Volume  \n",
              "Date                   \n",
              "2023-01-31   65874500  \n",
              "2023-02-01   77663600  \n",
              "2023-02-02  118339000  \n",
              "2023-02-03  154357300  \n",
              "2023-02-06   69858300  \n",
              "2023-02-07   83322600  \n",
              "2023-02-08   64120100  \n",
              "2023-02-09   56007100  \n",
              "2023-02-10   57450700  \n",
              "2023-02-13   62199000  \n",
              "2023-02-14   61707600  \n",
              "2023-02-15   65573800  \n",
              "2023-02-16   68167900  \n",
              "2023-02-17   59144100  \n",
              "2023-02-21   58867200  \n",
              "2023-02-22   51011300  \n",
              "2023-02-23   48394200  \n",
              "2023-02-24   55469600  \n",
              "2023-02-27   44998500  \n",
              "2023-02-28   50547000  \n",
              "2023-03-01   55479000  \n",
              "2023-03-02   52238100  \n",
              "2023-03-03   70668500  \n",
              "2023-03-06   87558000  \n",
              "2023-03-07   56182000  \n",
              "2023-03-08   47204800  \n",
              "2023-03-09   53833600  \n",
              "2023-03-10   68524400  \n",
              "2023-03-13   84457100  \n",
              "2023-03-14   73695900  "
            ]
          },
          "execution_count": 76,
          "metadata": {},
          "output_type": "execute_result"
        }
      ],
      "source": [
        "data.tail(30)"
      ]
    },
    {
      "cell_type": "code",
      "execution_count": 77,
      "metadata": {
        "colab": {
          "base_uri": "https://localhost:8080/",
          "height": 482
        },
        "id": "ViIPA0CixO80",
        "outputId": "bb62b65a-caec-4666-992e-0c29ff1c7731"
      },
      "outputs": [
        {
          "data": {
            "image/png": "[encoded data removed]",
            "text/plain": [
              "<Figure size 1152x576 with 1 Axes>"
            ]
          },
          "metadata": {
            "needs_background": "light"
          },
          "output_type": "display_data"
        }
      ],
      "source": [
        "#Scale the data and plot the scaled data\n",
        "scaler = MinMaxScaler(feature_range=(0,1))\n",
        "scaled_data = scaler.fit_transform(data['Close'].values.reshape(-1,1))\n",
        "\n",
        "#plot the scaled data from day 0 to current day\n",
        "plt.figure(figsize=(16,8))\n",
        "plt.plot(scaled_data, label='Scaled Data')\n",
        "plt.legend(loc='upper left')\n",
        "plt.show()"
      ]
    },
    {
      "cell_type": "code",
      "execution_count": 78,
      "metadata": {
        "colab": {
          "base_uri": "https://localhost:8080/"
        },
        "id": "y0InT_e-xO_U",
        "outputId": "cced7f5d-9179-47fe-ec6c-1c6a8345f98c"
      },
      "outputs": [
        {
          "data": {
            "text/plain": [
              "(3826, 1)"
            ]
          },
          "execution_count": 78,
          "metadata": {},
          "output_type": "execute_result"
        }
      ],
      "source": [
        "scaled_data.shape"
      ]
    },
    {
      "cell_type": "code",
      "execution_count": 79,
      "metadata": {
        "colab": {
          "base_uri": "https://localhost:8080/"
        },
        "id": "9dB0EvruxPBr",
        "outputId": "1ec0c633-c807-4fd6-ef7a-b398f7ab0dae"
      },
      "outputs": [
        {
          "name": "stdout",
          "output_type": "stream",
          "text": [
            "[[0.02324395]\n",
            " [0.02326189]\n",
            " [0.02029661]\n",
            " ...\n",
            " [0.81302014]\n",
            " [0.8240124 ]\n",
            " [0.8358416 ]]\n"
          ]
        }
      ],
      "source": [
        "print(scaled_data)"
      ]
    },
    {
      "cell_type": "code",
      "execution_count": 80,
      "metadata": {
        "colab": {
          "base_uri": "https://localhost:8080/"
        },
        "id": "Pf0jTS-rxPEB",
        "outputId": "21a2c322-9421-4c25-8631-820110f66b81"
      },
      "outputs": [
        {
          "name": "stdout",
          "output_type": "stream",
          "text": [
            "Total Rows in Training Dataset:  3061\n",
            "Total Rows in Testing Dataset:  766\n"
          ]
        }
      ],
      "source": [
        "#Create a new dataframe with only the 'Close' column\n",
        "data = data.filter(['Close'])\n",
        "\n",
        "#Convert the dataframe to a numpy array\n",
        "dataset = data.values\n",
        "\n",
        "#Get the number of rows to train the model on (80% of the data)\n",
        "training_size = int(np.ceil( len(scaled_data) * .8 ))\n",
        "test_size = int(np.ceil( len(scaled_data) * .2 ))\n",
        "\n",
        "#2860 is 80 percent of the total number of rows in the dataset\n",
        "print(\"Total Rows in Training Dataset: \", training_size)\n",
        "print(\"Total Rows in Testing Dataset: \", test_size)"
      ]
    },
    {
      "cell_type": "code",
      "execution_count": 81,
      "metadata": {
        "colab": {
          "base_uri": "https://localhost:8080/"
        },
        "id": "an0ilABAyF4B",
        "outputId": "4667dcdc-d704-4b6e-f686-2d5a4a301232"
      },
      "outputs": [
        {
          "name": "stdout",
          "output_type": "stream",
          "text": [
            "Training Data Shape:  (3061, 1)\n",
            "Testing Data Shape:  (765, 1)\n"
          ]
        }
      ],
      "source": [
        "#Split the data in to training and testing data, 80% training and 20% testing starting from the beginning of the dataset\n",
        "train_data = scaled_data[0:training_size , :] #From 0 to 3061\n",
        "test_data = scaled_data[training_size:len(scaled_data), :] #From 3061 to the end\n",
        "\n",
        "#remove null values\n",
        "train_data = train_data[~np.isnan(train_data).any(axis=1)]\n",
        "test_data = test_data[~np.isnan(test_data).any(axis=1)]\n",
        "\n",
        "#print the shape of the training and testing data\n",
        "print(\"Training Data Shape: \", train_data.shape)\n",
        "print(\"Testing Data Shape: \", test_data.shape)"
      ]
    },
    {
      "cell_type": "code",
      "execution_count": 82,
      "metadata": {
        "id": "_8bxpsM2xPGN"
      },
      "outputs": [],
      "source": [
        "#Time step is the number of days we want to look back to predict the next closing price\n",
        "#We need use the training data to create the x_train and y_train data sets where x_train is the closing price of the previous 14 years and y_train is the closing price of the next day\n",
        "#if data is 120, 130, 125, 140, 134, and 150 then x_train would be 120, 130, 125, 140, 134 and y_train would be 150\n",
        "#We will do the same for the test data and then check the accuracy of the model\n",
        "\n",
        "#Function to create the x_train and y_train data sets\n",
        "def create_dataset (dataset, time_step=1):\n",
        "    dataX, dataY = [], []\n",
        "    #Loop through the data and create the x_train and y_train data sets\n",
        "    for i in range(len(dataset)-time_step-1):\n",
        "        a = dataset[i:(i+time_step), 0] #Start from 0 to time_step and add to a\n",
        "        dataX.append(a) #Store the values from 0 to time_step in dataX\n",
        "        dataY.append(dataset[i+time_step, 0]) #Store the value of the next day in dataY\n",
        "    return np.array(dataX), np.array(dataY) #Return the training data and the testing data as numpy arrays"
      ]
    },
    {
      "cell_type": "code",
      "execution_count": 83,
      "metadata": {
        "colab": {
          "base_uri": "https://localhost:8080/"
        },
        "id": "P0sM1larxPIu",
        "outputId": "c8fcbb90-3cd6-4705-ea02-e8eccfb95638"
      },
      "outputs": [
        {
          "name": "stdout",
          "output_type": "stream",
          "text": [
            "(3030, 30)\n",
            "(3030,)\n"
          ]
        }
      ],
      "source": [
        "#time step is the number of days we want to look back to predict the next closing price and we will use 30 days for this model (Hyperparamater Tuning) \n",
        "time_step = 30\n",
        "\n",
        "#Create the training data set\n",
        "x_train, y_train = create_dataset(train_data, time_step)\n",
        "\n",
        "#180 features and 2550 rows\n",
        "print (x_train.shape) #the training data should have 30 features for 30 days\n",
        "print (y_train.shape)"
      ]
    },
    {
      "cell_type": "code",
      "execution_count": 84,
      "metadata": {
        "colab": {
          "base_uri": "https://localhost:8080/"
        },
        "id": "g6YIGIgdxPLK",
        "outputId": "deee659e-7f21-4146-be5c-375474697ca6"
      },
      "outputs": [
        {
          "name": "stdout",
          "output_type": "stream",
          "text": [
            "(734, 30)\n",
            "(734,)\n"
          ]
        }
      ],
      "source": [
        "#Create the testing data set\n",
        "x_test, y_test = create_dataset(test_data, time_step)\n",
        "\n",
        "#180 features an 730 rows\n",
        "print(x_test.shape)\n",
        "print(y_test.shape)"
      ]
    },
    {
      "cell_type": "code",
      "execution_count": 85,
      "metadata": {
        "id": "xbVHYXIMxPN6"
      },
      "outputs": [],
      "source": [
        "#Reshape the data to fit the LSTM model\n",
        "#The LSTM model expects the data to be in the form of [samples, time steps, features] and right now our data is in the form [samples, features]\n",
        "#The last two parameters are fed to the LSTM model as input\n",
        "x_train = x_train.reshape(x_train.shape[0], x_train.shape[1], 1)\n",
        "x_test = x_test.reshape(x_test.shape[0], x_test.shape[1], 1)"
      ]
    },
    {
      "cell_type": "code",
      "execution_count": 86,
      "metadata": {
        "id": "jBPAfkoPxeW0"
      },
      "outputs": [],
      "source": [
        "#Create a LSTM model\n",
        "model = Sequential()\n",
        "#Add the first LSTM layer and c\n",
        "model.add(LSTM(50, return_sequences=True, input_shape=(x_train.shape[1], 1)))\n",
        "model.add(LSTM(50, return_sequences=True))\n",
        "model.add(LSTM(50))\n",
        "\n",
        "#One final output layer to predict the closing price\n",
        "model.add(Dense(1))\n",
        "\n",
        "#Compile the model with the adam optimizer and mean squared error loss function\n",
        "model.compile(optimizer='adam', loss='mean_squared_error')"
      ]
    },
    {
      "cell_type": "code",
      "execution_count": 87,
      "metadata": {
        "colab": {
          "base_uri": "https://localhost:8080/"
        },
        "id": "nSGkbbOPGm7n",
        "outputId": "46741d6d-73d3-4bc1-d445-bcfa9c2e6baf"
      },
      "outputs": [
        {
          "name": "stdout",
          "output_type": "stream",
          "text": [
            "Model: \"sequential_2\"\n",
            "_________________________________________________________________\n",
            " Layer (type)                Output Shape              Param #   \n",
            "=================================================================\n",
            " lstm_6 (LSTM)               (None, 30, 50)            10400     \n",
            "                                                                 \n",
            " lstm_7 (LSTM)               (None, 30, 50)            20200     \n",
            "                                                                 \n",
            " lstm_8 (LSTM)               (None, 50)                20200     \n",
            "                                                                 \n",
            " dense_2 (Dense)             (None, 1)                 51        \n",
            "                                                                 \n",
            "=================================================================\n",
            "Total params: 50,851\n",
            "Trainable params: 50,851\n",
            "Non-trainable params: 0\n",
            "_________________________________________________________________\n"
          ]
        }
      ],
      "source": [
        "model.summary()"
      ]
    },
    {
      "cell_type": "code",
      "execution_count": 88,
      "metadata": {
        "colab": {
          "base_uri": "https://localhost:8080/"
        },
        "id": "ASJWxkCexpRn",
        "outputId": "2ade4699-91a3-4665-e9bf-c5b7c39d9720"
      },
      "outputs": [
        {
          "name": "stdout",
          "output_type": "stream",
          "text": [
            "Epoch 1/5\n",
            "48/48 [==============================] - 17s 142ms/step - loss: 0.0019 - val_loss: 0.0018\n",
            "Epoch 2/5\n",
            "48/48 [==============================] - 5s 96ms/step - loss: 7.5268e-05 - val_loss: 0.0017\n",
            "Epoch 3/5\n",
            "48/48 [==============================] - 2s 50ms/step - loss: 7.1018e-05 - val_loss: 0.0022\n",
            "Epoch 4/5\n",
            "48/48 [==============================] - 3s 56ms/step - loss: 7.1462e-05 - val_loss: 0.0029\n",
            "Epoch 5/5\n",
            "48/48 [==============================] - 2s 45ms/step - loss: 7.4582e-05 - val_loss: 0.0020\n"
          ]
        },
        {
          "data": {
            "text/plain": [
              "<keras.callbacks.History at 0x7fc543ef5130>"
            ]
          },
          "execution_count": 88,
          "metadata": {},
          "output_type": "execute_result"
        }
      ],
      "source": [
        "#Fit the model\n",
        "model.fit(x_train, y_train, validation_data=(x_test, y_test), epochs=5, batch_size=64, verbose=1)"
      ]
    },
    {
      "cell_type": "code",
      "execution_count": 89,
      "metadata": {
        "colab": {
          "base_uri": "https://localhost:8080/"
        },
        "id": "5JQ216zmxrr_",
        "outputId": "fefe5353-4139-4b92-9f02-2dc77d235dbb"
      },
      "outputs": [
        {
          "name": "stdout",
          "output_type": "stream",
          "text": [
            "95/95 [==============================] - 2s 11ms/step\n"
          ]
        }
      ],
      "source": [
        "#Get the training data predictions and convert to the original scale\n",
        "train_predict = model.predict(x_train)\n",
        "train_predict = scaler.inverse_transform(train_predict)"
      ]
    },
    {
      "cell_type": "code",
      "execution_count": 90,
      "metadata": {
        "colab": {
          "base_uri": "https://localhost:8080/"
        },
        "id": "ZB6PDUmixruI",
        "outputId": "df10e2f1-1a07-412d-9298-4fc28b9399b4"
      },
      "outputs": [
        {
          "name": "stdout",
          "output_type": "stream",
          "text": [
            "23/23 [==============================] - 0s 13ms/step\n"
          ]
        }
      ],
      "source": [
        "#Get the testing data predictions and convert to the original scale\n",
        "test_predict = model.predict(x_test)\n",
        "test_predict = scaler.inverse_transform(test_predict)\n"
      ]
    },
    {
      "cell_type": "code",
      "execution_count": null,
      "metadata": {},
      "outputs": [],
      "source": [
        "#Calculate the root mean squared error (RMSE) for training and testing data to evaluate the model\n",
        "rmse_train = np.sqrt(mean_squared_error(y_train, train_predict))\n",
        "rmse_test = np.sqrt(mean_squared_error(y_test, test_predict))\n",
        "\n",
        "print(\"RMSE Training Data: \", rmse_train)\n",
        "print(\"RMSE Testing Data: \", rmse_test)"
      ]
    },
    {
      "cell_type": "code",
      "execution_count": 91,
      "metadata": {
        "colab": {
          "base_uri": "https://localhost:8080/",
          "height": 520
        },
        "id": "OVIpQXrzxrwe",
        "outputId": "538a4cfa-3f3e-452e-8154-93996a6d2d6d"
      },
      "outputs": [
        {
          "data": {
            "image/png": "[encoded data removed]",
            "text/plain": [
              "<Figure size 1152x576 with 1 Axes>"
            ]
          },
          "metadata": {
            "needs_background": "light"
          },
          "output_type": "display_data"
        }
      ],
      "source": [
        "#Plot the data\n",
        "look_back = 30\n",
        "trainPredictPlot = np.empty_like(scaled_data) #Create an empty array the same size as the scaled data\n",
        "\n",
        "trainPredictPlot[:, :] = np.nan #Fill the empty array with NaN values\n",
        "trainPredictPlot[look_back:len(train_predict)+look_back, :] = train_predict #Fill the array with the training data predictions\n",
        "\n",
        "#Plot the testing data and the model predictions\n",
        "testPredictPlot = np.empty_like(scaled_data) #Create an empty array the same size as the scaled data\n",
        "testPredictPlot[:, :] = np.nan  #Fill the empty array with NaN values\n",
        "testPredictPlot[len(train_predict)+(look_back*2)+1:len(scaled_data)-1, :] = test_predict #Fill the array with the testing data predictions\n",
        "\n",
        "#Plot the data\n",
        "plt.figure(figsize=(16,8))\n",
        "plt.title('Model')\n",
        "plt.xlabel('Date', fontsize=18)\n",
        "plt.ylabel('Close Price USD ($)', fontsize=18)\n",
        "plt.plot(scaler.inverse_transform(scaled_data))\n",
        "plt.plot(trainPredictPlot)\n",
        "#plt.plot(y_test)\n",
        "plt.plot(testPredictPlot)\n",
        "plt.legend(['Actual Values', 'Train Data Prediction', 'Test Data Prediction'], loc='upper left')\n",
        "plt.show()"
      ]
    },
    {
      "cell_type": "code",
      "execution_count": 92,
      "metadata": {
        "colab": {
          "base_uri": "https://localhost:8080/"
        },
        "id": "hWjvfDLIGm7p",
        "outputId": "580c2504-36e7-4bf3-a7fa-65204ba232e8"
      },
      "outputs": [
        {
          "data": {
            "text/plain": [
              "765"
            ]
          },
          "execution_count": 92,
          "metadata": {},
          "output_type": "execute_result"
        }
      ],
      "source": [
        "len(test_data) "
      ]
    },
    {
      "cell_type": "code",
      "execution_count": 97,
      "metadata": {
        "colab": {
          "base_uri": "https://localhost:8080/"
        },
        "id": "VnjjA7msGm7p",
        "outputId": "bb35703c-8b80-4f60-b2fd-8c0c22bdd3e1"
      },
      "outputs": [
        {
          "data": {
            "text/plain": [
              "(1, 30)"
            ]
          },
          "execution_count": 97,
          "metadata": {},
          "output_type": "execute_result"
        }
      ],
      "source": [
        "#Get the last 30 days of the training data and convert it to an array (765 - 30 = 685)\n",
        "x_input = test_data[735:].reshape(1,-1) #Predict the closing price for the next 30 days starting from 685\n",
        "x_input.shape"
      ]
    },
    {
      "cell_type": "code",
      "execution_count": 98,
      "metadata": {
        "colab": {
          "base_uri": "https://localhost:8080/"
        },
        "id": "kQm3iNLFGm7p",
        "outputId": "31432dd6-3b2d-430e-fa77-4afa5224ff4d"
      },
      "outputs": [
        {
          "name": "stdout",
          "output_type": "stream",
          "text": [
            "30\n"
          ]
        }
      ],
      "source": [
        "#Convert the data to a list\n",
        "temp_input = list(x_input)\n",
        "temp_input = temp_input[0].tolist() #Convert the data to a list\n",
        "\n",
        "print(len(temp_input)) #The length of the list should be 30 as we are predicting the closing price for the next 30 days"
      ]
    },
    {
      "cell_type": "code",
      "execution_count": 99,
      "metadata": {
        "colab": {
          "base_uri": "https://localhost:8080/"
        },
        "id": "T_Laq9DAGm7q",
        "outputId": "03e99809-993a-4176-a586-9fe4fcf57d01"
      },
      "outputs": [
        {
          "name": "stdout",
          "output_type": "stream",
          "text": [
            "[0.8023395]\n",
            "31\n",
            "1 day input [0.79589005 0.82596538 0.84649909 0.83104295 0.84733602 0.83210313\n",
            " 0.8262443  0.82702547 0.84287223 0.8392453  0.85113035 0.84209106\n",
            " 0.83561845 0.81290852 0.81530789 0.81804195 0.8030323  0.80978384\n",
            " 0.80693816 0.79522049 0.79856842 0.82713709 0.84276061 0.83031763\n",
            " 0.83740395 0.82468196 0.81302014 0.8240124  0.8358416  0.80233949]\n",
            "1 day output [[0.8024479]]\n",
            "2 day input [0.82596538 0.84649909 0.83104295 0.84733602 0.83210313 0.8262443\n",
            " 0.82702547 0.84287223 0.8392453  0.85113035 0.84209106 0.83561845\n",
            " 0.81290852 0.81530789 0.81804195 0.8030323  0.80978384 0.80693816\n",
            " 0.79522049 0.79856842 0.82713709 0.84276061 0.83031763 0.83740395\n",
            " 0.82468196 0.81302014 0.8240124  0.8358416  0.80233949 0.80244792]\n",
            "2 day output [[0.80234945]]\n",
            "3 day input [0.84649909 0.83104295 0.84733602 0.83210313 0.8262443  0.82702547\n",
            " 0.84287223 0.8392453  0.85113035 0.84209106 0.83561845 0.81290852\n",
            " 0.81530789 0.81804195 0.8030323  0.80978384 0.80693816 0.79522049\n",
            " 0.79856842 0.82713709 0.84276061 0.83031763 0.83740395 0.82468196\n",
            " 0.81302014 0.8240124  0.8358416  0.80233949 0.80244792 0.80234945]\n",
            "3 day output [[0.8019819]]\n",
            "4 day input [0.83104295 0.84733602 0.83210313 0.8262443  0.82702547 0.84287223\n",
            " 0.8392453  0.85113035 0.84209106 0.83561845 0.81290852 0.81530789\n",
            " 0.81804195 0.8030323  0.80978384 0.80693816 0.79522049 0.79856842\n",
            " 0.82713709 0.84276061 0.83031763 0.83740395 0.82468196 0.81302014\n",
            " 0.8240124  0.8358416  0.80233949 0.80244792 0.80234945 0.80198193]\n",
            "4 day output [[0.8013788]]\n",
            "5 day input [0.84733602 0.83210313 0.8262443  0.82702547 0.84287223 0.8392453\n",
            " 0.85113035 0.84209106 0.83561845 0.81290852 0.81530789 0.81804195\n",
            " 0.8030323  0.80978384 0.80693816 0.79522049 0.79856842 0.82713709\n",
            " 0.84276061 0.83031763 0.83740395 0.82468196 0.81302014 0.8240124\n",
            " 0.8358416  0.80233949 0.80244792 0.80234945 0.80198193 0.80137879]\n",
            "5 day output [[0.8006273]]\n",
            "6 day input [0.83210313 0.8262443  0.82702547 0.84287223 0.8392453  0.85113035\n",
            " 0.84209106 0.83561845 0.81290852 0.81530789 0.81804195 0.8030323\n",
            " 0.80978384 0.80693816 0.79522049 0.79856842 0.82713709 0.84276061\n",
            " 0.83031763 0.83740395 0.82468196 0.81302014 0.8240124  0.8358416\n",
            " 0.80233949 0.80244792 0.80234945 0.80198193 0.80137879 0.80062729]\n",
            "6 day output [[0.7996983]]\n",
            "7 day input [0.8262443  0.82702547 0.84287223 0.8392453  0.85113035 0.84209106\n",
            " 0.83561845 0.81290852 0.81530789 0.81804195 0.8030323  0.80978384\n",
            " 0.80693816 0.79522049 0.79856842 0.82713709 0.84276061 0.83031763\n",
            " 0.83740395 0.82468196 0.81302014 0.8240124  0.8358416  0.80233949\n",
            " 0.80244792 0.80234945 0.80198193 0.80137879 0.80062729 0.79969829]\n",
            "7 day output [[0.7986812]]\n",
            "8 day input [0.82702547 0.84287223 0.8392453  0.85113035 0.84209106 0.83561845\n",
            " 0.81290852 0.81530789 0.81804195 0.8030323  0.80978384 0.80693816\n",
            " 0.79522049 0.79856842 0.82713709 0.84276061 0.83031763 0.83740395\n",
            " 0.82468196 0.81302014 0.8240124  0.8358416  0.80233949 0.80244792\n",
            " 0.80234945 0.80198193 0.80137879 0.80062729 0.79969829 0.7986812 ]\n",
            "8 day output [[0.7975826]]\n",
            "9 day input [0.84287223 0.8392453  0.85113035 0.84209106 0.83561845 0.81290852\n",
            " 0.81530789 0.81804195 0.8030323  0.80978384 0.80693816 0.79522049\n",
            " 0.79856842 0.82713709 0.84276061 0.83031763 0.83740395 0.82468196\n",
            " 0.81302014 0.8240124  0.8358416  0.80233949 0.80244792 0.80234945\n",
            " 0.80198193 0.80137879 0.80062729 0.79969829 0.7986812  0.79758263]\n",
            "9 day output [[0.7964162]]\n",
            "10 day input [0.8392453  0.85113035 0.84209106 0.83561845 0.81290852 0.81530789\n",
            " 0.81804195 0.8030323  0.80978384 0.80693816 0.79522049 0.79856842\n",
            " 0.82713709 0.84276061 0.83031763 0.83740395 0.82468196 0.81302014\n",
            " 0.8240124  0.8358416  0.80233949 0.80244792 0.80234945 0.80198193\n",
            " 0.80137879 0.80062729 0.79969829 0.7986812  0.79758263 0.79641622]\n",
            "10 day output [[0.79518205]]\n",
            "11 day input [0.85113035 0.84209106 0.83561845 0.81290852 0.81530789 0.81804195\n",
            " 0.8030323  0.80978384 0.80693816 0.79522049 0.79856842 0.82713709\n",
            " 0.84276061 0.83031763 0.83740395 0.82468196 0.81302014 0.8240124\n",
            " 0.8358416  0.80233949 0.80244792 0.80234945 0.80198193 0.80137879\n",
            " 0.80062729 0.79969829 0.7986812  0.79758263 0.79641622 0.79518205]\n",
            "11 day output [[0.7939353]]\n",
            "12 day input [0.84209106 0.83561845 0.81290852 0.81530789 0.81804195 0.8030323\n",
            " 0.80978384 0.80693816 0.79522049 0.79856842 0.82713709 0.84276061\n",
            " 0.83031763 0.83740395 0.82468196 0.81302014 0.8240124  0.8358416\n",
            " 0.80233949 0.80244792 0.80234945 0.80198193 0.80137879 0.80062729\n",
            " 0.79969829 0.7986812  0.79758263 0.79641622 0.79518205 0.7939353 ]\n",
            "12 day output [[0.7926631]]\n",
            "13 day input [0.83561845 0.81290852 0.81530789 0.81804195 0.8030323  0.80978384\n",
            " 0.80693816 0.79522049 0.79856842 0.82713709 0.84276061 0.83031763\n",
            " 0.83740395 0.82468196 0.81302014 0.8240124  0.8358416  0.80233949\n",
            " 0.80244792 0.80234945 0.80198193 0.80137879 0.80062729 0.79969829\n",
            " 0.7986812  0.79758263 0.79641622 0.79518205 0.7939353  0.7926631 ]\n",
            "13 day output [[0.7914128]]\n",
            "14 day input [0.81290852 0.81530789 0.81804195 0.8030323  0.80978384 0.80693816\n",
            " 0.79522049 0.79856842 0.82713709 0.84276061 0.83031763 0.83740395\n",
            " 0.82468196 0.81302014 0.8240124  0.8358416  0.80233949 0.80244792\n",
            " 0.80234945 0.80198193 0.80137879 0.80062729 0.79969829 0.7986812\n",
            " 0.79758263 0.79641622 0.79518205 0.7939353  0.7926631  0.79141277]\n",
            "14 day output [[0.79018235]]\n",
            "15 day input [0.81530789 0.81804195 0.8030323  0.80978384 0.80693816 0.79522049\n",
            " 0.79856842 0.82713709 0.84276061 0.83031763 0.83740395 0.82468196\n",
            " 0.81302014 0.8240124  0.8358416  0.80233949 0.80244792 0.80234945\n",
            " 0.80198193 0.80137879 0.80062729 0.79969829 0.7986812  0.79758263\n",
            " 0.79641622 0.79518205 0.7939353  0.7926631  0.79141277 0.79018235]\n",
            "15 day output [[0.7889993]]\n",
            "16 day input [0.81804195 0.8030323  0.80978384 0.80693816 0.79522049 0.79856842\n",
            " 0.82713709 0.84276061 0.83031763 0.83740395 0.82468196 0.81302014\n",
            " 0.8240124  0.8358416  0.80233949 0.80244792 0.80234945 0.80198193\n",
            " 0.80137879 0.80062729 0.79969829 0.7986812  0.79758263 0.79641622\n",
            " 0.79518205 0.7939353  0.7926631  0.79141277 0.79018235 0.78899932]\n",
            "16 day output [[0.7878168]]\n",
            "17 day input [0.8030323  0.80978384 0.80693816 0.79522049 0.79856842 0.82713709\n",
            " 0.84276061 0.83031763 0.83740395 0.82468196 0.81302014 0.8240124\n",
            " 0.8358416  0.80233949 0.80244792 0.80234945 0.80198193 0.80137879\n",
            " 0.80062729 0.79969829 0.7986812  0.79758263 0.79641622 0.79518205\n",
            " 0.7939353  0.7926631  0.79141277 0.79018235 0.78899932 0.78781682]\n",
            "17 day output [[0.7866396]]\n",
            "18 day input [0.80978384 0.80693816 0.79522049 0.79856842 0.82713709 0.84276061\n",
            " 0.83031763 0.83740395 0.82468196 0.81302014 0.8240124  0.8358416\n",
            " 0.80233949 0.80244792 0.80234945 0.80198193 0.80137879 0.80062729\n",
            " 0.79969829 0.7986812  0.79758263 0.79641622 0.79518205 0.7939353\n",
            " 0.7926631  0.79141277 0.79018235 0.78899932 0.78781682 0.78663957]\n",
            "18 day output [[0.7855009]]\n",
            "19 day input [0.80693816 0.79522049 0.79856842 0.82713709 0.84276061 0.83031763\n",
            " 0.83740395 0.82468196 0.81302014 0.8240124  0.8358416  0.80233949\n",
            " 0.80244792 0.80234945 0.80198193 0.80137879 0.80062729 0.79969829\n",
            " 0.7986812  0.79758263 0.79641622 0.79518205 0.7939353  0.7926631\n",
            " 0.79141277 0.79018235 0.78899932 0.78781682 0.78663957 0.78550088]\n",
            "19 day output [[0.78436005]]\n",
            "20 day input [0.79522049 0.79856842 0.82713709 0.84276061 0.83031763 0.83740395\n",
            " 0.82468196 0.81302014 0.8240124  0.8358416  0.80233949 0.80244792\n",
            " 0.80234945 0.80198193 0.80137879 0.80062729 0.79969829 0.7986812\n",
            " 0.79758263 0.79641622 0.79518205 0.7939353  0.7926631  0.79141277\n",
            " 0.79018235 0.78899932 0.78781682 0.78663957 0.78550088 0.78436005]\n",
            "20 day output [[0.78323793]]\n",
            "21 day input [0.79856842 0.82713709 0.84276061 0.83031763 0.83740395 0.82468196\n",
            " 0.81302014 0.8240124  0.8358416  0.80233949 0.80244792 0.80234945\n",
            " 0.80198193 0.80137879 0.80062729 0.79969829 0.7986812  0.79758263\n",
            " 0.79641622 0.79518205 0.7939353  0.7926631  0.79141277 0.79018235\n",
            " 0.78899932 0.78781682 0.78663957 0.78550088 0.78436005 0.78323793]\n",
            "21 day output [[0.78214943]]\n",
            "22 day input [0.82713709 0.84276061 0.83031763 0.83740395 0.82468196 0.81302014\n",
            " 0.8240124  0.8358416  0.80233949 0.80244792 0.80234945 0.80198193\n",
            " 0.80137879 0.80062729 0.79969829 0.7986812  0.79758263 0.79641622\n",
            " 0.79518205 0.7939353  0.7926631  0.79141277 0.79018235 0.78899932\n",
            " 0.78781682 0.78663957 0.78550088 0.78436005 0.78323793 0.78214943]\n",
            "22 day output [[0.7810651]]\n",
            "23 day input [0.84276061 0.83031763 0.83740395 0.82468196 0.81302014 0.8240124\n",
            " 0.8358416  0.80233949 0.80244792 0.80234945 0.80198193 0.80137879\n",
            " 0.80062729 0.79969829 0.7986812  0.79758263 0.79641622 0.79518205\n",
            " 0.7939353  0.7926631  0.79141277 0.79018235 0.78899932 0.78781682\n",
            " 0.78663957 0.78550088 0.78436005 0.78323793 0.78214943 0.78106511]\n",
            "23 day output [[0.77994686]]\n",
            "24 day input [0.83031763 0.83740395 0.82468196 0.81302014 0.8240124  0.8358416\n",
            " 0.80233949 0.80244792 0.80234945 0.80198193 0.80137879 0.80062729\n",
            " 0.79969829 0.7986812  0.79758263 0.79641622 0.79518205 0.7939353\n",
            " 0.7926631  0.79141277 0.79018235 0.78899932 0.78781682 0.78663957\n",
            " 0.78550088 0.78436005 0.78323793 0.78214943 0.78106511 0.77994686]\n",
            "24 day output [[0.7788295]]\n",
            "25 day input [0.83740395 0.82468196 0.81302014 0.8240124  0.8358416  0.80233949\n",
            " 0.80244792 0.80234945 0.80198193 0.80137879 0.80062729 0.79969829\n",
            " 0.7986812  0.79758263 0.79641622 0.79518205 0.7939353  0.7926631\n",
            " 0.79141277 0.79018235 0.78899932 0.78781682 0.78663957 0.78550088\n",
            " 0.78436005 0.78323793 0.78214943 0.78106511 0.77994686 0.77882951]\n",
            "25 day output [[0.7777636]]\n",
            "26 day input [0.82468196 0.81302014 0.8240124  0.8358416  0.80233949 0.80244792\n",
            " 0.80234945 0.80198193 0.80137879 0.80062729 0.79969829 0.7986812\n",
            " 0.79758263 0.79641622 0.79518205 0.7939353  0.7926631  0.79141277\n",
            " 0.79018235 0.78899932 0.78781682 0.78663957 0.78550088 0.78436005\n",
            " 0.78323793 0.78214943 0.78106511 0.77994686 0.77882951 0.77776361]\n",
            "26 day output [[0.77670795]]\n",
            "27 day input [0.81302014 0.8240124  0.8358416  0.80233949 0.80244792 0.80234945\n",
            " 0.80198193 0.80137879 0.80062729 0.79969829 0.7986812  0.79758263\n",
            " 0.79641622 0.79518205 0.7939353  0.7926631  0.79141277 0.79018235\n",
            " 0.78899932 0.78781682 0.78663957 0.78550088 0.78436005 0.78323793\n",
            " 0.78214943 0.78106511 0.77994686 0.77882951 0.77776361 0.77670795]\n",
            "27 day output [[0.77569634]]\n",
            "28 day input [0.8240124  0.8358416  0.80233949 0.80244792 0.80234945 0.80198193\n",
            " 0.80137879 0.80062729 0.79969829 0.7986812  0.79758263 0.79641622\n",
            " 0.79518205 0.7939353  0.7926631  0.79141277 0.79018235 0.78899932\n",
            " 0.78781682 0.78663957 0.78550088 0.78436005 0.78323793 0.78214943\n",
            " 0.78106511 0.77994686 0.77882951 0.77776361 0.77670795 0.77569634]\n",
            "28 day output [[0.7747192]]\n",
            "29 day input [0.8358416  0.80233949 0.80244792 0.80234945 0.80198193 0.80137879\n",
            " 0.80062729 0.79969829 0.7986812  0.79758263 0.79641622 0.79518205\n",
            " 0.7939353  0.7926631  0.79141277 0.79018235 0.78899932 0.78781682\n",
            " 0.78663957 0.78550088 0.78436005 0.78323793 0.78214943 0.78106511\n",
            " 0.77994686 0.77882951 0.77776361 0.77670795 0.77569634 0.77471918]\n",
            "29 day output [[0.7737335]]\n"
          ]
        }
      ],
      "source": [
        "#Predict the closing price for the next 30 days\n",
        "from numpy import array\n",
        "\n",
        "lst_output = []\n",
        "n_steps = 30\n",
        "i = 0\n",
        "while(i<30):\n",
        "      #if the length of the list is greater than 30, then we will shift by 1 day and take new output as the input for the next day prediction\n",
        "      if(len(temp_input)>30): #\n",
        "          #print(temp_input)\n",
        "          x_input = np.array(temp_input[1:])\n",
        "          print(\"{} day input {}\".format(i,x_input))\n",
        "          x_input = x_input.reshape(1,-1)\n",
        "          x_input = x_input.reshape((1, n_steps, 1))\n",
        "          #print(x_input)\n",
        "          yhat = model.predict(x_input, verbose=0)\n",
        "          print(\"{} day output {}\".format(i,yhat))\n",
        "          temp_input.extend(yhat[0].tolist())\n",
        "          temp_input = temp_input[1:]\n",
        "          #print(temp_input)\n",
        "          lst_output.extend(yhat.tolist())\n",
        "          i=i+1\n",
        "      #If the length of the list is less than 30, then we will add the last 30 days to the list and predict the next 30 days\n",
        "      else:\n",
        "          x_input = x_input.reshape((1, n_steps,1)) #Reshape the data to fit the model\n",
        "          yhat = model.predict(x_input, verbose=0)  #Predict the closing price for the next 30 days\n",
        "          print(yhat[0]) #Print the predicted closing price\n",
        "          temp_input.extend(yhat[0].tolist()) #Add the predicted closing price to the list\n",
        "          print(len(temp_input)) #The length of the list should be 30\n",
        "          lst_output.extend(yhat.tolist()) #Add the predicted closing price to previous list (temp_input)\n",
        "          i=i+1 "
      ]
    },
    {
      "cell_type": "code",
      "execution_count": 100,
      "metadata": {
        "id": "VRFwmGBoGm7q"
      },
      "outputs": [],
      "source": [
        "day_new = np.arange(1,31) #Create a new array with the previous 30 days\n",
        "day_pred = np.arange(31,61) #Create a new array with the next 30 days"
      ]
    },
    {
      "cell_type": "code",
      "execution_count": null,
      "metadata": {},
      "outputs": [],
      "source": [
        "#Print the predicted closing price for the next 30 days and inverse the scale\n",
        "print(scaler.inverse_transform(lst_output))"
      ]
    },
    {
      "cell_type": "code",
      "execution_count": 103,
      "metadata": {
        "colab": {
          "base_uri": "https://localhost:8080/",
          "height": 485
        },
        "id": "KV5vKSrAGm7q",
        "outputId": "5071fac4-1e0f-4aa7-ad6f-64ee65c0d37b"
      },
      "outputs": [
        {
          "data": {
            "image/png": "[encoded data removed]",
            "text/plain": [
              "<Figure size 1152x576 with 1 Axes>"
            ]
          },
          "metadata": {
            "needs_background": "light"
          },
          "output_type": "display_data"
        }
      ],
      "source": [
        "plt.figure(figsize=(16,8))\n",
        "plt.plot(day_new, scaler.inverse_transform(scaled_data[3796:])) #Plot the previous 30 days\n",
        "plt.plot(day_pred, scaler.inverse_transform(lst_output)) #Plot the next 30 days\n",
        "plt.show()\n"
      ]
    },
    {
      "cell_type": "code",
      "execution_count": 104,
      "metadata": {
        "colab": {
          "base_uri": "https://localhost:8080/"
        },
        "id": "bw3DDv0Axry8",
        "outputId": "d013b0f2-bacf-4e36-96db-9c43a1d44231"
      },
      "outputs": [
        {
          "name": "stdout",
          "output_type": "stream",
          "text": [
            "24.809258767368835\n",
            "132.5551273599969\n"
          ]
        }
      ],
      "source": [
        "#Get the root mean squared error (RMSE) for the training data and the testing data\n",
        "rmse = np.sqrt(np.mean(train_predict - y_train)**2)\n",
        "print(rmse)\n",
        "\n",
        "rmse = np.sqrt(np.mean(test_predict - y_test)**2)\n",
        "print(rmse)\n"
      ]
    },
    {
      "cell_type": "code",
      "execution_count": 105,
      "metadata": {
        "colab": {
          "base_uri": "https://localhost:8080/"
        },
        "id": "fpjcqwwBxr1C",
        "outputId": "d2819a33-b02a-4233-c178-199c539bc41c"
      },
      "outputs": [
        {
          "name": "stdout",
          "output_type": "stream",
          "text": [
            "Train Score: 29.68 RMSE\n",
            "Test Score: 134.53 RMSE\n"
          ]
        }
      ],
      "source": [
        "#Get performance metrics for the model on the training and testing data using root mean squared error (RMSE)\n",
        "trainScore = math.sqrt(mean_squared_error(y_train, train_predict))\n",
        "testScore = math.sqrt(mean_squared_error(y_test, test_predict))\n",
        "\n",
        "print('Train Score: %.2f RMSE' % (trainScore))\n",
        "print('Test Score: %.2f RMSE' % (testScore))"
      ]
    },
    {
      "cell_type": "code",
      "execution_count": 106,
      "metadata": {
        "colab": {
          "base_uri": "https://localhost:8080/",
          "height": 482
        },
        "id": "KkXjcrLnxr3Y",
        "outputId": "b6b4f40e-ff6a-49bf-9e78-d28f094a2792"
      },
      "outputs": [
        {
          "data": {
            "image/png": "[encoded data removed]",
            "text/plain": [
              "<Figure size 1152x576 with 1 Axes>"
            ]
          },
          "metadata": {
            "needs_background": "light"
          },
          "output_type": "display_data"
        }
      ],
      "source": [
        "len(data)\n",
        "df3 = data.values.tolist()\n",
        "df3 = df3[:]\n",
        "df3.extend(scaler.inverse_transform(lst_output))\n",
        "plt.figure(figsize=(16,8))\n",
        "plt.plot(df3[30:])\n",
        "plt.show()\n"
      ]
    }
  ],
  "metadata": {
    "colab": {
      "provenance": []
    },
    "kernelspec": {
      "display_name": "Python 3",
      "name": "python3"
    },
    "language_info": {
      "codemirror_mode": {
        "name": "ipython",
        "version": 3
      },
      "file_extension": ".py",
      "mimetype": "text/x-python",
      "name": "python",
      "nbconvert_exporter": "python",
      "pygments_lexer": "ipython3",
      "version": "3.10.9"
    }
  },
  "nbformat": 4,
  "nbformat_minor": 0
}
