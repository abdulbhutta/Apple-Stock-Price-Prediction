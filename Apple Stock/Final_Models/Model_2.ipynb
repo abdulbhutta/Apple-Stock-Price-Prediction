{
  "cells": [
    {
      "cell_type": "code",
      "execution_count": 252,
      "metadata": {
        "colab": {
          "base_uri": "https://localhost:8080/"
        },
        "id": "tlRkst1fTpFD",
        "outputId": "3a24e171-932e-43be-fa09-f02da87f5dc8"
      },
      "outputs": [
        {
          "output_type": "stream",
          "name": "stdout",
          "text": [
            "Looking in indexes: https://pypi.org/simple, https://us-python.pkg.dev/colab-wheels/public/simple/\n",
            "Requirement already satisfied: yfinance in /usr/local/lib/python3.9/dist-packages (0.2.12)\n",
            "Requirement already satisfied: multitasking>=0.0.7 in /usr/local/lib/python3.9/dist-packages (from yfinance) (0.0.11)\n",
            "Requirement already satisfied: frozendict>=2.3.4 in /usr/local/lib/python3.9/dist-packages (from yfinance) (2.3.5)\n",
            "Requirement already satisfied: appdirs>=1.4.4 in /usr/local/lib/python3.9/dist-packages (from yfinance) (1.4.4)\n",
            "Requirement already satisfied: beautifulsoup4>=4.11.1 in /usr/local/lib/python3.9/dist-packages (from yfinance) (4.11.2)\n",
            "Requirement already satisfied: numpy>=1.16.5 in /usr/local/lib/python3.9/dist-packages (from yfinance) (1.22.4)\n",
            "Requirement already satisfied: pytz>=2022.5 in /usr/local/lib/python3.9/dist-packages (from yfinance) (2022.7.1)\n",
            "Requirement already satisfied: lxml>=4.9.1 in /usr/local/lib/python3.9/dist-packages (from yfinance) (4.9.2)\n",
            "Requirement already satisfied: cryptography>=3.3.2 in /usr/local/lib/python3.9/dist-packages (from yfinance) (39.0.2)\n",
            "Requirement already satisfied: pandas>=1.3.0 in /usr/local/lib/python3.9/dist-packages (from yfinance) (1.4.4)\n",
            "Requirement already satisfied: html5lib>=1.1 in /usr/local/lib/python3.9/dist-packages (from yfinance) (1.1)\n",
            "Requirement already satisfied: requests>=2.26 in /usr/local/lib/python3.9/dist-packages (from yfinance) (2.27.1)\n",
            "Requirement already satisfied: soupsieve>1.2 in /usr/local/lib/python3.9/dist-packages (from beautifulsoup4>=4.11.1->yfinance) (2.4)\n",
            "Requirement already satisfied: cffi>=1.12 in /usr/local/lib/python3.9/dist-packages (from cryptography>=3.3.2->yfinance) (1.15.1)\n",
            "Requirement already satisfied: six>=1.9 in /usr/local/lib/python3.9/dist-packages (from html5lib>=1.1->yfinance) (1.15.0)\n",
            "Requirement already satisfied: webencodings in /usr/local/lib/python3.9/dist-packages (from html5lib>=1.1->yfinance) (0.5.1)\n",
            "Requirement already satisfied: python-dateutil>=2.8.1 in /usr/local/lib/python3.9/dist-packages (from pandas>=1.3.0->yfinance) (2.8.2)\n",
            "Requirement already satisfied: certifi>=2017.4.17 in /usr/local/lib/python3.9/dist-packages (from requests>=2.26->yfinance) (2022.12.7)\n",
            "Requirement already satisfied: idna<4,>=2.5 in /usr/local/lib/python3.9/dist-packages (from requests>=2.26->yfinance) (3.4)\n",
            "Requirement already satisfied: urllib3<1.27,>=1.21.1 in /usr/local/lib/python3.9/dist-packages (from requests>=2.26->yfinance) (1.26.15)\n",
            "Requirement already satisfied: charset-normalizer~=2.0.0 in /usr/local/lib/python3.9/dist-packages (from requests>=2.26->yfinance) (2.0.12)\n",
            "Requirement already satisfied: pycparser in /usr/local/lib/python3.9/dist-packages (from cffi>=1.12->cryptography>=3.3.2->yfinance) (2.21)\n"
          ]
        }
      ],
      "source": [
        "!pip install yfinance\n",
        "import yfinance as yf\n",
        "import pandas as pd\n",
        "import numpy as np\n",
        "import math \n",
        "import matplotlib.pyplot as plt\n",
        "import tensorflow as tf\n",
        "from sklearn.preprocessing import MinMaxScaler\n",
        "from tensorflow.keras.models import Sequential\n",
        "from tensorflow.keras.layers import Dense, Dropout, LSTM\n",
        "from keras.models import Sequential\n",
        "from keras.layers import Dense, LSTM\n",
        "from sklearn.metrics import mean_squared_error"
      ]
    },
    {
      "cell_type": "code",
      "execution_count": 253,
      "metadata": {
        "colab": {
          "base_uri": "https://localhost:8080/"
        },
        "id": "aVKlxDbmTpFH",
        "outputId": "eb74bad5-0c06-4b23-8480-5b2d0a508f10"
      },
      "outputs": [
        {
          "output_type": "stream",
          "name": "stdout",
          "text": [
            "\r[*********************100%***********************]  1 of 1 completed\n"
          ]
        }
      ],
      "source": [
        "data = yf.download('AAPL','2008-01-01','2023-03-15')"
      ]
    },
    {
      "cell_type": "code",
      "source": [
        "recent_data = yf.download('AAPL', '2023-03-16')"
      ],
      "metadata": {
        "colab": {
          "base_uri": "https://localhost:8080/"
        },
        "id": "ivyPHlXCYLS9",
        "outputId": "805fd248-4470-4a62-c568-d7df8814a78e"
      },
      "execution_count": 254,
      "outputs": [
        {
          "output_type": "stream",
          "name": "stdout",
          "text": [
            "\r[*********************100%***********************]  1 of 1 completed\n"
          ]
        }
      ]
    },
    {
      "cell_type": "code",
      "source": [
        "recent_data.head(10)"
      ],
      "metadata": {
        "colab": {
          "base_uri": "https://localhost:8080/",
          "height": 170
        },
        "id": "7dWl4GN5YR4t",
        "outputId": "f929bf78-73c5-48e5-a50e-dc108c745d4f"
      },
      "execution_count": 255,
      "outputs": [
        {
          "output_type": "execute_result",
          "data": {
            "text/plain": [
              "                  Open        High         Low       Close   Adj Close  \\\n",
              "Date                                                                     \n",
              "2023-03-16  152.160004  156.460007  151.639999  155.850006  155.850006   \n",
              "2023-03-17  156.080002  156.740005  154.279999  155.000000  155.000000   \n",
              "2023-03-20  155.070007  157.820007  154.149994  157.399994  157.399994   \n",
              "\n",
              "              Volume  \n",
              "Date                  \n",
              "2023-03-16  76161100  \n",
              "2023-03-17  98862500  \n",
              "2023-03-20  73556400  "
            ],
            "text/html": [
              "\n",
              "  <div id=\"df-584b47d0-0228-4211-bb4c-0980fff0b270\">\n",
              "    <div class=\"colab-df-container\">\n",
              "      <div>\n",
              "<style scoped>\n",
              "    .dataframe tbody tr th:only-of-type {\n",
              "        vertical-align: middle;\n",
              "    }\n",
              "\n",
              "    .dataframe tbody tr th {\n",
              "        vertical-align: top;\n",
              "    }\n",
              "\n",
              "    .dataframe thead th {\n",
              "        text-align: right;\n",
              "    }\n",
              "</style>\n",
              "<table border=\"1\" class=\"dataframe\">\n",
              "  <thead>\n",
              "    <tr style=\"text-align: right;\">\n",
              "      <th></th>\n",
              "      <th>Open</th>\n",
              "      <th>High</th>\n",
              "      <th>Low</th>\n",
              "      <th>Close</th>\n",
              "      <th>Adj Close</th>\n",
              "      <th>Volume</th>\n",
              "    </tr>\n",
              "    <tr>\n",
              "      <th>Date</th>\n",
              "      <th></th>\n",
              "      <th></th>\n",
              "      <th></th>\n",
              "      <th></th>\n",
              "      <th></th>\n",
              "      <th></th>\n",
              "    </tr>\n",
              "  </thead>\n",
              "  <tbody>\n",
              "    <tr>\n",
              "      <th>2023-03-16</th>\n",
              "      <td>152.160004</td>\n",
              "      <td>156.460007</td>\n",
              "      <td>151.639999</td>\n",
              "      <td>155.850006</td>\n",
              "      <td>155.850006</td>\n",
              "      <td>76161100</td>\n",
              "    </tr>\n",
              "    <tr>\n",
              "      <th>2023-03-17</th>\n",
              "      <td>156.080002</td>\n",
              "      <td>156.740005</td>\n",
              "      <td>154.279999</td>\n",
              "      <td>155.000000</td>\n",
              "      <td>155.000000</td>\n",
              "      <td>98862500</td>\n",
              "    </tr>\n",
              "    <tr>\n",
              "      <th>2023-03-20</th>\n",
              "      <td>155.070007</td>\n",
              "      <td>157.820007</td>\n",
              "      <td>154.149994</td>\n",
              "      <td>157.399994</td>\n",
              "      <td>157.399994</td>\n",
              "      <td>73556400</td>\n",
              "    </tr>\n",
              "  </tbody>\n",
              "</table>\n",
              "</div>\n",
              "      <button class=\"colab-df-convert\" onclick=\"convertToInteractive('df-584b47d0-0228-4211-bb4c-0980fff0b270')\"\n",
              "              title=\"Convert this dataframe to an interactive table.\"\n",
              "              style=\"display:none;\">\n",
              "        \n",
              "  <svg xmlns=\"http://www.w3.org/2000/svg\" height=\"24px\"viewBox=\"0 0 24 24\"\n",
              "       width=\"24px\">\n",
              "    <path d=\"M0 0h24v24H0V0z\" fill=\"none\"/>\n",
              "    <path d=\"M18.56 5.44l.94 2.06.94-2.06 2.06-.94-2.06-.94-.94-2.06-.94 2.06-2.06.94zm-11 1L8.5 8.5l.94-2.06 2.06-.94-2.06-.94L8.5 2.5l-.94 2.06-2.06.94zm10 10l.94 2.06.94-2.06 2.06-.94-2.06-.94-.94-2.06-.94 2.06-2.06.94z\"/><path d=\"M17.41 7.96l-1.37-1.37c-.4-.4-.92-.59-1.43-.59-.52 0-1.04.2-1.43.59L10.3 9.45l-7.72 7.72c-.78.78-.78 2.05 0 2.83L4 21.41c.39.39.9.59 1.41.59.51 0 1.02-.2 1.41-.59l7.78-7.78 2.81-2.81c.8-.78.8-2.07 0-2.86zM5.41 20L4 18.59l7.72-7.72 1.47 1.35L5.41 20z\"/>\n",
              "  </svg>\n",
              "      </button>\n",
              "      \n",
              "  <style>\n",
              "    .colab-df-container {\n",
              "      display:flex;\n",
              "      flex-wrap:wrap;\n",
              "      gap: 12px;\n",
              "    }\n",
              "\n",
              "    .colab-df-convert {\n",
              "      background-color: #E8F0FE;\n",
              "      border: none;\n",
              "      border-radius: 50%;\n",
              "      cursor: pointer;\n",
              "      display: none;\n",
              "      fill: #1967D2;\n",
              "      height: 32px;\n",
              "      padding: 0 0 0 0;\n",
              "      width: 32px;\n",
              "    }\n",
              "\n",
              "    .colab-df-convert:hover {\n",
              "      background-color: #E2EBFA;\n",
              "      box-shadow: 0px 1px 2px rgba(60, 64, 67, 0.3), 0px 1px 3px 1px rgba(60, 64, 67, 0.15);\n",
              "      fill: #174EA6;\n",
              "    }\n",
              "\n",
              "    [theme=dark] .colab-df-convert {\n",
              "      background-color: #3B4455;\n",
              "      fill: #D2E3FC;\n",
              "    }\n",
              "\n",
              "    [theme=dark] .colab-df-convert:hover {\n",
              "      background-color: #434B5C;\n",
              "      box-shadow: 0px 1px 3px 1px rgba(0, 0, 0, 0.15);\n",
              "      filter: drop-shadow(0px 1px 2px rgba(0, 0, 0, 0.3));\n",
              "      fill: #FFFFFF;\n",
              "    }\n",
              "  </style>\n",
              "\n",
              "      <script>\n",
              "        const buttonEl =\n",
              "          document.querySelector('#df-584b47d0-0228-4211-bb4c-0980fff0b270 button.colab-df-convert');\n",
              "        buttonEl.style.display =\n",
              "          google.colab.kernel.accessAllowed ? 'block' : 'none';\n",
              "\n",
              "        async function convertToInteractive(key) {\n",
              "          const element = document.querySelector('#df-584b47d0-0228-4211-bb4c-0980fff0b270');\n",
              "          const dataTable =\n",
              "            await google.colab.kernel.invokeFunction('convertToInteractive',\n",
              "                                                     [key], {});\n",
              "          if (!dataTable) return;\n",
              "\n",
              "          const docLinkHtml = 'Like what you see? Visit the ' +\n",
              "            '<a target=\"_blank\" href=https://colab.research.google.com/notebooks/data_table.ipynb>data table notebook</a>'\n",
              "            + ' to learn more about interactive tables.';\n",
              "          element.innerHTML = '';\n",
              "          dataTable['output_type'] = 'display_data';\n",
              "          await google.colab.output.renderOutput(dataTable, element);\n",
              "          const docLink = document.createElement('div');\n",
              "          docLink.innerHTML = docLinkHtml;\n",
              "          element.appendChild(docLink);\n",
              "        }\n",
              "      </script>\n",
              "    </div>\n",
              "  </div>\n",
              "  "
            ]
          },
          "metadata": {},
          "execution_count": 255
        }
      ]
    },
    {
      "cell_type": "code",
      "source": [
        "data.head()"
      ],
      "metadata": {
        "id": "0r0WcjjOYY--",
        "colab": {
          "base_uri": "https://localhost:8080/",
          "height": 231
        },
        "outputId": "ead839ee-18d2-4e54-8329-44f6523a58ff"
      },
      "execution_count": 256,
      "outputs": [
        {
          "output_type": "execute_result",
          "data": {
            "text/plain": [
              "                Open      High       Low     Close  Adj Close      Volume\n",
              "Date                                                                     \n",
              "2008-01-02  7.116786  7.152143  6.876786  6.958571   5.922568  1079178800\n",
              "2008-01-03  6.978929  7.049643  6.881786  6.961786   5.925305   842066400\n",
              "2008-01-04  6.837500  6.892857  6.388929  6.430357   5.472994  1455832000\n",
              "2008-01-07  6.473214  6.557143  6.079643  6.344286   5.399739  2072193200\n",
              "2008-01-08  6.433571  6.516429  6.100000  6.116071   5.205501  1523816000"
            ],
            "text/html": [
              "\n",
              "  <div id=\"df-ef2fcab8-2566-4361-a5d7-62272ab6d589\">\n",
              "    <div class=\"colab-df-container\">\n",
              "      <div>\n",
              "<style scoped>\n",
              "    .dataframe tbody tr th:only-of-type {\n",
              "        vertical-align: middle;\n",
              "    }\n",
              "\n",
              "    .dataframe tbody tr th {\n",
              "        vertical-align: top;\n",
              "    }\n",
              "\n",
              "    .dataframe thead th {\n",
              "        text-align: right;\n",
              "    }\n",
              "</style>\n",
              "<table border=\"1\" class=\"dataframe\">\n",
              "  <thead>\n",
              "    <tr style=\"text-align: right;\">\n",
              "      <th></th>\n",
              "      <th>Open</th>\n",
              "      <th>High</th>\n",
              "      <th>Low</th>\n",
              "      <th>Close</th>\n",
              "      <th>Adj Close</th>\n",
              "      <th>Volume</th>\n",
              "    </tr>\n",
              "    <tr>\n",
              "      <th>Date</th>\n",
              "      <th></th>\n",
              "      <th></th>\n",
              "      <th></th>\n",
              "      <th></th>\n",
              "      <th></th>\n",
              "      <th></th>\n",
              "    </tr>\n",
              "  </thead>\n",
              "  <tbody>\n",
              "    <tr>\n",
              "      <th>2008-01-02</th>\n",
              "      <td>7.116786</td>\n",
              "      <td>7.152143</td>\n",
              "      <td>6.876786</td>\n",
              "      <td>6.958571</td>\n",
              "      <td>5.922568</td>\n",
              "      <td>1079178800</td>\n",
              "    </tr>\n",
              "    <tr>\n",
              "      <th>2008-01-03</th>\n",
              "      <td>6.978929</td>\n",
              "      <td>7.049643</td>\n",
              "      <td>6.881786</td>\n",
              "      <td>6.961786</td>\n",
              "      <td>5.925305</td>\n",
              "      <td>842066400</td>\n",
              "    </tr>\n",
              "    <tr>\n",
              "      <th>2008-01-04</th>\n",
              "      <td>6.837500</td>\n",
              "      <td>6.892857</td>\n",
              "      <td>6.388929</td>\n",
              "      <td>6.430357</td>\n",
              "      <td>5.472994</td>\n",
              "      <td>1455832000</td>\n",
              "    </tr>\n",
              "    <tr>\n",
              "      <th>2008-01-07</th>\n",
              "      <td>6.473214</td>\n",
              "      <td>6.557143</td>\n",
              "      <td>6.079643</td>\n",
              "      <td>6.344286</td>\n",
              "      <td>5.399739</td>\n",
              "      <td>2072193200</td>\n",
              "    </tr>\n",
              "    <tr>\n",
              "      <th>2008-01-08</th>\n",
              "      <td>6.433571</td>\n",
              "      <td>6.516429</td>\n",
              "      <td>6.100000</td>\n",
              "      <td>6.116071</td>\n",
              "      <td>5.205501</td>\n",
              "      <td>1523816000</td>\n",
              "    </tr>\n",
              "  </tbody>\n",
              "</table>\n",
              "</div>\n",
              "      <button class=\"colab-df-convert\" onclick=\"convertToInteractive('df-ef2fcab8-2566-4361-a5d7-62272ab6d589')\"\n",
              "              title=\"Convert this dataframe to an interactive table.\"\n",
              "              style=\"display:none;\">\n",
              "        \n",
              "  <svg xmlns=\"http://www.w3.org/2000/svg\" height=\"24px\"viewBox=\"0 0 24 24\"\n",
              "       width=\"24px\">\n",
              "    <path d=\"M0 0h24v24H0V0z\" fill=\"none\"/>\n",
              "    <path d=\"M18.56 5.44l.94 2.06.94-2.06 2.06-.94-2.06-.94-.94-2.06-.94 2.06-2.06.94zm-11 1L8.5 8.5l.94-2.06 2.06-.94-2.06-.94L8.5 2.5l-.94 2.06-2.06.94zm10 10l.94 2.06.94-2.06 2.06-.94-2.06-.94-.94-2.06-.94 2.06-2.06.94z\"/><path d=\"M17.41 7.96l-1.37-1.37c-.4-.4-.92-.59-1.43-.59-.52 0-1.04.2-1.43.59L10.3 9.45l-7.72 7.72c-.78.78-.78 2.05 0 2.83L4 21.41c.39.39.9.59 1.41.59.51 0 1.02-.2 1.41-.59l7.78-7.78 2.81-2.81c.8-.78.8-2.07 0-2.86zM5.41 20L4 18.59l7.72-7.72 1.47 1.35L5.41 20z\"/>\n",
              "  </svg>\n",
              "      </button>\n",
              "      \n",
              "  <style>\n",
              "    .colab-df-container {\n",
              "      display:flex;\n",
              "      flex-wrap:wrap;\n",
              "      gap: 12px;\n",
              "    }\n",
              "\n",
              "    .colab-df-convert {\n",
              "      background-color: #E8F0FE;\n",
              "      border: none;\n",
              "      border-radius: 50%;\n",
              "      cursor: pointer;\n",
              "      display: none;\n",
              "      fill: #1967D2;\n",
              "      height: 32px;\n",
              "      padding: 0 0 0 0;\n",
              "      width: 32px;\n",
              "    }\n",
              "\n",
              "    .colab-df-convert:hover {\n",
              "      background-color: #E2EBFA;\n",
              "      box-shadow: 0px 1px 2px rgba(60, 64, 67, 0.3), 0px 1px 3px 1px rgba(60, 64, 67, 0.15);\n",
              "      fill: #174EA6;\n",
              "    }\n",
              "\n",
              "    [theme=dark] .colab-df-convert {\n",
              "      background-color: #3B4455;\n",
              "      fill: #D2E3FC;\n",
              "    }\n",
              "\n",
              "    [theme=dark] .colab-df-convert:hover {\n",
              "      background-color: #434B5C;\n",
              "      box-shadow: 0px 1px 3px 1px rgba(0, 0, 0, 0.15);\n",
              "      filter: drop-shadow(0px 1px 2px rgba(0, 0, 0, 0.3));\n",
              "      fill: #FFFFFF;\n",
              "    }\n",
              "  </style>\n",
              "\n",
              "      <script>\n",
              "        const buttonEl =\n",
              "          document.querySelector('#df-ef2fcab8-2566-4361-a5d7-62272ab6d589 button.colab-df-convert');\n",
              "        buttonEl.style.display =\n",
              "          google.colab.kernel.accessAllowed ? 'block' : 'none';\n",
              "\n",
              "        async function convertToInteractive(key) {\n",
              "          const element = document.querySelector('#df-ef2fcab8-2566-4361-a5d7-62272ab6d589');\n",
              "          const dataTable =\n",
              "            await google.colab.kernel.invokeFunction('convertToInteractive',\n",
              "                                                     [key], {});\n",
              "          if (!dataTable) return;\n",
              "\n",
              "          const docLinkHtml = 'Like what you see? Visit the ' +\n",
              "            '<a target=\"_blank\" href=https://colab.research.google.com/notebooks/data_table.ipynb>data table notebook</a>'\n",
              "            + ' to learn more about interactive tables.';\n",
              "          element.innerHTML = '';\n",
              "          dataTable['output_type'] = 'display_data';\n",
              "          await google.colab.output.renderOutput(dataTable, element);\n",
              "          const docLink = document.createElement('div');\n",
              "          docLink.innerHTML = docLinkHtml;\n",
              "          element.appendChild(docLink);\n",
              "        }\n",
              "      </script>\n",
              "    </div>\n",
              "  </div>\n",
              "  "
            ]
          },
          "metadata": {},
          "execution_count": 256
        }
      ]
    },
    {
      "cell_type": "code",
      "execution_count": 257,
      "metadata": {
        "colab": {
          "base_uri": "https://localhost:8080/"
        },
        "id": "4-1B0YZ9TpFH",
        "outputId": "75b0e9eb-f4ea-4992-9139-88519c5e4b0c"
      },
      "outputs": [
        {
          "output_type": "execute_result",
          "data": {
            "text/plain": [
              "(3826, 6)"
            ]
          },
          "metadata": {},
          "execution_count": 257
        }
      ],
      "source": [
        "data.shape"
      ]
    },
    {
      "cell_type": "code",
      "source": [
        "data.head(10)"
      ],
      "metadata": {
        "colab": {
          "base_uri": "https://localhost:8080/",
          "height": 383
        },
        "id": "PZVMCFWFdgZK",
        "outputId": "6ecdc26c-2fd2-4583-dabb-0b852acb138a"
      },
      "execution_count": 258,
      "outputs": [
        {
          "output_type": "execute_result",
          "data": {
            "text/plain": [
              "                Open      High       Low     Close  Adj Close      Volume\n",
              "Date                                                                     \n",
              "2008-01-02  7.116786  7.152143  6.876786  6.958571   5.922568  1079178800\n",
              "2008-01-03  6.978929  7.049643  6.881786  6.961786   5.925305   842066400\n",
              "2008-01-04  6.837500  6.892857  6.388929  6.430357   5.472994  1455832000\n",
              "2008-01-07  6.473214  6.557143  6.079643  6.344286   5.399739  2072193200\n",
              "2008-01-08  6.433571  6.516429  6.100000  6.116071   5.205501  1523816000\n",
              "2008-01-09  6.117857  6.410714  6.010714  6.407143   5.453238  1813882000\n",
              "2008-01-10  6.342143  6.464286  6.264643  6.357857   5.411289  1482975200\n",
              "2008-01-11  6.285714  6.351786  6.071429  6.167500   5.249272  1232285600\n",
              "2008-01-14  6.340000  6.407857  6.256071  6.385000   5.434391  1100450400\n",
              "2008-01-15  6.347143  6.400714  5.880714  6.037143   5.138323  2343278000"
            ],
            "text/html": [
              "\n",
              "  <div id=\"df-3181d0a7-e9bb-4d2c-b4e1-84055b36d683\">\n",
              "    <div class=\"colab-df-container\">\n",
              "      <div>\n",
              "<style scoped>\n",
              "    .dataframe tbody tr th:only-of-type {\n",
              "        vertical-align: middle;\n",
              "    }\n",
              "\n",
              "    .dataframe tbody tr th {\n",
              "        vertical-align: top;\n",
              "    }\n",
              "\n",
              "    .dataframe thead th {\n",
              "        text-align: right;\n",
              "    }\n",
              "</style>\n",
              "<table border=\"1\" class=\"dataframe\">\n",
              "  <thead>\n",
              "    <tr style=\"text-align: right;\">\n",
              "      <th></th>\n",
              "      <th>Open</th>\n",
              "      <th>High</th>\n",
              "      <th>Low</th>\n",
              "      <th>Close</th>\n",
              "      <th>Adj Close</th>\n",
              "      <th>Volume</th>\n",
              "    </tr>\n",
              "    <tr>\n",
              "      <th>Date</th>\n",
              "      <th></th>\n",
              "      <th></th>\n",
              "      <th></th>\n",
              "      <th></th>\n",
              "      <th></th>\n",
              "      <th></th>\n",
              "    </tr>\n",
              "  </thead>\n",
              "  <tbody>\n",
              "    <tr>\n",
              "      <th>2008-01-02</th>\n",
              "      <td>7.116786</td>\n",
              "      <td>7.152143</td>\n",
              "      <td>6.876786</td>\n",
              "      <td>6.958571</td>\n",
              "      <td>5.922568</td>\n",
              "      <td>1079178800</td>\n",
              "    </tr>\n",
              "    <tr>\n",
              "      <th>2008-01-03</th>\n",
              "      <td>6.978929</td>\n",
              "      <td>7.049643</td>\n",
              "      <td>6.881786</td>\n",
              "      <td>6.961786</td>\n",
              "      <td>5.925305</td>\n",
              "      <td>842066400</td>\n",
              "    </tr>\n",
              "    <tr>\n",
              "      <th>2008-01-04</th>\n",
              "      <td>6.837500</td>\n",
              "      <td>6.892857</td>\n",
              "      <td>6.388929</td>\n",
              "      <td>6.430357</td>\n",
              "      <td>5.472994</td>\n",
              "      <td>1455832000</td>\n",
              "    </tr>\n",
              "    <tr>\n",
              "      <th>2008-01-07</th>\n",
              "      <td>6.473214</td>\n",
              "      <td>6.557143</td>\n",
              "      <td>6.079643</td>\n",
              "      <td>6.344286</td>\n",
              "      <td>5.399739</td>\n",
              "      <td>2072193200</td>\n",
              "    </tr>\n",
              "    <tr>\n",
              "      <th>2008-01-08</th>\n",
              "      <td>6.433571</td>\n",
              "      <td>6.516429</td>\n",
              "      <td>6.100000</td>\n",
              "      <td>6.116071</td>\n",
              "      <td>5.205501</td>\n",
              "      <td>1523816000</td>\n",
              "    </tr>\n",
              "    <tr>\n",
              "      <th>2008-01-09</th>\n",
              "      <td>6.117857</td>\n",
              "      <td>6.410714</td>\n",
              "      <td>6.010714</td>\n",
              "      <td>6.407143</td>\n",
              "      <td>5.453238</td>\n",
              "      <td>1813882000</td>\n",
              "    </tr>\n",
              "    <tr>\n",
              "      <th>2008-01-10</th>\n",
              "      <td>6.342143</td>\n",
              "      <td>6.464286</td>\n",
              "      <td>6.264643</td>\n",
              "      <td>6.357857</td>\n",
              "      <td>5.411289</td>\n",
              "      <td>1482975200</td>\n",
              "    </tr>\n",
              "    <tr>\n",
              "      <th>2008-01-11</th>\n",
              "      <td>6.285714</td>\n",
              "      <td>6.351786</td>\n",
              "      <td>6.071429</td>\n",
              "      <td>6.167500</td>\n",
              "      <td>5.249272</td>\n",
              "      <td>1232285600</td>\n",
              "    </tr>\n",
              "    <tr>\n",
              "      <th>2008-01-14</th>\n",
              "      <td>6.340000</td>\n",
              "      <td>6.407857</td>\n",
              "      <td>6.256071</td>\n",
              "      <td>6.385000</td>\n",
              "      <td>5.434391</td>\n",
              "      <td>1100450400</td>\n",
              "    </tr>\n",
              "    <tr>\n",
              "      <th>2008-01-15</th>\n",
              "      <td>6.347143</td>\n",
              "      <td>6.400714</td>\n",
              "      <td>5.880714</td>\n",
              "      <td>6.037143</td>\n",
              "      <td>5.138323</td>\n",
              "      <td>2343278000</td>\n",
              "    </tr>\n",
              "  </tbody>\n",
              "</table>\n",
              "</div>\n",
              "      <button class=\"colab-df-convert\" onclick=\"convertToInteractive('df-3181d0a7-e9bb-4d2c-b4e1-84055b36d683')\"\n",
              "              title=\"Convert this dataframe to an interactive table.\"\n",
              "              style=\"display:none;\">\n",
              "        \n",
              "  <svg xmlns=\"http://www.w3.org/2000/svg\" height=\"24px\"viewBox=\"0 0 24 24\"\n",
              "       width=\"24px\">\n",
              "    <path d=\"M0 0h24v24H0V0z\" fill=\"none\"/>\n",
              "    <path d=\"M18.56 5.44l.94 2.06.94-2.06 2.06-.94-2.06-.94-.94-2.06-.94 2.06-2.06.94zm-11 1L8.5 8.5l.94-2.06 2.06-.94-2.06-.94L8.5 2.5l-.94 2.06-2.06.94zm10 10l.94 2.06.94-2.06 2.06-.94-2.06-.94-.94-2.06-.94 2.06-2.06.94z\"/><path d=\"M17.41 7.96l-1.37-1.37c-.4-.4-.92-.59-1.43-.59-.52 0-1.04.2-1.43.59L10.3 9.45l-7.72 7.72c-.78.78-.78 2.05 0 2.83L4 21.41c.39.39.9.59 1.41.59.51 0 1.02-.2 1.41-.59l7.78-7.78 2.81-2.81c.8-.78.8-2.07 0-2.86zM5.41 20L4 18.59l7.72-7.72 1.47 1.35L5.41 20z\"/>\n",
              "  </svg>\n",
              "      </button>\n",
              "      \n",
              "  <style>\n",
              "    .colab-df-container {\n",
              "      display:flex;\n",
              "      flex-wrap:wrap;\n",
              "      gap: 12px;\n",
              "    }\n",
              "\n",
              "    .colab-df-convert {\n",
              "      background-color: #E8F0FE;\n",
              "      border: none;\n",
              "      border-radius: 50%;\n",
              "      cursor: pointer;\n",
              "      display: none;\n",
              "      fill: #1967D2;\n",
              "      height: 32px;\n",
              "      padding: 0 0 0 0;\n",
              "      width: 32px;\n",
              "    }\n",
              "\n",
              "    .colab-df-convert:hover {\n",
              "      background-color: #E2EBFA;\n",
              "      box-shadow: 0px 1px 2px rgba(60, 64, 67, 0.3), 0px 1px 3px 1px rgba(60, 64, 67, 0.15);\n",
              "      fill: #174EA6;\n",
              "    }\n",
              "\n",
              "    [theme=dark] .colab-df-convert {\n",
              "      background-color: #3B4455;\n",
              "      fill: #D2E3FC;\n",
              "    }\n",
              "\n",
              "    [theme=dark] .colab-df-convert:hover {\n",
              "      background-color: #434B5C;\n",
              "      box-shadow: 0px 1px 3px 1px rgba(0, 0, 0, 0.15);\n",
              "      filter: drop-shadow(0px 1px 2px rgba(0, 0, 0, 0.3));\n",
              "      fill: #FFFFFF;\n",
              "    }\n",
              "  </style>\n",
              "\n",
              "      <script>\n",
              "        const buttonEl =\n",
              "          document.querySelector('#df-3181d0a7-e9bb-4d2c-b4e1-84055b36d683 button.colab-df-convert');\n",
              "        buttonEl.style.display =\n",
              "          google.colab.kernel.accessAllowed ? 'block' : 'none';\n",
              "\n",
              "        async function convertToInteractive(key) {\n",
              "          const element = document.querySelector('#df-3181d0a7-e9bb-4d2c-b4e1-84055b36d683');\n",
              "          const dataTable =\n",
              "            await google.colab.kernel.invokeFunction('convertToInteractive',\n",
              "                                                     [key], {});\n",
              "          if (!dataTable) return;\n",
              "\n",
              "          const docLinkHtml = 'Like what you see? Visit the ' +\n",
              "            '<a target=\"_blank\" href=https://colab.research.google.com/notebooks/data_table.ipynb>data table notebook</a>'\n",
              "            + ' to learn more about interactive tables.';\n",
              "          element.innerHTML = '';\n",
              "          dataTable['output_type'] = 'display_data';\n",
              "          await google.colab.output.renderOutput(dataTable, element);\n",
              "          const docLink = document.createElement('div');\n",
              "          docLink.innerHTML = docLinkHtml;\n",
              "          element.appendChild(docLink);\n",
              "        }\n",
              "      </script>\n",
              "    </div>\n",
              "  </div>\n",
              "  "
            ]
          },
          "metadata": {},
          "execution_count": 258
        }
      ]
    },
    {
      "cell_type": "code",
      "execution_count": 259,
      "metadata": {
        "colab": {
          "base_uri": "https://localhost:8080/",
          "height": 383
        },
        "id": "jheH2qrtTpFI",
        "outputId": "ee58dda4-9f91-439c-eb5d-debcee7a2aee"
      },
      "outputs": [
        {
          "output_type": "execute_result",
          "data": {
            "text/plain": [
              "                  Open        High         Low       Close   Adj Close  \\\n",
              "Date                                                                     \n",
              "2023-03-01  146.830002  147.229996  145.009995  145.309998  145.309998   \n",
              "2023-03-02  144.380005  146.710007  143.899994  145.910004  145.910004   \n",
              "2023-03-03  148.039993  151.110001  147.330002  151.029999  151.029999   \n",
              "2023-03-06  153.789993  156.300003  153.460007  153.830002  153.830002   \n",
              "2023-03-07  153.699997  154.029999  151.130005  151.600006  151.600006   \n",
              "2023-03-08  152.809998  153.470001  151.830002  152.869995  152.869995   \n",
              "2023-03-09  153.559998  154.539993  150.229996  150.589996  150.589996   \n",
              "2023-03-10  150.210007  150.940002  147.610001  148.500000  148.500000   \n",
              "2023-03-13  147.809998  153.139999  147.699997  150.470001  150.470001   \n",
              "2023-03-14  151.279999  153.399994  150.100006  152.589996  152.589996   \n",
              "\n",
              "              Volume  \n",
              "Date                  \n",
              "2023-03-01  55479000  \n",
              "2023-03-02  52238100  \n",
              "2023-03-03  70668500  \n",
              "2023-03-06  87558000  \n",
              "2023-03-07  56182000  \n",
              "2023-03-08  47204800  \n",
              "2023-03-09  53833600  \n",
              "2023-03-10  68524400  \n",
              "2023-03-13  84457100  \n",
              "2023-03-14  73695900  "
            ],
            "text/html": [
              "\n",
              "  <div id=\"df-c19e5beb-39d3-4c07-a304-39482bf43f65\">\n",
              "    <div class=\"colab-df-container\">\n",
              "      <div>\n",
              "<style scoped>\n",
              "    .dataframe tbody tr th:only-of-type {\n",
              "        vertical-align: middle;\n",
              "    }\n",
              "\n",
              "    .dataframe tbody tr th {\n",
              "        vertical-align: top;\n",
              "    }\n",
              "\n",
              "    .dataframe thead th {\n",
              "        text-align: right;\n",
              "    }\n",
              "</style>\n",
              "<table border=\"1\" class=\"dataframe\">\n",
              "  <thead>\n",
              "    <tr style=\"text-align: right;\">\n",
              "      <th></th>\n",
              "      <th>Open</th>\n",
              "      <th>High</th>\n",
              "      <th>Low</th>\n",
              "      <th>Close</th>\n",
              "      <th>Adj Close</th>\n",
              "      <th>Volume</th>\n",
              "    </tr>\n",
              "    <tr>\n",
              "      <th>Date</th>\n",
              "      <th></th>\n",
              "      <th></th>\n",
              "      <th></th>\n",
              "      <th></th>\n",
              "      <th></th>\n",
              "      <th></th>\n",
              "    </tr>\n",
              "  </thead>\n",
              "  <tbody>\n",
              "    <tr>\n",
              "      <th>2023-03-01</th>\n",
              "      <td>146.830002</td>\n",
              "      <td>147.229996</td>\n",
              "      <td>145.009995</td>\n",
              "      <td>145.309998</td>\n",
              "      <td>145.309998</td>\n",
              "      <td>55479000</td>\n",
              "    </tr>\n",
              "    <tr>\n",
              "      <th>2023-03-02</th>\n",
              "      <td>144.380005</td>\n",
              "      <td>146.710007</td>\n",
              "      <td>143.899994</td>\n",
              "      <td>145.910004</td>\n",
              "      <td>145.910004</td>\n",
              "      <td>52238100</td>\n",
              "    </tr>\n",
              "    <tr>\n",
              "      <th>2023-03-03</th>\n",
              "      <td>148.039993</td>\n",
              "      <td>151.110001</td>\n",
              "      <td>147.330002</td>\n",
              "      <td>151.029999</td>\n",
              "      <td>151.029999</td>\n",
              "      <td>70668500</td>\n",
              "    </tr>\n",
              "    <tr>\n",
              "      <th>2023-03-06</th>\n",
              "      <td>153.789993</td>\n",
              "      <td>156.300003</td>\n",
              "      <td>153.460007</td>\n",
              "      <td>153.830002</td>\n",
              "      <td>153.830002</td>\n",
              "      <td>87558000</td>\n",
              "    </tr>\n",
              "    <tr>\n",
              "      <th>2023-03-07</th>\n",
              "      <td>153.699997</td>\n",
              "      <td>154.029999</td>\n",
              "      <td>151.130005</td>\n",
              "      <td>151.600006</td>\n",
              "      <td>151.600006</td>\n",
              "      <td>56182000</td>\n",
              "    </tr>\n",
              "    <tr>\n",
              "      <th>2023-03-08</th>\n",
              "      <td>152.809998</td>\n",
              "      <td>153.470001</td>\n",
              "      <td>151.830002</td>\n",
              "      <td>152.869995</td>\n",
              "      <td>152.869995</td>\n",
              "      <td>47204800</td>\n",
              "    </tr>\n",
              "    <tr>\n",
              "      <th>2023-03-09</th>\n",
              "      <td>153.559998</td>\n",
              "      <td>154.539993</td>\n",
              "      <td>150.229996</td>\n",
              "      <td>150.589996</td>\n",
              "      <td>150.589996</td>\n",
              "      <td>53833600</td>\n",
              "    </tr>\n",
              "    <tr>\n",
              "      <th>2023-03-10</th>\n",
              "      <td>150.210007</td>\n",
              "      <td>150.940002</td>\n",
              "      <td>147.610001</td>\n",
              "      <td>148.500000</td>\n",
              "      <td>148.500000</td>\n",
              "      <td>68524400</td>\n",
              "    </tr>\n",
              "    <tr>\n",
              "      <th>2023-03-13</th>\n",
              "      <td>147.809998</td>\n",
              "      <td>153.139999</td>\n",
              "      <td>147.699997</td>\n",
              "      <td>150.470001</td>\n",
              "      <td>150.470001</td>\n",
              "      <td>84457100</td>\n",
              "    </tr>\n",
              "    <tr>\n",
              "      <th>2023-03-14</th>\n",
              "      <td>151.279999</td>\n",
              "      <td>153.399994</td>\n",
              "      <td>150.100006</td>\n",
              "      <td>152.589996</td>\n",
              "      <td>152.589996</td>\n",
              "      <td>73695900</td>\n",
              "    </tr>\n",
              "  </tbody>\n",
              "</table>\n",
              "</div>\n",
              "      <button class=\"colab-df-convert\" onclick=\"convertToInteractive('df-c19e5beb-39d3-4c07-a304-39482bf43f65')\"\n",
              "              title=\"Convert this dataframe to an interactive table.\"\n",
              "              style=\"display:none;\">\n",
              "        \n",
              "  <svg xmlns=\"http://www.w3.org/2000/svg\" height=\"24px\"viewBox=\"0 0 24 24\"\n",
              "       width=\"24px\">\n",
              "    <path d=\"M0 0h24v24H0V0z\" fill=\"none\"/>\n",
              "    <path d=\"M18.56 5.44l.94 2.06.94-2.06 2.06-.94-2.06-.94-.94-2.06-.94 2.06-2.06.94zm-11 1L8.5 8.5l.94-2.06 2.06-.94-2.06-.94L8.5 2.5l-.94 2.06-2.06.94zm10 10l.94 2.06.94-2.06 2.06-.94-2.06-.94-.94-2.06-.94 2.06-2.06.94z\"/><path d=\"M17.41 7.96l-1.37-1.37c-.4-.4-.92-.59-1.43-.59-.52 0-1.04.2-1.43.59L10.3 9.45l-7.72 7.72c-.78.78-.78 2.05 0 2.83L4 21.41c.39.39.9.59 1.41.59.51 0 1.02-.2 1.41-.59l7.78-7.78 2.81-2.81c.8-.78.8-2.07 0-2.86zM5.41 20L4 18.59l7.72-7.72 1.47 1.35L5.41 20z\"/>\n",
              "  </svg>\n",
              "      </button>\n",
              "      \n",
              "  <style>\n",
              "    .colab-df-container {\n",
              "      display:flex;\n",
              "      flex-wrap:wrap;\n",
              "      gap: 12px;\n",
              "    }\n",
              "\n",
              "    .colab-df-convert {\n",
              "      background-color: #E8F0FE;\n",
              "      border: none;\n",
              "      border-radius: 50%;\n",
              "      cursor: pointer;\n",
              "      display: none;\n",
              "      fill: #1967D2;\n",
              "      height: 32px;\n",
              "      padding: 0 0 0 0;\n",
              "      width: 32px;\n",
              "    }\n",
              "\n",
              "    .colab-df-convert:hover {\n",
              "      background-color: #E2EBFA;\n",
              "      box-shadow: 0px 1px 2px rgba(60, 64, 67, 0.3), 0px 1px 3px 1px rgba(60, 64, 67, 0.15);\n",
              "      fill: #174EA6;\n",
              "    }\n",
              "\n",
              "    [theme=dark] .colab-df-convert {\n",
              "      background-color: #3B4455;\n",
              "      fill: #D2E3FC;\n",
              "    }\n",
              "\n",
              "    [theme=dark] .colab-df-convert:hover {\n",
              "      background-color: #434B5C;\n",
              "      box-shadow: 0px 1px 3px 1px rgba(0, 0, 0, 0.15);\n",
              "      filter: drop-shadow(0px 1px 2px rgba(0, 0, 0, 0.3));\n",
              "      fill: #FFFFFF;\n",
              "    }\n",
              "  </style>\n",
              "\n",
              "      <script>\n",
              "        const buttonEl =\n",
              "          document.querySelector('#df-c19e5beb-39d3-4c07-a304-39482bf43f65 button.colab-df-convert');\n",
              "        buttonEl.style.display =\n",
              "          google.colab.kernel.accessAllowed ? 'block' : 'none';\n",
              "\n",
              "        async function convertToInteractive(key) {\n",
              "          const element = document.querySelector('#df-c19e5beb-39d3-4c07-a304-39482bf43f65');\n",
              "          const dataTable =\n",
              "            await google.colab.kernel.invokeFunction('convertToInteractive',\n",
              "                                                     [key], {});\n",
              "          if (!dataTable) return;\n",
              "\n",
              "          const docLinkHtml = 'Like what you see? Visit the ' +\n",
              "            '<a target=\"_blank\" href=https://colab.research.google.com/notebooks/data_table.ipynb>data table notebook</a>'\n",
              "            + ' to learn more about interactive tables.';\n",
              "          element.innerHTML = '';\n",
              "          dataTable['output_type'] = 'display_data';\n",
              "          await google.colab.output.renderOutput(dataTable, element);\n",
              "          const docLink = document.createElement('div');\n",
              "          docLink.innerHTML = docLinkHtml;\n",
              "          element.appendChild(docLink);\n",
              "        }\n",
              "      </script>\n",
              "    </div>\n",
              "  </div>\n",
              "  "
            ]
          },
          "metadata": {},
          "execution_count": 259
        }
      ],
      "source": [
        "data.tail(10)"
      ]
    },
    {
      "cell_type": "code",
      "execution_count": 260,
      "metadata": {
        "colab": {
          "base_uri": "https://localhost:8080/",
          "height": 520
        },
        "id": "edF4AWj-TpFI",
        "outputId": "67ba5696-ad7e-477f-f5d6-3ad3ca68de18"
      },
      "outputs": [
        {
          "output_type": "display_data",
          "data": {
            "text/plain": [
              "<Figure size 1152x576 with 1 Axes>"
            ],
            "image/png": "[encoded data removed]"
          },
          "metadata": {
            "needs_background": "light"
          }
        }
      ],
      "source": [
        "#Plotting the closing price history\n",
        "plt.figure(figsize=(16,8))\n",
        "plt.title('Close Price History')\n",
        "plt.plot(data['Close'])\n",
        "plt.xlabel('Date', fontsize=18)\n",
        "plt.ylabel('Close Price USD ($)', fontsize=18)\n",
        "plt.show()"
      ]
    },
    {
      "cell_type": "code",
      "execution_count": 261,
      "metadata": {
        "colab": {
          "base_uri": "https://localhost:8080/",
          "height": 482
        },
        "id": "BnCBa0DvTpFI",
        "outputId": "c556736f-67b0-4004-e582-0331e7ab9969"
      },
      "outputs": [
        {
          "output_type": "display_data",
          "data": {
            "text/plain": [
              "<Figure size 1152x576 with 1 Axes>"
            ],
            "image/png": "[encoded data removed]"
          },
          "metadata": {
            "needs_background": "light"
          }
        }
      ],
      "source": [
        "#Scale the data and plot the scaled data\n",
        "scaler = MinMaxScaler(feature_range=(0,1))\n",
        "scaled_data = scaler.fit_transform(data['Close'].values.reshape(-1,1))\n",
        "\n",
        "#plot the scaled data from day 0 to current day\n",
        "plt.figure(figsize=(16,8))\n",
        "plt.plot(scaled_data, label='Scaled Data')\n",
        "plt.legend(loc='upper left')\n",
        "plt.show()"
      ]
    },
    {
      "cell_type": "code",
      "execution_count": 262,
      "metadata": {
        "colab": {
          "base_uri": "https://localhost:8080/"
        },
        "id": "JqSAZVJzTpFJ",
        "outputId": "96e20028-3b4d-479a-ed50-c36af6b80489"
      },
      "outputs": [
        {
          "output_type": "stream",
          "name": "stdout",
          "text": [
            "[[0.02324395]\n",
            " [0.02326189]\n",
            " [0.02029661]\n",
            " ...\n",
            " [0.81302014]\n",
            " [0.8240124 ]\n",
            " [0.8358416 ]]\n"
          ]
        }
      ],
      "source": [
        "print(scaled_data)"
      ]
    },
    {
      "cell_type": "code",
      "source": [
        "close_values = scaler.inverse_transform(scaled_data)\n",
        "print(close_values)"
      ],
      "metadata": {
        "colab": {
          "base_uri": "https://localhost:8080/"
        },
        "id": "kK4MeB-BdOhT",
        "outputId": "ba2ea193-7b19-4e73-dff8-104298cf9c8a"
      },
      "execution_count": 263,
      "outputs": [
        {
          "output_type": "stream",
          "name": "stdout",
          "text": [
            "[[  6.95857096]\n",
            " [  6.96178579]\n",
            " [  6.43035698]\n",
            " ...\n",
            " [148.5       ]\n",
            " [150.47000122]\n",
            " [152.58999634]]\n"
          ]
        }
      ]
    },
    {
      "cell_type": "code",
      "execution_count": 264,
      "metadata": {
        "colab": {
          "base_uri": "https://localhost:8080/"
        },
        "id": "L0KZ76bgTpFJ",
        "outputId": "9ee0002e-f114-4658-96be-32293631f742"
      },
      "outputs": [
        {
          "output_type": "stream",
          "name": "stdout",
          "text": [
            "Total Rows in Training Dataset:  3061\n",
            "Total Rows in Testing Dataset:  766\n"
          ]
        }
      ],
      "source": [
        "#Create a new dataframe with only the 'Close' column\n",
        "data = data.filter(['Close'])\n",
        "\n",
        "#Convert the dataframe to a numpy array\n",
        "dataset = data.values\n",
        "\n",
        "#Get the number of rows to train the model on (80% of the data)\n",
        "training_size = int(np.ceil( len(scaled_data) * .8 ))\n",
        "test_size = int(np.ceil( len(scaled_data) * .2 ))\n",
        "\n",
        "#2860 is 80 percent of the total number of rows in the dataset\n",
        "print(\"Total Rows in Training Dataset: \", training_size)\n",
        "print(\"Total Rows in Testing Dataset: \", test_size)"
      ]
    },
    {
      "cell_type": "code",
      "execution_count": 265,
      "metadata": {
        "colab": {
          "base_uri": "https://localhost:8080/"
        },
        "id": "ZRPNxSWQTpFJ",
        "outputId": "07b15a9a-1e5a-4031-b700-c0326f51c35a"
      },
      "outputs": [
        {
          "output_type": "stream",
          "name": "stdout",
          "text": [
            "Training Data Shape:  (3061, 1)\n",
            "Testing Data Shape:  (765, 1)\n"
          ]
        }
      ],
      "source": [
        "#Split the data in to training and testing data, 80% training and 20% testing starting from the beginning of the dataset\n",
        "train_data = scaled_data[0:training_size , :] #From 0 to 3061\n",
        "test_data = scaled_data[training_size:len(scaled_data), :] #From 3061 to the end\n",
        "\n",
        "#remove null values\n",
        "train_data = train_data[~np.isnan(train_data).any(axis=1)]\n",
        "test_data = test_data[~np.isnan(test_data).any(axis=1)]\n",
        "\n",
        "#print the shape of the training and testing data\n",
        "print(\"Training Data Shape: \", train_data.shape)\n",
        "print(\"Testing Data Shape: \", test_data.shape)"
      ]
    },
    {
      "cell_type": "code",
      "execution_count": 266,
      "metadata": {
        "id": "KPGMDtffTpFK"
      },
      "outputs": [],
      "source": [
        "#Time step is the number of days we want to look back to predict the next closing price\n",
        "#We need use the training data to create the x_train and y_train data sets where x_train is the closing price of the previous 14 years and y_train is the closing price of the next day\n",
        "#if data is 120, 130, 125, 140, 134, and 150 then x_train would be 120, 130, 125, 140, 134 and y_train would be 150\n",
        "#We will do the same for the test data and then check the accuracy of the model\n",
        "\n",
        "#Function to create the x_train and y_train data sets\n",
        "def create_dataset (dataset, time_step=1):\n",
        "    dataX, dataY = [], []\n",
        "    #Loop through the data and create the x_train and y_train data sets\n",
        "    for i in range(len(dataset)-time_step-1):\n",
        "        a = dataset[i:(i+time_step), 0] #Start from 0 to time_step and add to a\n",
        "        dataX.append(a) #Store the values from 0 to time_step in dataX\n",
        "        dataY.append(dataset[i+time_step, 0]) #Store the value of the next day in dataY\n",
        "    return np.array(dataX), np.array(dataY) #Return the training data and the testing data as numpy arrays"
      ]
    },
    {
      "cell_type": "code",
      "execution_count": 267,
      "metadata": {
        "colab": {
          "base_uri": "https://localhost:8080/"
        },
        "id": "lBydoH_aTpFK",
        "outputId": "4631d29e-32c5-4a6e-a958-cdd6c7b85afa"
      },
      "outputs": [
        {
          "output_type": "stream",
          "name": "stdout",
          "text": [
            "(3030, 30)\n",
            "(3030,)\n"
          ]
        }
      ],
      "source": [
        "#time step is the number of days we want to look back to predict the next closing price and we will use 30 days for this model (Hyperparamater Tuning) \n",
        "time_step = 30\n",
        "\n",
        "#Create the training data set\n",
        "x_train, y_train = create_dataset(train_data, time_step)\n",
        "\n",
        "#180 features and 2550 rows\n",
        "print (x_train.shape) #the training data should have 30 features for 30 days\n",
        "print (y_train.shape)"
      ]
    },
    {
      "cell_type": "code",
      "execution_count": 268,
      "metadata": {
        "colab": {
          "base_uri": "https://localhost:8080/"
        },
        "id": "lqYJh49xTpFK",
        "outputId": "188b833d-9ad5-481b-aa25-358f3193e465"
      },
      "outputs": [
        {
          "output_type": "stream",
          "name": "stdout",
          "text": [
            "(734, 30)\n",
            "(734,)\n"
          ]
        }
      ],
      "source": [
        "#Create the testing data set\n",
        "x_test, y_test = create_dataset(test_data, time_step)\n",
        "\n",
        "#180 features an 730 rows\n",
        "print(x_test.shape)\n",
        "print(y_test.shape)"
      ]
    },
    {
      "cell_type": "code",
      "execution_count": 269,
      "metadata": {
        "id": "lHKmx-PUTpFL"
      },
      "outputs": [],
      "source": [
        "#Reshape the data to fit the LSTM model\n",
        "#The LSTM model expects the data to be in the form of [samples, time steps, features] and right now our data is in the form [samples, features]\n",
        "#The last two parameters are fed to the LSTM model as input\n",
        "x_train = x_train.reshape(x_train.shape[0], x_train.shape[1], 1)\n",
        "x_test = x_test.reshape(x_test.shape[0], x_test.shape[1], 1)"
      ]
    },
    {
      "cell_type": "code",
      "execution_count": 270,
      "metadata": {
        "id": "0hCOigp6TpFL"
      },
      "outputs": [],
      "source": [
        "#Create a LSTM model with 1 layer of 256 neurons and 10 days look back\n",
        "model = Sequential()\n",
        "#Add the first LSTM layer and c\n",
        "model.add(LSTM(128, return_sequences=True, input_shape=(x_train.shape[1], 1)))\n",
        "model.add(Dropout(0.2))\n",
        "model.add(LSTM(64, return_sequences=False))\n",
        "model.add(Dropout(0.2))\n",
        "\n",
        "#One final output layer to predict the closing price\n",
        "model.add(Dense(1))\n",
        "\n",
        "#Compile the model with the adam optimizer and mean squared error loss function\n",
        "model.compile(optimizer='adam', loss='mean_squared_error')"
      ]
    },
    {
      "cell_type": "code",
      "execution_count": 271,
      "metadata": {
        "colab": {
          "base_uri": "https://localhost:8080/"
        },
        "id": "QYnLnrJrTpFL",
        "outputId": "0503b3b0-54ec-496e-f180-bc7cd54458c0"
      },
      "outputs": [
        {
          "output_type": "stream",
          "name": "stdout",
          "text": [
            "Model: \"sequential_6\"\n",
            "_________________________________________________________________\n",
            " Layer (type)                Output Shape              Param #   \n",
            "=================================================================\n",
            " lstm_15 (LSTM)              (None, 30, 128)           66560     \n",
            "                                                                 \n",
            " dropout_6 (Dropout)         (None, 30, 128)           0         \n",
            "                                                                 \n",
            " lstm_16 (LSTM)              (None, 64)                49408     \n",
            "                                                                 \n",
            " dropout_7 (Dropout)         (None, 64)                0         \n",
            "                                                                 \n",
            " dense_6 (Dense)             (None, 1)                 65        \n",
            "                                                                 \n",
            "=================================================================\n",
            "Total params: 116,033\n",
            "Trainable params: 116,033\n",
            "Non-trainable params: 0\n",
            "_________________________________________________________________\n"
          ]
        }
      ],
      "source": [
        "model.summary()"
      ]
    },
    {
      "cell_type": "code",
      "source": [
        "#Fit the model\n",
        "model.fit(x_train, y_train, validation_data=(x_test, y_test), epochs=20, batch_size=64, verbose=1)"
      ],
      "metadata": {
        "colab": {
          "base_uri": "https://localhost:8080/"
        },
        "id": "fWb2AenJT9vK",
        "outputId": "8328dce4-fb04-4fb0-de6a-79ba287efac1"
      },
      "execution_count": 272,
      "outputs": [
        {
          "output_type": "stream",
          "name": "stdout",
          "text": [
            "Epoch 1/20\n",
            "48/48 [==============================] - 18s 250ms/step - loss: 0.0012 - val_loss: 0.0021\n",
            "Epoch 2/20\n",
            "48/48 [==============================] - 10s 216ms/step - loss: 2.0209e-04 - val_loss: 0.0011\n",
            "Epoch 3/20\n",
            "48/48 [==============================] - 5s 108ms/step - loss: 1.8161e-04 - val_loss: 0.0012\n",
            "Epoch 4/20\n",
            "48/48 [==============================] - 6s 125ms/step - loss: 1.7826e-04 - val_loss: 0.0010\n",
            "Epoch 5/20\n",
            "48/48 [==============================] - 5s 97ms/step - loss: 1.5490e-04 - val_loss: 9.7141e-04\n",
            "Epoch 6/20\n",
            "48/48 [==============================] - 6s 117ms/step - loss: 1.4716e-04 - val_loss: 0.0010\n",
            "Epoch 7/20\n",
            "48/48 [==============================] - 5s 104ms/step - loss: 1.4826e-04 - val_loss: 9.1862e-04\n",
            "Epoch 8/20\n",
            "48/48 [==============================] - 5s 97ms/step - loss: 1.3887e-04 - val_loss: 8.9257e-04\n",
            "Epoch 9/20\n",
            "48/48 [==============================] - 6s 126ms/step - loss: 1.3016e-04 - val_loss: 0.0030\n",
            "Epoch 10/20\n",
            "48/48 [==============================] - 5s 96ms/step - loss: 1.2246e-04 - val_loss: 8.8231e-04\n",
            "Epoch 11/20\n",
            "48/48 [==============================] - 6s 121ms/step - loss: 1.1912e-04 - val_loss: 0.0025\n",
            "Epoch 12/20\n",
            "48/48 [==============================] - 5s 99ms/step - loss: 1.2973e-04 - val_loss: 0.0016\n",
            "Epoch 13/20\n",
            "48/48 [==============================] - 5s 97ms/step - loss: 1.1631e-04 - val_loss: 7.9178e-04\n",
            "Epoch 14/20\n",
            "48/48 [==============================] - 6s 124ms/step - loss: 1.0538e-04 - val_loss: 0.0012\n",
            "Epoch 15/20\n",
            "48/48 [==============================] - 5s 97ms/step - loss: 1.3341e-04 - val_loss: 9.7292e-04\n",
            "Epoch 16/20\n",
            "48/48 [==============================] - 6s 124ms/step - loss: 1.1126e-04 - val_loss: 9.7489e-04\n",
            "Epoch 17/20\n",
            "48/48 [==============================] - 5s 98ms/step - loss: 1.0296e-04 - val_loss: 0.0013\n",
            "Epoch 18/20\n",
            "48/48 [==============================] - 5s 112ms/step - loss: 9.7042e-05 - val_loss: 7.2939e-04\n",
            "Epoch 19/20\n",
            "48/48 [==============================] - 7s 143ms/step - loss: 9.8534e-05 - val_loss: 7.4249e-04\n",
            "Epoch 20/20\n",
            "48/48 [==============================] - 5s 97ms/step - loss: 1.0033e-04 - val_loss: 8.8001e-04\n"
          ]
        },
        {
          "output_type": "execute_result",
          "data": {
            "text/plain": [
              "<keras.callbacks.History at 0x7fd1c01971f0>"
            ]
          },
          "metadata": {},
          "execution_count": 272
        }
      ]
    },
    {
      "cell_type": "code",
      "source": [
        "#Get the training data predictions and convert to the original scale\n",
        "train_predict = model.predict(x_train)\n",
        "train_predict = scaler.inverse_transform(train_predict)"
      ],
      "metadata": {
        "colab": {
          "base_uri": "https://localhost:8080/"
        },
        "id": "Wt1Ug-7MT9zs",
        "outputId": "91f00f63-3a68-4650-fd17-e02398e4b44f"
      },
      "execution_count": 273,
      "outputs": [
        {
          "output_type": "stream",
          "name": "stdout",
          "text": [
            "95/95 [==============================] - 4s 32ms/step\n"
          ]
        }
      ]
    },
    {
      "cell_type": "code",
      "source": [
        "#Get the testing data predictions and convert to the original scale\n",
        "test_predict = model.predict(x_test)\n",
        "test_predict = scaler.inverse_transform(test_predict)"
      ],
      "metadata": {
        "colab": {
          "base_uri": "https://localhost:8080/"
        },
        "id": "aycbAmYWT92D",
        "outputId": "ae74be66-c01f-4757-b1e1-93a3f85d2b85"
      },
      "execution_count": 274,
      "outputs": [
        {
          "output_type": "stream",
          "name": "stdout",
          "text": [
            "23/23 [==============================] - 0s 19ms/step\n"
          ]
        }
      ]
    },
    {
      "cell_type": "code",
      "source": [
        "#Get performance metrics for the model on the training and testing data using root mean squared error (RMSE)\n",
        "trainScore = math.sqrt(mean_squared_error(y_train, train_predict))\n",
        "testScore = math.sqrt(mean_squared_error(y_test, test_predict))\n",
        "\n",
        "print('Train Score: %.2f RMSE' % (trainScore))\n",
        "print('Test Score: %.2f RMSE' % (testScore))"
      ],
      "metadata": {
        "colab": {
          "base_uri": "https://localhost:8080/"
        },
        "id": "L2MJPlUjW6tK",
        "outputId": "b18a83bf-1c7f-4474-cf3a-bc71504b4c74"
      },
      "execution_count": 275,
      "outputs": [
        {
          "output_type": "stream",
          "name": "stdout",
          "text": [
            "Train Score: 30.36 RMSE\n",
            "Test Score: 140.60 RMSE\n"
          ]
        }
      ]
    },
    {
      "cell_type": "code",
      "source": [
        "#Plot the train data and prediction\n",
        "#Training Data Shape:  (3061, 1)\n",
        "#Plot the data\n",
        "look_back = 30\n",
        "\n",
        "trainPredictPlot = np.empty_like(scaled_data) #Create an empty array the same size as the scaled data\n",
        "trainPredictPlot[:, :] = np.nan #Fill the empty array with NaN values\n",
        "trainPredictPlot[look_back:len(train_predict)+look_back, :] = train_predict #Fill the array with the training data predictions\n",
        "\n",
        "#Plot the data\n",
        "plt.figure(figsize=(16,8))\n",
        "plt.title('Model')\n",
        "plt.xlabel('Date', fontsize=18)\n",
        "plt.ylabel('Close Price USD ($)', fontsize=18)\n",
        "plt.plot(scaler.inverse_transform(scaled_data[:3060]))\n",
        "plt.plot(trainPredictPlot[:3060])\n",
        "plt.legend(['Actual Values', 'Test Data Prediction'], loc='upper left')\n",
        "plt.show()\n",
        "\n"
      ],
      "metadata": {
        "colab": {
          "base_uri": "https://localhost:8080/",
          "height": 520
        },
        "id": "7s57rQl8bVMh",
        "outputId": "a8019c63-c0d7-4a29-c119-9a936952b839"
      },
      "execution_count": 276,
      "outputs": [
        {
          "output_type": "display_data",
          "data": {
            "text/plain": [
              "<Figure size 1152x576 with 1 Axes>"
            ],
            "image/png": "[encoded data removed]"
          },
          "metadata": {
            "needs_background": "light"
          }
        }
      ]
    },
    {
      "cell_type": "code",
      "source": [
        "#Plot the testing data and the model predictions\n",
        "testPredictPlot = np.empty_like(scaled_data) #Create an empty array the same size as the scaled data\n",
        "testPredictPlot[:, :] = np.nan  #Fill the empty array with NaN values\n",
        "testPredictPlot[len(train_predict)+(look_back*2)+1:len(scaled_data)-1, :] = test_predict #Fill the array with the testing data predictions\n",
        "\n",
        "#Plot the data\n",
        "plt.figure(figsize=(16,8))\n",
        "plt.title('Model')\n",
        "plt.xlabel('Date', fontsize=18)\n",
        "plt.ylabel('Close Price USD ($)', fontsize=18)\n",
        "plt.plot(scaler.inverse_transform(scaled_data[3060:]))\n",
        "plt.plot(testPredictPlot[3060:])\n",
        "plt.legend(['Actual Values', 'Test Data Prediction'], loc='upper left')\n",
        "plt.show()"
      ],
      "metadata": {
        "colab": {
          "base_uri": "https://localhost:8080/",
          "height": 520
        },
        "id": "SwMM-S0DbPvX",
        "outputId": "4ca05201-b407-4b8f-d8f6-abad01663ffd"
      },
      "execution_count": 277,
      "outputs": [
        {
          "output_type": "display_data",
          "data": {
            "text/plain": [
              "<Figure size 1152x576 with 1 Axes>"
            ],
            "image/png": "[encoded data removed]"
          },
          "metadata": {
            "needs_background": "light"
          }
        }
      ]
    },
    {
      "cell_type": "code",
      "source": [
        "\n",
        "trainPredictPlot = np.empty_like(scaled_data) #Create an empty array the same size as the scaled data\n",
        "trainPredictPlot[:, :] = np.nan #Fill the empty array with NaN values\n",
        "trainPredictPlot[look_back:len(train_predict)+look_back, :] = train_predict #Fill the array with the training data predictions\n",
        "\n",
        "#Plot the testing data and the model predictions\n",
        "testPredictPlot = np.empty_like(scaled_data) #Create an empty array the same size as the scaled data\n",
        "testPredictPlot[:, :] = np.nan  #Fill the empty array with NaN values\n",
        "testPredictPlot[len(train_predict)+(look_back*2)+1:len(scaled_data)-1, :] = test_predict #Fill the array with the testing data predictions\n",
        "\n",
        "#Plot the data\n",
        "plt.figure(figsize=(16,8))\n",
        "plt.title('Model')\n",
        "plt.xlabel('Date', fontsize=18)\n",
        "plt.ylabel('Close Price USD ($)', fontsize=18)\n",
        "plt.plot(scaler.inverse_transform(scaled_data))\n",
        "plt.plot(trainPredictPlot)\n",
        "#plt.plot(y_test)\n",
        "plt.plot(testPredictPlot)\n",
        "plt.legend(['Actual Values', 'Train Data Prediction', 'Test Data Prediction'], loc='upper left')\n",
        "plt.show()"
      ],
      "metadata": {
        "colab": {
          "base_uri": "https://localhost:8080/",
          "height": 520
        },
        "id": "MoP7TtfTT94O",
        "outputId": "ffd663bf-7dc8-4abd-fc42-1be9ba45046c"
      },
      "execution_count": 278,
      "outputs": [
        {
          "output_type": "display_data",
          "data": {
            "text/plain": [
              "<Figure size 1152x576 with 1 Axes>"
            ],
            "image/png": "[encoded data removed]"
          },
          "metadata": {
            "needs_background": "light"
          }
        }
      ]
    },
    {
      "cell_type": "code",
      "source": [
        "print(len(train_data))\n",
        "print(len(test_data))"
      ],
      "metadata": {
        "colab": {
          "base_uri": "https://localhost:8080/"
        },
        "id": "XRNT9fkWXKaD",
        "outputId": "393afb0d-46d9-4f3b-bd95-f84f60ca8649"
      },
      "execution_count": 279,
      "outputs": [
        {
          "output_type": "stream",
          "name": "stdout",
          "text": [
            "3061\n",
            "765\n"
          ]
        }
      ]
    },
    {
      "cell_type": "code",
      "source": [
        "#Get the last 30 days of the training data and convert it to an array (765 - 30 = 685)\n",
        "x_input = test_data[735:].reshape(1,-1) #Predict the closing price for the next 30 days starting from 685\n",
        "x_input.shape"
      ],
      "metadata": {
        "colab": {
          "base_uri": "https://localhost:8080/"
        },
        "id": "n4ipa97DXKcm",
        "outputId": "fe4f8ab8-4d0c-4758-8e04-b146b135561c"
      },
      "execution_count": 280,
      "outputs": [
        {
          "output_type": "execute_result",
          "data": {
            "text/plain": [
              "(1, 30)"
            ]
          },
          "metadata": {},
          "execution_count": 280
        }
      ]
    },
    {
      "cell_type": "code",
      "source": [
        "#Convert the data to a list\n",
        "temp_input = list(x_input)\n",
        "temp_input = temp_input[0].tolist() #Convert the data to a list\n",
        "\n",
        "print(len(temp_input)) #The length of the list should be 30 as we are predicting the closing price for the next 30 days"
      ],
      "metadata": {
        "colab": {
          "base_uri": "https://localhost:8080/"
        },
        "id": "CpeEA3ZFXKfF",
        "outputId": "3952199e-99d9-43ec-bb16-7d71d4829989"
      },
      "execution_count": 281,
      "outputs": [
        {
          "output_type": "stream",
          "name": "stdout",
          "text": [
            "30\n"
          ]
        }
      ]
    },
    {
      "cell_type": "code",
      "source": [
        "#Predict the closing price for the next 30 days\n",
        "from numpy import array\n",
        "\n",
        "lst_output = []\n",
        "n_steps = 30\n",
        "i = 0\n",
        "while(i<30):\n",
        "      #if the length of the list is greater than 30, then we will shift by 1 day and take new output as the input for the next day prediction\n",
        "      if(len(temp_input)>30): #\n",
        "          #print(temp_input)\n",
        "          x_input = np.array(temp_input[1:])\n",
        "          print(\"{} day input {}\".format(i,x_input))\n",
        "          x_input = x_input.reshape(1,-1)\n",
        "          x_input = x_input.reshape((1, n_steps, 1))\n",
        "          #print(x_input)\n",
        "          yhat = model.predict(x_input, verbose=0)\n",
        "          print(\"{} day output {}\".format(i,yhat))\n",
        "          temp_input.extend(yhat[0].tolist())\n",
        "          temp_input = temp_input[1:]\n",
        "          #print(temp_input)\n",
        "          lst_output.extend(yhat.tolist())\n",
        "          i=i+1\n",
        "      #If the length of the list is less than 30, then we will add the last 30 days to the list and predict the next 30 days\n",
        "      else:\n",
        "          x_input = x_input.reshape((1, n_steps,1)) #Reshape the data to fit the model\n",
        "          yhat = model.predict(x_input, verbose=0)  #Predict the closing price for the next 30 days\n",
        "          print(yhat[0]) #Print the predicted closing price\n",
        "          temp_input.extend(yhat[0].tolist()) #Add the predicted closing price to the list\n",
        "          print(len(temp_input)) #The length of the list should be 30\n",
        "          lst_output.extend(yhat.tolist()) #Add the predicted closing price to previous list (temp_input)\n",
        "          i=i+1 "
      ],
      "metadata": {
        "colab": {
          "base_uri": "https://localhost:8080/"
        },
        "id": "CQNEtkjLW_NB",
        "outputId": "f032ab06-aeee-4fec-aaab-821d1ef4533f"
      },
      "execution_count": 282,
      "outputs": [
        {
          "output_type": "stream",
          "name": "stdout",
          "text": [
            "[0.8403504]\n",
            "31\n",
            "1 day input [0.79589005 0.82596538 0.84649909 0.83104295 0.84733602 0.83210313\n",
            " 0.8262443  0.82702547 0.84287223 0.8392453  0.85113035 0.84209106\n",
            " 0.83561845 0.81290852 0.81530789 0.81804195 0.8030323  0.80978384\n",
            " 0.80693816 0.79522049 0.79856842 0.82713709 0.84276061 0.83031763\n",
            " 0.83740395 0.82468196 0.81302014 0.8240124  0.8358416  0.84035039]\n",
            "1 day output [[0.8429928]]\n",
            "2 day input [0.82596538 0.84649909 0.83104295 0.84733602 0.83210313 0.8262443\n",
            " 0.82702547 0.84287223 0.8392453  0.85113035 0.84209106 0.83561845\n",
            " 0.81290852 0.81530789 0.81804195 0.8030323  0.80978384 0.80693816\n",
            " 0.79522049 0.79856842 0.82713709 0.84276061 0.83031763 0.83740395\n",
            " 0.82468196 0.81302014 0.8240124  0.8358416  0.84035039 0.84299278]\n",
            "2 day output [[0.8460561]]\n",
            "3 day input [0.84649909 0.83104295 0.84733602 0.83210313 0.8262443  0.82702547\n",
            " 0.84287223 0.8392453  0.85113035 0.84209106 0.83561845 0.81290852\n",
            " 0.81530789 0.81804195 0.8030323  0.80978384 0.80693816 0.79522049\n",
            " 0.79856842 0.82713709 0.84276061 0.83031763 0.83740395 0.82468196\n",
            " 0.81302014 0.8240124  0.8358416  0.84035039 0.84299278 0.8460561 ]\n",
            "3 day output [[0.8493951]]\n",
            "4 day input [0.83104295 0.84733602 0.83210313 0.8262443  0.82702547 0.84287223\n",
            " 0.8392453  0.85113035 0.84209106 0.83561845 0.81290852 0.81530789\n",
            " 0.81804195 0.8030323  0.80978384 0.80693816 0.79522049 0.79856842\n",
            " 0.82713709 0.84276061 0.83031763 0.83740395 0.82468196 0.81302014\n",
            " 0.8240124  0.8358416  0.84035039 0.84299278 0.8460561  0.8493951 ]\n",
            "4 day output [[0.85292405]]\n",
            "5 day input [0.84733602 0.83210313 0.8262443  0.82702547 0.84287223 0.8392453\n",
            " 0.85113035 0.84209106 0.83561845 0.81290852 0.81530789 0.81804195\n",
            " 0.8030323  0.80978384 0.80693816 0.79522049 0.79856842 0.82713709\n",
            " 0.84276061 0.83031763 0.83740395 0.82468196 0.81302014 0.8240124\n",
            " 0.8358416  0.84035039 0.84299278 0.8460561  0.8493951  0.85292405]\n",
            "5 day output [[0.8565993]]\n",
            "6 day input [0.83210313 0.8262443  0.82702547 0.84287223 0.8392453  0.85113035\n",
            " 0.84209106 0.83561845 0.81290852 0.81530789 0.81804195 0.8030323\n",
            " 0.80978384 0.80693816 0.79522049 0.79856842 0.82713709 0.84276061\n",
            " 0.83031763 0.83740395 0.82468196 0.81302014 0.8240124  0.8358416\n",
            " 0.84035039 0.84299278 0.8460561  0.8493951  0.85292405 0.85659927]\n",
            "6 day output [[0.8603635]]\n",
            "7 day input [0.8262443  0.82702547 0.84287223 0.8392453  0.85113035 0.84209106\n",
            " 0.83561845 0.81290852 0.81530789 0.81804195 0.8030323  0.80978384\n",
            " 0.80693816 0.79522049 0.79856842 0.82713709 0.84276061 0.83031763\n",
            " 0.83740395 0.82468196 0.81302014 0.8240124  0.8358416  0.84035039\n",
            " 0.84299278 0.8460561  0.8493951  0.85292405 0.85659927 0.86036348]\n",
            "7 day output [[0.8642038]]\n",
            "8 day input [0.82702547 0.84287223 0.8392453  0.85113035 0.84209106 0.83561845\n",
            " 0.81290852 0.81530789 0.81804195 0.8030323  0.80978384 0.80693816\n",
            " 0.79522049 0.79856842 0.82713709 0.84276061 0.83031763 0.83740395\n",
            " 0.82468196 0.81302014 0.8240124  0.8358416  0.84035039 0.84299278\n",
            " 0.8460561  0.8493951  0.85292405 0.85659927 0.86036348 0.86420381]\n",
            "8 day output [[0.8680956]]\n",
            "9 day input [0.84287223 0.8392453  0.85113035 0.84209106 0.83561845 0.81290852\n",
            " 0.81530789 0.81804195 0.8030323  0.80978384 0.80693816 0.79522049\n",
            " 0.79856842 0.82713709 0.84276061 0.83031763 0.83740395 0.82468196\n",
            " 0.81302014 0.8240124  0.8358416  0.84035039 0.84299278 0.8460561\n",
            " 0.8493951  0.85292405 0.85659927 0.86036348 0.86420381 0.86809558]\n",
            "9 day output [[0.8720216]]\n",
            "10 day input [0.8392453  0.85113035 0.84209106 0.83561845 0.81290852 0.81530789\n",
            " 0.81804195 0.8030323  0.80978384 0.80693816 0.79522049 0.79856842\n",
            " 0.82713709 0.84276061 0.83031763 0.83740395 0.82468196 0.81302014\n",
            " 0.8240124  0.8358416  0.84035039 0.84299278 0.8460561  0.8493951\n",
            " 0.85292405 0.85659927 0.86036348 0.86420381 0.86809558 0.87202162]\n",
            "10 day output [[0.87596405]]\n",
            "11 day input [0.85113035 0.84209106 0.83561845 0.81290852 0.81530789 0.81804195\n",
            " 0.8030323  0.80978384 0.80693816 0.79522049 0.79856842 0.82713709\n",
            " 0.84276061 0.83031763 0.83740395 0.82468196 0.81302014 0.8240124\n",
            " 0.8358416  0.84035039 0.84299278 0.8460561  0.8493951  0.85292405\n",
            " 0.85659927 0.86036348 0.86420381 0.86809558 0.87202162 0.87596405]\n",
            "11 day output [[0.87992483]]\n",
            "12 day input [0.84209106 0.83561845 0.81290852 0.81530789 0.81804195 0.8030323\n",
            " 0.80978384 0.80693816 0.79522049 0.79856842 0.82713709 0.84276061\n",
            " 0.83031763 0.83740395 0.82468196 0.81302014 0.8240124  0.8358416\n",
            " 0.84035039 0.84299278 0.8460561  0.8493951  0.85292405 0.85659927\n",
            " 0.86036348 0.86420381 0.86809558 0.87202162 0.87596405 0.87992483]\n",
            "12 day output [[0.8838915]]\n",
            "13 day input [0.83561845 0.81290852 0.81530789 0.81804195 0.8030323  0.80978384\n",
            " 0.80693816 0.79522049 0.79856842 0.82713709 0.84276061 0.83031763\n",
            " 0.83740395 0.82468196 0.81302014 0.8240124  0.8358416  0.84035039\n",
            " 0.84299278 0.8460561  0.8493951  0.85292405 0.85659927 0.86036348\n",
            " 0.86420381 0.86809558 0.87202162 0.87596405 0.87992483 0.88389152]\n",
            "13 day output [[0.88786983]]\n",
            "14 day input [0.81290852 0.81530789 0.81804195 0.8030323  0.80978384 0.80693816\n",
            " 0.79522049 0.79856842 0.82713709 0.84276061 0.83031763 0.83740395\n",
            " 0.82468196 0.81302014 0.8240124  0.8358416  0.84035039 0.84299278\n",
            " 0.8460561  0.8493951  0.85292405 0.85659927 0.86036348 0.86420381\n",
            " 0.86809558 0.87202162 0.87596405 0.87992483 0.88389152 0.88786983]\n",
            "14 day output [[0.89185613]]\n",
            "15 day input [0.81530789 0.81804195 0.8030323  0.80978384 0.80693816 0.79522049\n",
            " 0.79856842 0.82713709 0.84276061 0.83031763 0.83740395 0.82468196\n",
            " 0.81302014 0.8240124  0.8358416  0.84035039 0.84299278 0.8460561\n",
            " 0.8493951  0.85292405 0.85659927 0.86036348 0.86420381 0.86809558\n",
            " 0.87202162 0.87596405 0.87992483 0.88389152 0.88786983 0.89185613]\n",
            "15 day output [[0.8958563]]\n",
            "16 day input [0.81804195 0.8030323  0.80978384 0.80693816 0.79522049 0.79856842\n",
            " 0.82713709 0.84276061 0.83031763 0.83740395 0.82468196 0.81302014\n",
            " 0.8240124  0.8358416  0.84035039 0.84299278 0.8460561  0.8493951\n",
            " 0.85292405 0.85659927 0.86036348 0.86420381 0.86809558 0.87202162\n",
            " 0.87596405 0.87992483 0.88389152 0.88786983 0.89185613 0.89585632]\n",
            "16 day output [[0.89985615]]\n",
            "17 day input [0.8030323  0.80978384 0.80693816 0.79522049 0.79856842 0.82713709\n",
            " 0.84276061 0.83031763 0.83740395 0.82468196 0.81302014 0.8240124\n",
            " 0.8358416  0.84035039 0.84299278 0.8460561  0.8493951  0.85292405\n",
            " 0.85659927 0.86036348 0.86420381 0.86809558 0.87202162 0.87596405\n",
            " 0.87992483 0.88389152 0.88786983 0.89185613 0.89585632 0.89985615]\n",
            "17 day output [[0.903853]]\n",
            "18 day input [0.80978384 0.80693816 0.79522049 0.79856842 0.82713709 0.84276061\n",
            " 0.83031763 0.83740395 0.82468196 0.81302014 0.8240124  0.8358416\n",
            " 0.84035039 0.84299278 0.8460561  0.8493951  0.85292405 0.85659927\n",
            " 0.86036348 0.86420381 0.86809558 0.87202162 0.87596405 0.87992483\n",
            " 0.88389152 0.88786983 0.89185613 0.89585632 0.89985615 0.903853  ]\n",
            "18 day output [[0.90785384]]\n",
            "19 day input [0.80693816 0.79522049 0.79856842 0.82713709 0.84276061 0.83031763\n",
            " 0.83740395 0.82468196 0.81302014 0.8240124  0.8358416  0.84035039\n",
            " 0.84299278 0.8460561  0.8493951  0.85292405 0.85659927 0.86036348\n",
            " 0.86420381 0.86809558 0.87202162 0.87596405 0.87992483 0.88389152\n",
            " 0.88786983 0.89185613 0.89585632 0.89985615 0.903853   0.90785384]\n",
            "19 day output [[0.9118467]]\n",
            "20 day input [0.79522049 0.79856842 0.82713709 0.84276061 0.83031763 0.83740395\n",
            " 0.82468196 0.81302014 0.8240124  0.8358416  0.84035039 0.84299278\n",
            " 0.8460561  0.8493951  0.85292405 0.85659927 0.86036348 0.86420381\n",
            " 0.86809558 0.87202162 0.87596405 0.87992483 0.88389152 0.88786983\n",
            " 0.89185613 0.89585632 0.89985615 0.903853   0.90785384 0.9118467 ]\n",
            "20 day output [[0.9158351]]\n",
            "21 day input [0.79856842 0.82713709 0.84276061 0.83031763 0.83740395 0.82468196\n",
            " 0.81302014 0.8240124  0.8358416  0.84035039 0.84299278 0.8460561\n",
            " 0.8493951  0.85292405 0.85659927 0.86036348 0.86420381 0.86809558\n",
            " 0.87202162 0.87596405 0.87992483 0.88389152 0.88786983 0.89185613\n",
            " 0.89585632 0.89985615 0.903853   0.90785384 0.9118467  0.91583508]\n",
            "21 day output [[0.91982174]]\n",
            "22 day input [0.82713709 0.84276061 0.83031763 0.83740395 0.82468196 0.81302014\n",
            " 0.8240124  0.8358416  0.84035039 0.84299278 0.8460561  0.8493951\n",
            " 0.85292405 0.85659927 0.86036348 0.86420381 0.86809558 0.87202162\n",
            " 0.87596405 0.87992483 0.88389152 0.88786983 0.89185613 0.89585632\n",
            " 0.89985615 0.903853   0.90785384 0.9118467  0.91583508 0.91982174]\n",
            "22 day output [[0.92379904]]\n",
            "23 day input [0.84276061 0.83031763 0.83740395 0.82468196 0.81302014 0.8240124\n",
            " 0.8358416  0.84035039 0.84299278 0.8460561  0.8493951  0.85292405\n",
            " 0.85659927 0.86036348 0.86420381 0.86809558 0.87202162 0.87596405\n",
            " 0.87992483 0.88389152 0.88786983 0.89185613 0.89585632 0.89985615\n",
            " 0.903853   0.90785384 0.9118467  0.91583508 0.91982174 0.92379904]\n",
            "23 day output [[0.92775255]]\n",
            "24 day input [0.83031763 0.83740395 0.82468196 0.81302014 0.8240124  0.8358416\n",
            " 0.84035039 0.84299278 0.8460561  0.8493951  0.85292405 0.85659927\n",
            " 0.86036348 0.86420381 0.86809558 0.87202162 0.87596405 0.87992483\n",
            " 0.88389152 0.88786983 0.89185613 0.89585632 0.89985615 0.903853\n",
            " 0.90785384 0.9118467  0.91583508 0.91982174 0.92379904 0.92775255]\n",
            "24 day output [[0.9316867]]\n",
            "25 day input [0.83740395 0.82468196 0.81302014 0.8240124  0.8358416  0.84035039\n",
            " 0.84299278 0.8460561  0.8493951  0.85292405 0.85659927 0.86036348\n",
            " 0.86420381 0.86809558 0.87202162 0.87596405 0.87992483 0.88389152\n",
            " 0.88786983 0.89185613 0.89585632 0.89985615 0.903853   0.90785384\n",
            " 0.9118467  0.91583508 0.91982174 0.92379904 0.92775255 0.9316867 ]\n",
            "25 day output [[0.9356155]]\n",
            "26 day input [0.82468196 0.81302014 0.8240124  0.8358416  0.84035039 0.84299278\n",
            " 0.8460561  0.8493951  0.85292405 0.85659927 0.86036348 0.86420381\n",
            " 0.86809558 0.87202162 0.87596405 0.87992483 0.88389152 0.88786983\n",
            " 0.89185613 0.89585632 0.89985615 0.903853   0.90785384 0.9118467\n",
            " 0.91583508 0.91982174 0.92379904 0.92775255 0.9316867  0.93561548]\n",
            "26 day output [[0.9395287]]\n",
            "27 day input [0.81302014 0.8240124  0.8358416  0.84035039 0.84299278 0.8460561\n",
            " 0.8493951  0.85292405 0.85659927 0.86036348 0.86420381 0.86809558\n",
            " 0.87202162 0.87596405 0.87992483 0.88389152 0.88786983 0.89185613\n",
            " 0.89585632 0.89985615 0.903853   0.90785384 0.9118467  0.91583508\n",
            " 0.91982174 0.92379904 0.92775255 0.9316867  0.93561548 0.9395287 ]\n",
            "27 day output [[0.94343567]]\n",
            "28 day input [0.8240124  0.8358416  0.84035039 0.84299278 0.8460561  0.8493951\n",
            " 0.85292405 0.85659927 0.86036348 0.86420381 0.86809558 0.87202162\n",
            " 0.87596405 0.87992483 0.88389152 0.88786983 0.89185613 0.89585632\n",
            " 0.89985615 0.903853   0.90785384 0.9118467  0.91583508 0.91982174\n",
            " 0.92379904 0.92775255 0.9316867  0.93561548 0.9395287  0.94343567]\n",
            "28 day output [[0.94733566]]\n",
            "29 day input [0.8358416  0.84035039 0.84299278 0.8460561  0.8493951  0.85292405\n",
            " 0.85659927 0.86036348 0.86420381 0.86809558 0.87202162 0.87596405\n",
            " 0.87992483 0.88389152 0.88786983 0.89185613 0.89585632 0.89985615\n",
            " 0.903853   0.90785384 0.9118467  0.91583508 0.91982174 0.92379904\n",
            " 0.92775255 0.9316867  0.93561548 0.9395287  0.94343567 0.94733566]\n",
            "29 day output [[0.951217]]\n"
          ]
        }
      ]
    },
    {
      "cell_type": "code",
      "source": [
        "day_new = np.arange(1,31) #Create a new array with the previous 30 days\n",
        "day_pred = np.arange(31,61) #Create a new array with the next 30 days\n"
      ],
      "metadata": {
        "id": "SIMeSVX-W_Pc"
      },
      "execution_count": 283,
      "outputs": []
    },
    {
      "cell_type": "code",
      "source": [
        "#Print the predicted closing price for the next 30 days\n",
        "print(scaler.inverse_transform(lst_output))"
      ],
      "metadata": {
        "colab": {
          "base_uri": "https://localhost:8080/"
        },
        "id": "O0_9IcANXgeE",
        "outputId": "3911dc1b-6a6d-4af8-c42c-0e35e1503631"
      },
      "execution_count": 284,
      "outputs": [
        {
          "output_type": "stream",
          "name": "stdout",
          "text": [
            "[[153.39804829]\n",
            " [153.87161042]\n",
            " [154.42061007]\n",
            " [155.01901476]\n",
            " [155.65146354]\n",
            " [156.31012638]\n",
            " [156.98473771]\n",
            " [157.67299017]\n",
            " [158.37046134]\n",
            " [159.07407477]\n",
            " [159.78062579]\n",
            " [160.49046692]\n",
            " [161.20136559]\n",
            " [161.91434728]\n",
            " [162.62876038]\n",
            " [163.34566243]\n",
            " [164.06250039]\n",
            " [164.77880424]\n",
            " [165.49582379]\n",
            " [166.21141193]\n",
            " [166.92619891]\n",
            " [167.64067611]\n",
            " [168.3534762 ]\n",
            " [169.06201411]\n",
            " [169.76708031]\n",
            " [170.47118512]\n",
            " [171.17250188]\n",
            " [171.87269701]\n",
            " [172.57164232]\n",
            " [173.26724412]]\n"
          ]
        }
      ]
    },
    {
      "cell_type": "code",
      "source": [
        "new_data = yf.download('AAPL','2023-03-16')"
      ],
      "metadata": {
        "colab": {
          "base_uri": "https://localhost:8080/"
        },
        "id": "crP6TLpRY9lH",
        "outputId": "b2a8395a-2600-4b63-a116-a37dc1d95f1b"
      },
      "execution_count": 285,
      "outputs": [
        {
          "output_type": "stream",
          "name": "stdout",
          "text": [
            "\r[*********************100%***********************]  1 of 1 completed\n"
          ]
        }
      ]
    },
    {
      "cell_type": "code",
      "source": [
        "#Create an array from date 2023-03-15 to 30 days in future \n",
        "future_dates = pd.date_range(start='2023-03-16', end='2023-04-14')\n",
        "#print(future_dates)\n",
        "\n",
        "#convert it to an array\n",
        "future_dates = future_dates.to_numpy()\n",
        "print(future_dates)\n",
        "\n",
        "future_dates.shape"
      ],
      "metadata": {
        "colab": {
          "base_uri": "https://localhost:8080/"
        },
        "id": "YHt1CYI0ZJhB",
        "outputId": "e52e9dc4-e6ef-4c8d-d11a-ae570a34819b"
      },
      "execution_count": 286,
      "outputs": [
        {
          "output_type": "stream",
          "name": "stdout",
          "text": [
            "['2023-03-16T00:00:00.000000000' '2023-03-17T00:00:00.000000000'\n",
            " '2023-03-18T00:00:00.000000000' '2023-03-19T00:00:00.000000000'\n",
            " '2023-03-20T00:00:00.000000000' '2023-03-21T00:00:00.000000000'\n",
            " '2023-03-22T00:00:00.000000000' '2023-03-23T00:00:00.000000000'\n",
            " '2023-03-24T00:00:00.000000000' '2023-03-25T00:00:00.000000000'\n",
            " '2023-03-26T00:00:00.000000000' '2023-03-27T00:00:00.000000000'\n",
            " '2023-03-28T00:00:00.000000000' '2023-03-29T00:00:00.000000000'\n",
            " '2023-03-30T00:00:00.000000000' '2023-03-31T00:00:00.000000000'\n",
            " '2023-04-01T00:00:00.000000000' '2023-04-02T00:00:00.000000000'\n",
            " '2023-04-03T00:00:00.000000000' '2023-04-04T00:00:00.000000000'\n",
            " '2023-04-05T00:00:00.000000000' '2023-04-06T00:00:00.000000000'\n",
            " '2023-04-07T00:00:00.000000000' '2023-04-08T00:00:00.000000000'\n",
            " '2023-04-09T00:00:00.000000000' '2023-04-10T00:00:00.000000000'\n",
            " '2023-04-11T00:00:00.000000000' '2023-04-12T00:00:00.000000000'\n",
            " '2023-04-13T00:00:00.000000000' '2023-04-14T00:00:00.000000000']\n"
          ]
        },
        {
          "output_type": "execute_result",
          "data": {
            "text/plain": [
              "(30,)"
            ]
          },
          "metadata": {},
          "execution_count": 286
        }
      ]
    },
    {
      "cell_type": "code",
      "source": [
        "#Create empty array of size 30\n",
        "actual_thirtydays_values = np.empty((30,1))\n",
        "\n",
        "#Fill the empty array with NaN values\n",
        "actual_thirtydays_values[:] = np.nan\n",
        "\n",
        "for i in range(0,30):\n",
        "  try:\n",
        "    actual_thirtydays_values[i] = new_data['Close'][i]\n",
        "  except:\n",
        "    actual_thirtydays_values[i] = np.nan\n",
        "    \n",
        "\n",
        "#Add the date and the actual values to the dataframe\n",
        "actual_thirtydays_values = pd.DataFrame(actual_thirtydays_values, columns=['Close'])\n",
        "actual_thirtydays_values['Date'] = future_dates\n",
        "actual_thirtydays_values = actual_thirtydays_values.set_index('Date')\n",
        "\n",
        "print (actual_thirtydays_values)"
      ],
      "metadata": {
        "colab": {
          "base_uri": "https://localhost:8080/"
        },
        "id": "0rCmVA-YZJjc",
        "outputId": "285013f3-d490-4d7b-c4cc-9e3a5172ff12"
      },
      "execution_count": 287,
      "outputs": [
        {
          "output_type": "stream",
          "name": "stdout",
          "text": [
            "                 Close\n",
            "Date                  \n",
            "2023-03-16  155.850006\n",
            "2023-03-17  155.000000\n",
            "2023-03-18  157.399994\n",
            "2023-03-19         NaN\n",
            "2023-03-20         NaN\n",
            "2023-03-21         NaN\n",
            "2023-03-22         NaN\n",
            "2023-03-23         NaN\n",
            "2023-03-24         NaN\n",
            "2023-03-25         NaN\n",
            "2023-03-26         NaN\n",
            "2023-03-27         NaN\n",
            "2023-03-28         NaN\n",
            "2023-03-29         NaN\n",
            "2023-03-30         NaN\n",
            "2023-03-31         NaN\n",
            "2023-04-01         NaN\n",
            "2023-04-02         NaN\n",
            "2023-04-03         NaN\n",
            "2023-04-04         NaN\n",
            "2023-04-05         NaN\n",
            "2023-04-06         NaN\n",
            "2023-04-07         NaN\n",
            "2023-04-08         NaN\n",
            "2023-04-09         NaN\n",
            "2023-04-10         NaN\n",
            "2023-04-11         NaN\n",
            "2023-04-12         NaN\n",
            "2023-04-13         NaN\n",
            "2023-04-14         NaN\n"
          ]
        }
      ]
    },
    {
      "cell_type": "code",
      "source": [
        "#add the predicted closing price to the actual closing price\n",
        "actual_thirtydays_values['Predictions'] = scaler.inverse_transform(lst_output)\n",
        "\n",
        "print(actual_thirtydays_values)"
      ],
      "metadata": {
        "colab": {
          "base_uri": "https://localhost:8080/"
        },
        "id": "d1NimlKAZT9U",
        "outputId": "e3445307-8186-4399-bbf0-ad9ff82fd980"
      },
      "execution_count": 288,
      "outputs": [
        {
          "output_type": "stream",
          "name": "stdout",
          "text": [
            "                 Close  Predictions\n",
            "Date                               \n",
            "2023-03-16  155.850006   153.398048\n",
            "2023-03-17  155.000000   153.871610\n",
            "2023-03-18  157.399994   154.420610\n",
            "2023-03-19         NaN   155.019015\n",
            "2023-03-20         NaN   155.651464\n",
            "2023-03-21         NaN   156.310126\n",
            "2023-03-22         NaN   156.984738\n",
            "2023-03-23         NaN   157.672990\n",
            "2023-03-24         NaN   158.370461\n",
            "2023-03-25         NaN   159.074075\n",
            "2023-03-26         NaN   159.780626\n",
            "2023-03-27         NaN   160.490467\n",
            "2023-03-28         NaN   161.201366\n",
            "2023-03-29         NaN   161.914347\n",
            "2023-03-30         NaN   162.628760\n",
            "2023-03-31         NaN   163.345662\n",
            "2023-04-01         NaN   164.062500\n",
            "2023-04-02         NaN   164.778804\n",
            "2023-04-03         NaN   165.495824\n",
            "2023-04-04         NaN   166.211412\n",
            "2023-04-05         NaN   166.926199\n",
            "2023-04-06         NaN   167.640676\n",
            "2023-04-07         NaN   168.353476\n",
            "2023-04-08         NaN   169.062014\n",
            "2023-04-09         NaN   169.767080\n",
            "2023-04-10         NaN   170.471185\n",
            "2023-04-11         NaN   171.172502\n",
            "2023-04-12         NaN   171.872697\n",
            "2023-04-13         NaN   172.571642\n",
            "2023-04-14         NaN   173.267244\n"
          ]
        }
      ]
    },
    {
      "cell_type": "code",
      "source": [
        "#Calculate the accuracy from the actual closing price and the predicted closing price for the next 30 days\n",
        "\n",
        "#calculate accuray by subtracting the actual closing price and the predicted closing price and divide by the actual closing price and multiply by 100 to get the percentage\n",
        "accuracy = (actual_thirtydays_values['Close'] - actual_thirtydays_values['Predictions']) / actual_thirtydays_values['Close'] * 100\n",
        "\n",
        "#add the absolute accuracy to the actual closing price and the predicted closing price \n",
        "actual_thirtydays_values['Accuracy'] = abs(accuracy)\n",
        "\n",
        "print (actual_thirtydays_values)\n"
      ],
      "metadata": {
        "colab": {
          "base_uri": "https://localhost:8080/"
        },
        "id": "xyIol3FJZUBy",
        "outputId": "f6cf6d52-9500-4cd3-e158-96b170816874"
      },
      "execution_count": 289,
      "outputs": [
        {
          "output_type": "stream",
          "name": "stdout",
          "text": [
            "                 Close  Predictions  Accuracy\n",
            "Date                                         \n",
            "2023-03-16  155.850006   153.398048  1.573281\n",
            "2023-03-17  155.000000   153.871610  0.727993\n",
            "2023-03-18  157.399994   154.420610  1.892874\n",
            "2023-03-19         NaN   155.019015       NaN\n",
            "2023-03-20         NaN   155.651464       NaN\n",
            "2023-03-21         NaN   156.310126       NaN\n",
            "2023-03-22         NaN   156.984738       NaN\n",
            "2023-03-23         NaN   157.672990       NaN\n",
            "2023-03-24         NaN   158.370461       NaN\n",
            "2023-03-25         NaN   159.074075       NaN\n",
            "2023-03-26         NaN   159.780626       NaN\n",
            "2023-03-27         NaN   160.490467       NaN\n",
            "2023-03-28         NaN   161.201366       NaN\n",
            "2023-03-29         NaN   161.914347       NaN\n",
            "2023-03-30         NaN   162.628760       NaN\n",
            "2023-03-31         NaN   163.345662       NaN\n",
            "2023-04-01         NaN   164.062500       NaN\n",
            "2023-04-02         NaN   164.778804       NaN\n",
            "2023-04-03         NaN   165.495824       NaN\n",
            "2023-04-04         NaN   166.211412       NaN\n",
            "2023-04-05         NaN   166.926199       NaN\n",
            "2023-04-06         NaN   167.640676       NaN\n",
            "2023-04-07         NaN   168.353476       NaN\n",
            "2023-04-08         NaN   169.062014       NaN\n",
            "2023-04-09         NaN   169.767080       NaN\n",
            "2023-04-10         NaN   170.471185       NaN\n",
            "2023-04-11         NaN   171.172502       NaN\n",
            "2023-04-12         NaN   171.872697       NaN\n",
            "2023-04-13         NaN   172.571642       NaN\n",
            "2023-04-14         NaN   173.267244       NaN\n"
          ]
        }
      ]
    }
  ],
  "metadata": {
    "kernelspec": {
      "display_name": "tensorflow",
      "language": "python",
      "name": "python3"
    },
    "language_info": {
      "codemirror_mode": {
        "name": "ipython",
        "version": 3
      },
      "file_extension": ".py",
      "mimetype": "text/x-python",
      "name": "python",
      "nbconvert_exporter": "python",
      "pygments_lexer": "ipython3",
      "version": "3.10.9"
    },
    "orig_nbformat": 4,
    "colab": {
      "provenance": []
    }
  },
  "nbformat": 4,
  "nbformat_minor": 0
}